{
 "cells": [
  {
   "cell_type": "code",
   "execution_count": 34,
   "metadata": {},
   "outputs": [],
   "source": [
    "import os\n",
    "import re\n",
    "import json\n",
    "import pandas as pd\n",
    "import numpy as np\n",
    "import lyricsgenius\n",
    "from dotenv import load_dotenv\n",
    "import openai\n",
    "\n",
    "load_dotenv('/Users/yushunli/env.')\n",
    "genius_key = os.getenv('GENIUS_API')\n",
    "openai.api_key = os.getenv('OPENAI_API_KEY')\n",
    "\n",
    "from requests.exceptions import HTTPError, Timeout\n",
    "from lyricsgenius import Genius\n",
    "\n",
    "genius = lyricsgenius.Genius(genius_key)\n",
    "#Turn off warning messages from pandas\n",
    "pd.options.mode.chained_assignment = None  # default='warn'\n",
    "\n",
    "from sklearn.manifold import TSNE\n",
    "import matplotlib.pyplot as plt\n",
    "import matplotlib\n",
    "import numpy as np\n",
    "import plotly.express as px"
   ]
  },
  {
   "cell_type": "code",
   "execution_count": 3,
   "metadata": {},
   "outputs": [],
   "source": [
    "genius = lyricsgenius.Genius(genius_key)\n",
    "genius.verbose = False # Turn off status messages\n",
    "genius.remove_section_headers = False # Remove section headers (e.g. [Chorus]) from lyrics when searching\n",
    "genius.skip_non_songs = True # Include hits thought to be non-songs (e.g. track lists)\n",
    "genius.excluded_terms = [\"(Live)\"] # Exclude songs with these words in their title"
   ]
  },
  {
   "cell_type": "code",
   "execution_count": 4,
   "metadata": {},
   "outputs": [],
   "source": [
    "def clean_lyrics(lyrics):\n",
    "    # Remove all characters before the first \"[\"\n",
    "    lyrics = re.sub(r'^.*?\\[', '[', lyrics)\n",
    "    \n",
    "    # Remove text starting from a number followed by \"Embed\" to the end\n",
    "    lyrics = re.sub(r'\\d+Embed$', '', lyrics)\n",
    "    \n",
    "    # Remove lines starting with \"See \" and ending with \"You might also like\"\n",
    "    lyrics = re.sub(r'See .*? You might also like', '', lyrics)\n",
    "    \n",
    "    return lyrics"
   ]
  },
  {
   "cell_type": "code",
   "execution_count": 85,
   "metadata": {},
   "outputs": [],
   "source": [
    "#Create embeddings for each song\n",
    "def get_embedding(text, model=\"text-embedding-ada-002\"):\n",
    "    text = text.replace(\"\\n\", \" \")\n",
    "    return openai.Embedding.create(input = [text], model=model)['data'][0]['embedding']"
   ]
  },
  {
   "cell_type": "markdown",
   "metadata": {},
   "source": [
    "# Ingest Discography"
   ]
  },
  {
   "cell_type": "code",
   "execution_count": 28,
   "metadata": {},
   "outputs": [],
   "source": [
    "artist = \"Drake\"\n",
    "albums = [\"Room for Improvement\", \"Comeback Season\",\n",
    "          \"So Far Gone\", \"Thank Me Later\", \"Take Care\", \"Nothing Was the Same\", \"If You're Reading This It's Too Late\", \n",
    "          #\"What a Time to Be Alive\", \n",
    "          \"Views\", \"More Life\", \"Scorpion\", \"Care Package\",\n",
    "          \"Dark Lane Demo Tapes\", \"Scary Hours 2\", \"Certified Lover Boy\", \"Honestly, Nevermind\", \n",
    "          #\"Her Loss\", #\"For All the Dogs\"\n",
    "          ]"
   ]
  },
  {
   "cell_type": "code",
   "execution_count": 22,
   "metadata": {},
   "outputs": [
    {
     "name": "stdout",
     "output_type": "stream",
     "text": [
      "Searching for \"Room for Improvement\" by Drake...\n",
      "Completed Saving Album: Album(id, artist, ...)\n",
      "Searching for \"Comeback Season\" by Drake...\n",
      "Completed Saving Album: Album(id, artist, ...)\n",
      "Searching for \"So Far Gone\" by Drake...\n",
      "Completed Saving Album: Album(id, artist, ...)\n",
      "Searching for \"Thank Me Later\" by Drake...\n",
      "Completed Saving Album: Album(id, artist, ...)\n",
      "Searching for \"Take Care\" by Drake...\n",
      "Completed Saving Album: Album(id, artist, ...)\n",
      "Searching for \"Nothing Was the Same\" by Drake...\n"
     ]
    },
    {
     "ename": "Timeout",
     "evalue": "Request timed out:\nHTTPSConnectionPool(host='genius.com', port=443): Read timed out. (read timeout=5)",
     "output_type": "error",
     "traceback": [
      "\u001b[0;31m---------------------------------------------------------------------------\u001b[0m",
      "\u001b[0;31mtimeout\u001b[0m                                   Traceback (most recent call last)",
      "File \u001b[0;32m/opt/anaconda3/lib/python3.8/site-packages/urllib3/connectionpool.py:536\u001b[0m, in \u001b[0;36mHTTPConnectionPool._make_request\u001b[0;34m(self, conn, method, url, body, headers, retries, timeout, chunked, response_conn, preload_content, decode_content, enforce_content_length)\u001b[0m\n\u001b[1;32m    535\u001b[0m \u001b[39mtry\u001b[39;00m:\n\u001b[0;32m--> 536\u001b[0m     response \u001b[39m=\u001b[39m conn\u001b[39m.\u001b[39;49mgetresponse()\n\u001b[1;32m    537\u001b[0m \u001b[39mexcept\u001b[39;00m (BaseSSLError, \u001b[39mOSError\u001b[39;00m) \u001b[39mas\u001b[39;00m e:\n",
      "File \u001b[0;32m/opt/anaconda3/lib/python3.8/site-packages/urllib3/connection.py:461\u001b[0m, in \u001b[0;36mHTTPConnection.getresponse\u001b[0;34m(self)\u001b[0m\n\u001b[1;32m    460\u001b[0m \u001b[39m# Get the response from http.client.HTTPConnection\u001b[39;00m\n\u001b[0;32m--> 461\u001b[0m httplib_response \u001b[39m=\u001b[39m \u001b[39msuper\u001b[39;49m()\u001b[39m.\u001b[39;49mgetresponse()\n\u001b[1;32m    463\u001b[0m \u001b[39mtry\u001b[39;00m:\n",
      "File \u001b[0;32m/opt/anaconda3/lib/python3.8/http/client.py:1347\u001b[0m, in \u001b[0;36mHTTPConnection.getresponse\u001b[0;34m(self)\u001b[0m\n\u001b[1;32m   1346\u001b[0m \u001b[39mtry\u001b[39;00m:\n\u001b[0;32m-> 1347\u001b[0m     response\u001b[39m.\u001b[39;49mbegin()\n\u001b[1;32m   1348\u001b[0m \u001b[39mexcept\u001b[39;00m \u001b[39mConnectionError\u001b[39;00m:\n",
      "File \u001b[0;32m/opt/anaconda3/lib/python3.8/http/client.py:307\u001b[0m, in \u001b[0;36mHTTPResponse.begin\u001b[0;34m(self)\u001b[0m\n\u001b[1;32m    306\u001b[0m \u001b[39mwhile\u001b[39;00m \u001b[39mTrue\u001b[39;00m:\n\u001b[0;32m--> 307\u001b[0m     version, status, reason \u001b[39m=\u001b[39m \u001b[39mself\u001b[39;49m\u001b[39m.\u001b[39;49m_read_status()\n\u001b[1;32m    308\u001b[0m     \u001b[39mif\u001b[39;00m status \u001b[39m!=\u001b[39m CONTINUE:\n",
      "File \u001b[0;32m/opt/anaconda3/lib/python3.8/http/client.py:268\u001b[0m, in \u001b[0;36mHTTPResponse._read_status\u001b[0;34m(self)\u001b[0m\n\u001b[1;32m    267\u001b[0m \u001b[39mdef\u001b[39;00m \u001b[39m_read_status\u001b[39m(\u001b[39mself\u001b[39m):\n\u001b[0;32m--> 268\u001b[0m     line \u001b[39m=\u001b[39m \u001b[39mstr\u001b[39m(\u001b[39mself\u001b[39;49m\u001b[39m.\u001b[39;49mfp\u001b[39m.\u001b[39;49mreadline(_MAXLINE \u001b[39m+\u001b[39;49m \u001b[39m1\u001b[39;49m), \u001b[39m\"\u001b[39m\u001b[39miso-8859-1\u001b[39m\u001b[39m\"\u001b[39m)\n\u001b[1;32m    269\u001b[0m     \u001b[39mif\u001b[39;00m \u001b[39mlen\u001b[39m(line) \u001b[39m>\u001b[39m _MAXLINE:\n",
      "File \u001b[0;32m/opt/anaconda3/lib/python3.8/socket.py:669\u001b[0m, in \u001b[0;36mSocketIO.readinto\u001b[0;34m(self, b)\u001b[0m\n\u001b[1;32m    668\u001b[0m \u001b[39mtry\u001b[39;00m:\n\u001b[0;32m--> 669\u001b[0m     \u001b[39mreturn\u001b[39;00m \u001b[39mself\u001b[39;49m\u001b[39m.\u001b[39;49m_sock\u001b[39m.\u001b[39;49mrecv_into(b)\n\u001b[1;32m    670\u001b[0m \u001b[39mexcept\u001b[39;00m timeout:\n",
      "File \u001b[0;32m/opt/anaconda3/lib/python3.8/ssl.py:1241\u001b[0m, in \u001b[0;36mSSLSocket.recv_into\u001b[0;34m(self, buffer, nbytes, flags)\u001b[0m\n\u001b[1;32m   1238\u001b[0m         \u001b[39mraise\u001b[39;00m \u001b[39mValueError\u001b[39;00m(\n\u001b[1;32m   1239\u001b[0m           \u001b[39m\"\u001b[39m\u001b[39mnon-zero flags not allowed in calls to recv_into() on \u001b[39m\u001b[39m%s\u001b[39;00m\u001b[39m\"\u001b[39m \u001b[39m%\u001b[39m\n\u001b[1;32m   1240\u001b[0m           \u001b[39mself\u001b[39m\u001b[39m.\u001b[39m\u001b[39m__class__\u001b[39m)\n\u001b[0;32m-> 1241\u001b[0m     \u001b[39mreturn\u001b[39;00m \u001b[39mself\u001b[39;49m\u001b[39m.\u001b[39;49mread(nbytes, buffer)\n\u001b[1;32m   1242\u001b[0m \u001b[39melse\u001b[39;00m:\n",
      "File \u001b[0;32m/opt/anaconda3/lib/python3.8/ssl.py:1099\u001b[0m, in \u001b[0;36mSSLSocket.read\u001b[0;34m(self, len, buffer)\u001b[0m\n\u001b[1;32m   1098\u001b[0m \u001b[39mif\u001b[39;00m buffer \u001b[39mis\u001b[39;00m \u001b[39mnot\u001b[39;00m \u001b[39mNone\u001b[39;00m:\n\u001b[0;32m-> 1099\u001b[0m     \u001b[39mreturn\u001b[39;00m \u001b[39mself\u001b[39;49m\u001b[39m.\u001b[39;49m_sslobj\u001b[39m.\u001b[39;49mread(\u001b[39mlen\u001b[39;49m, buffer)\n\u001b[1;32m   1100\u001b[0m \u001b[39melse\u001b[39;00m:\n",
      "\u001b[0;31mtimeout\u001b[0m: The read operation timed out",
      "\nThe above exception was the direct cause of the following exception:\n",
      "\u001b[0;31mReadTimeoutError\u001b[0m                          Traceback (most recent call last)",
      "File \u001b[0;32m/opt/anaconda3/lib/python3.8/site-packages/requests/adapters.py:486\u001b[0m, in \u001b[0;36mHTTPAdapter.send\u001b[0;34m(self, request, stream, timeout, verify, cert, proxies)\u001b[0m\n\u001b[1;32m    485\u001b[0m \u001b[39mtry\u001b[39;00m:\n\u001b[0;32m--> 486\u001b[0m     resp \u001b[39m=\u001b[39m conn\u001b[39m.\u001b[39;49murlopen(\n\u001b[1;32m    487\u001b[0m         method\u001b[39m=\u001b[39;49mrequest\u001b[39m.\u001b[39;49mmethod,\n\u001b[1;32m    488\u001b[0m         url\u001b[39m=\u001b[39;49murl,\n\u001b[1;32m    489\u001b[0m         body\u001b[39m=\u001b[39;49mrequest\u001b[39m.\u001b[39;49mbody,\n\u001b[1;32m    490\u001b[0m         headers\u001b[39m=\u001b[39;49mrequest\u001b[39m.\u001b[39;49mheaders,\n\u001b[1;32m    491\u001b[0m         redirect\u001b[39m=\u001b[39;49m\u001b[39mFalse\u001b[39;49;00m,\n\u001b[1;32m    492\u001b[0m         assert_same_host\u001b[39m=\u001b[39;49m\u001b[39mFalse\u001b[39;49;00m,\n\u001b[1;32m    493\u001b[0m         preload_content\u001b[39m=\u001b[39;49m\u001b[39mFalse\u001b[39;49;00m,\n\u001b[1;32m    494\u001b[0m         decode_content\u001b[39m=\u001b[39;49m\u001b[39mFalse\u001b[39;49;00m,\n\u001b[1;32m    495\u001b[0m         retries\u001b[39m=\u001b[39;49m\u001b[39mself\u001b[39;49m\u001b[39m.\u001b[39;49mmax_retries,\n\u001b[1;32m    496\u001b[0m         timeout\u001b[39m=\u001b[39;49mtimeout,\n\u001b[1;32m    497\u001b[0m         chunked\u001b[39m=\u001b[39;49mchunked,\n\u001b[1;32m    498\u001b[0m     )\n\u001b[1;32m    500\u001b[0m \u001b[39mexcept\u001b[39;00m (ProtocolError, \u001b[39mOSError\u001b[39;00m) \u001b[39mas\u001b[39;00m err:\n",
      "File \u001b[0;32m/opt/anaconda3/lib/python3.8/site-packages/urllib3/connectionpool.py:844\u001b[0m, in \u001b[0;36mHTTPConnectionPool.urlopen\u001b[0;34m(self, method, url, body, headers, retries, redirect, assert_same_host, timeout, pool_timeout, release_conn, chunked, body_pos, preload_content, decode_content, **response_kw)\u001b[0m\n\u001b[1;32m    842\u001b[0m     new_e \u001b[39m=\u001b[39m ProtocolError(\u001b[39m\"\u001b[39m\u001b[39mConnection aborted.\u001b[39m\u001b[39m\"\u001b[39m, new_e)\n\u001b[0;32m--> 844\u001b[0m retries \u001b[39m=\u001b[39m retries\u001b[39m.\u001b[39;49mincrement(\n\u001b[1;32m    845\u001b[0m     method, url, error\u001b[39m=\u001b[39;49mnew_e, _pool\u001b[39m=\u001b[39;49m\u001b[39mself\u001b[39;49m, _stacktrace\u001b[39m=\u001b[39;49msys\u001b[39m.\u001b[39;49mexc_info()[\u001b[39m2\u001b[39;49m]\n\u001b[1;32m    846\u001b[0m )\n\u001b[1;32m    847\u001b[0m retries\u001b[39m.\u001b[39msleep()\n",
      "File \u001b[0;32m/opt/anaconda3/lib/python3.8/site-packages/urllib3/util/retry.py:470\u001b[0m, in \u001b[0;36mRetry.increment\u001b[0;34m(self, method, url, response, error, _pool, _stacktrace)\u001b[0m\n\u001b[1;32m    469\u001b[0m \u001b[39mif\u001b[39;00m read \u001b[39mis\u001b[39;00m \u001b[39mFalse\u001b[39;00m \u001b[39mor\u001b[39;00m method \u001b[39mis\u001b[39;00m \u001b[39mNone\u001b[39;00m \u001b[39mor\u001b[39;00m \u001b[39mnot\u001b[39;00m \u001b[39mself\u001b[39m\u001b[39m.\u001b[39m_is_method_retryable(method):\n\u001b[0;32m--> 470\u001b[0m     \u001b[39mraise\u001b[39;00m reraise(\u001b[39mtype\u001b[39;49m(error), error, _stacktrace)\n\u001b[1;32m    471\u001b[0m \u001b[39melif\u001b[39;00m read \u001b[39mis\u001b[39;00m \u001b[39mnot\u001b[39;00m \u001b[39mNone\u001b[39;00m:\n",
      "File \u001b[0;32m/opt/anaconda3/lib/python3.8/site-packages/urllib3/util/util.py:39\u001b[0m, in \u001b[0;36mreraise\u001b[0;34m(tp, value, tb)\u001b[0m\n\u001b[1;32m     38\u001b[0m         \u001b[39mraise\u001b[39;00m value\u001b[39m.\u001b[39mwith_traceback(tb)\n\u001b[0;32m---> 39\u001b[0m     \u001b[39mraise\u001b[39;00m value\n\u001b[1;32m     40\u001b[0m \u001b[39mfinally\u001b[39;00m:\n",
      "File \u001b[0;32m/opt/anaconda3/lib/python3.8/site-packages/urllib3/connectionpool.py:790\u001b[0m, in \u001b[0;36mHTTPConnectionPool.urlopen\u001b[0;34m(self, method, url, body, headers, retries, redirect, assert_same_host, timeout, pool_timeout, release_conn, chunked, body_pos, preload_content, decode_content, **response_kw)\u001b[0m\n\u001b[1;32m    789\u001b[0m \u001b[39m# Make the request on the HTTPConnection object\u001b[39;00m\n\u001b[0;32m--> 790\u001b[0m response \u001b[39m=\u001b[39m \u001b[39mself\u001b[39;49m\u001b[39m.\u001b[39;49m_make_request(\n\u001b[1;32m    791\u001b[0m     conn,\n\u001b[1;32m    792\u001b[0m     method,\n\u001b[1;32m    793\u001b[0m     url,\n\u001b[1;32m    794\u001b[0m     timeout\u001b[39m=\u001b[39;49mtimeout_obj,\n\u001b[1;32m    795\u001b[0m     body\u001b[39m=\u001b[39;49mbody,\n\u001b[1;32m    796\u001b[0m     headers\u001b[39m=\u001b[39;49mheaders,\n\u001b[1;32m    797\u001b[0m     chunked\u001b[39m=\u001b[39;49mchunked,\n\u001b[1;32m    798\u001b[0m     retries\u001b[39m=\u001b[39;49mretries,\n\u001b[1;32m    799\u001b[0m     response_conn\u001b[39m=\u001b[39;49mresponse_conn,\n\u001b[1;32m    800\u001b[0m     preload_content\u001b[39m=\u001b[39;49mpreload_content,\n\u001b[1;32m    801\u001b[0m     decode_content\u001b[39m=\u001b[39;49mdecode_content,\n\u001b[1;32m    802\u001b[0m     \u001b[39m*\u001b[39;49m\u001b[39m*\u001b[39;49mresponse_kw,\n\u001b[1;32m    803\u001b[0m )\n\u001b[1;32m    805\u001b[0m \u001b[39m# Everything went great!\u001b[39;00m\n",
      "File \u001b[0;32m/opt/anaconda3/lib/python3.8/site-packages/urllib3/connectionpool.py:538\u001b[0m, in \u001b[0;36mHTTPConnectionPool._make_request\u001b[0;34m(self, conn, method, url, body, headers, retries, timeout, chunked, response_conn, preload_content, decode_content, enforce_content_length)\u001b[0m\n\u001b[1;32m    537\u001b[0m \u001b[39mexcept\u001b[39;00m (BaseSSLError, \u001b[39mOSError\u001b[39;00m) \u001b[39mas\u001b[39;00m e:\n\u001b[0;32m--> 538\u001b[0m     \u001b[39mself\u001b[39;49m\u001b[39m.\u001b[39;49m_raise_timeout(err\u001b[39m=\u001b[39;49me, url\u001b[39m=\u001b[39;49murl, timeout_value\u001b[39m=\u001b[39;49mread_timeout)\n\u001b[1;32m    539\u001b[0m     \u001b[39mraise\u001b[39;00m\n",
      "File \u001b[0;32m/opt/anaconda3/lib/python3.8/site-packages/urllib3/connectionpool.py:370\u001b[0m, in \u001b[0;36mHTTPConnectionPool._raise_timeout\u001b[0;34m(self, err, url, timeout_value)\u001b[0m\n\u001b[1;32m    369\u001b[0m \u001b[39mif\u001b[39;00m \u001b[39misinstance\u001b[39m(err, SocketTimeout):\n\u001b[0;32m--> 370\u001b[0m     \u001b[39mraise\u001b[39;00m ReadTimeoutError(\n\u001b[1;32m    371\u001b[0m         \u001b[39mself\u001b[39m, url, \u001b[39mf\u001b[39m\u001b[39m\"\u001b[39m\u001b[39mRead timed out. (read timeout=\u001b[39m\u001b[39m{\u001b[39;00mtimeout_value\u001b[39m}\u001b[39;00m\u001b[39m)\u001b[39m\u001b[39m\"\u001b[39m\n\u001b[1;32m    372\u001b[0m     ) \u001b[39mfrom\u001b[39;00m \u001b[39merr\u001b[39;00m\n\u001b[1;32m    374\u001b[0m \u001b[39m# See the above comment about EAGAIN in Python 3.\u001b[39;00m\n",
      "\u001b[0;31mReadTimeoutError\u001b[0m: HTTPSConnectionPool(host='genius.com', port=443): Read timed out. (read timeout=5)",
      "\nDuring handling of the above exception, another exception occurred:\n",
      "\u001b[0;31mReadTimeout\u001b[0m                               Traceback (most recent call last)",
      "File \u001b[0;32m/opt/anaconda3/lib/python3.8/site-packages/lyricsgenius/api/base.py:75\u001b[0m, in \u001b[0;36mSender._make_request\u001b[0;34m(self, path, method, params_, public_api, web, **kwargs)\u001b[0m\n\u001b[1;32m     74\u001b[0m \u001b[39mtry\u001b[39;00m:\n\u001b[0;32m---> 75\u001b[0m     response \u001b[39m=\u001b[39m \u001b[39mself\u001b[39;49m\u001b[39m.\u001b[39;49m_session\u001b[39m.\u001b[39;49mrequest(method, uri,\n\u001b[1;32m     76\u001b[0m                                      timeout\u001b[39m=\u001b[39;49m\u001b[39mself\u001b[39;49m\u001b[39m.\u001b[39;49mtimeout,\n\u001b[1;32m     77\u001b[0m                                      params\u001b[39m=\u001b[39;49mparams_,\n\u001b[1;32m     78\u001b[0m                                      headers\u001b[39m=\u001b[39;49mheader,\n\u001b[1;32m     79\u001b[0m                                      \u001b[39m*\u001b[39;49m\u001b[39m*\u001b[39;49mkwargs)\n\u001b[1;32m     80\u001b[0m     response\u001b[39m.\u001b[39mraise_for_status()\n",
      "File \u001b[0;32m/opt/anaconda3/lib/python3.8/site-packages/requests/sessions.py:589\u001b[0m, in \u001b[0;36mSession.request\u001b[0;34m(self, method, url, params, data, headers, cookies, files, auth, timeout, allow_redirects, proxies, hooks, stream, verify, cert, json)\u001b[0m\n\u001b[1;32m    588\u001b[0m send_kwargs\u001b[39m.\u001b[39mupdate(settings)\n\u001b[0;32m--> 589\u001b[0m resp \u001b[39m=\u001b[39m \u001b[39mself\u001b[39;49m\u001b[39m.\u001b[39;49msend(prep, \u001b[39m*\u001b[39;49m\u001b[39m*\u001b[39;49msend_kwargs)\n\u001b[1;32m    591\u001b[0m \u001b[39mreturn\u001b[39;00m resp\n",
      "File \u001b[0;32m/opt/anaconda3/lib/python3.8/site-packages/requests/sessions.py:703\u001b[0m, in \u001b[0;36mSession.send\u001b[0;34m(self, request, **kwargs)\u001b[0m\n\u001b[1;32m    702\u001b[0m \u001b[39m# Send the request\u001b[39;00m\n\u001b[0;32m--> 703\u001b[0m r \u001b[39m=\u001b[39m adapter\u001b[39m.\u001b[39;49msend(request, \u001b[39m*\u001b[39;49m\u001b[39m*\u001b[39;49mkwargs)\n\u001b[1;32m    705\u001b[0m \u001b[39m# Total elapsed time of the request (approximately)\u001b[39;00m\n",
      "File \u001b[0;32m/opt/anaconda3/lib/python3.8/site-packages/requests/adapters.py:532\u001b[0m, in \u001b[0;36mHTTPAdapter.send\u001b[0;34m(self, request, stream, timeout, verify, cert, proxies)\u001b[0m\n\u001b[1;32m    531\u001b[0m \u001b[39melif\u001b[39;00m \u001b[39misinstance\u001b[39m(e, ReadTimeoutError):\n\u001b[0;32m--> 532\u001b[0m     \u001b[39mraise\u001b[39;00m ReadTimeout(e, request\u001b[39m=\u001b[39mrequest)\n\u001b[1;32m    533\u001b[0m \u001b[39melif\u001b[39;00m \u001b[39misinstance\u001b[39m(e, _InvalidHeader):\n",
      "\u001b[0;31mReadTimeout\u001b[0m: HTTPSConnectionPool(host='genius.com', port=443): Read timed out. (read timeout=5)",
      "\nDuring handling of the above exception, another exception occurred:\n",
      "\u001b[0;31mTimeout\u001b[0m                                   Traceback (most recent call last)",
      "\u001b[1;32m/Users/yushunli/Documents/Data Science/rap_llm/drake_discography.ipynb Cell 12\u001b[0m line \u001b[0;36m3\n\u001b[1;32m      <a href='vscode-notebook-cell:/Users/yushunli/Documents/Data%20Science/rap_llm/drake_discography.ipynb#X15sZmlsZQ%3D%3D?line=0'>1</a>\u001b[0m album_list \u001b[39m=\u001b[39m []\n\u001b[1;32m      <a href='vscode-notebook-cell:/Users/yushunli/Documents/Data%20Science/rap_llm/drake_discography.ipynb#X15sZmlsZQ%3D%3D?line=1'>2</a>\u001b[0m \u001b[39mfor\u001b[39;00m album \u001b[39min\u001b[39;00m albums:\n\u001b[0;32m----> <a href='vscode-notebook-cell:/Users/yushunli/Documents/Data%20Science/rap_llm/drake_discography.ipynb#X15sZmlsZQ%3D%3D?line=2'>3</a>\u001b[0m     album \u001b[39m=\u001b[39m genius\u001b[39m.\u001b[39;49msearch_album(album, artist)\n\u001b[1;32m      <a href='vscode-notebook-cell:/Users/yushunli/Documents/Data%20Science/rap_llm/drake_discography.ipynb#X15sZmlsZQ%3D%3D?line=3'>4</a>\u001b[0m     album_list\u001b[39m.\u001b[39mappend(album)\n\u001b[1;32m      <a href='vscode-notebook-cell:/Users/yushunli/Documents/Data%20Science/rap_llm/drake_discography.ipynb#X15sZmlsZQ%3D%3D?line=4'>5</a>\u001b[0m     \u001b[39mprint\u001b[39m(\u001b[39m\"\u001b[39m\u001b[39mCompleted Saving Album:\u001b[39m\u001b[39m\"\u001b[39m, album)\n",
      "File \u001b[0;32m/opt/anaconda3/lib/python3.8/site-packages/lyricsgenius/genius.py:343\u001b[0m, in \u001b[0;36mGenius.search_album\u001b[0;34m(self, name, artist, album_id, get_full_info, text_format)\u001b[0m\n\u001b[1;32m    340\u001b[0m song_info \u001b[39m=\u001b[39m track[\u001b[39m'\u001b[39m\u001b[39msong\u001b[39m\u001b[39m'\u001b[39m]\n\u001b[1;32m    341\u001b[0m \u001b[39mif\u001b[39;00m (song_info[\u001b[39m'\u001b[39m\u001b[39mlyrics_state\u001b[39m\u001b[39m'\u001b[39m] \u001b[39m==\u001b[39m \u001b[39m'\u001b[39m\u001b[39mcomplete\u001b[39m\u001b[39m'\u001b[39m\n\u001b[1;32m    342\u001b[0m         \u001b[39mand\u001b[39;00m \u001b[39mnot\u001b[39;00m song_info\u001b[39m.\u001b[39mget(\u001b[39m'\u001b[39m\u001b[39minstrumental\u001b[39m\u001b[39m'\u001b[39m)):\n\u001b[0;32m--> 343\u001b[0m     song_lyrics \u001b[39m=\u001b[39m \u001b[39mself\u001b[39;49m\u001b[39m.\u001b[39;49mlyrics(song_url\u001b[39m=\u001b[39;49msong_info[\u001b[39m'\u001b[39;49m\u001b[39murl\u001b[39;49m\u001b[39m'\u001b[39;49m])\n\u001b[1;32m    344\u001b[0m \u001b[39melse\u001b[39;00m:\n\u001b[1;32m    345\u001b[0m     song_lyrics \u001b[39m=\u001b[39m \u001b[39m\"\u001b[39m\u001b[39m\"\u001b[39m\n",
      "File \u001b[0;32m/opt/anaconda3/lib/python3.8/site-packages/lyricsgenius/genius.py:132\u001b[0m, in \u001b[0;36mGenius.lyrics\u001b[0;34m(self, song_id, song_url, remove_section_headers)\u001b[0m\n\u001b[1;32m    128\u001b[0m     path \u001b[39m=\u001b[39m \u001b[39mself\u001b[39m\u001b[39m.\u001b[39msong(song_id)[\u001b[39m'\u001b[39m\u001b[39msong\u001b[39m\u001b[39m'\u001b[39m][\u001b[39m'\u001b[39m\u001b[39mpath\u001b[39m\u001b[39m'\u001b[39m][\u001b[39m1\u001b[39m:]\n\u001b[1;32m    130\u001b[0m \u001b[39m# Scrape the song lyrics from the HTML\u001b[39;00m\n\u001b[1;32m    131\u001b[0m html \u001b[39m=\u001b[39m BeautifulSoup(\n\u001b[0;32m--> 132\u001b[0m     \u001b[39mself\u001b[39;49m\u001b[39m.\u001b[39;49m_make_request(path, web\u001b[39m=\u001b[39;49m\u001b[39mTrue\u001b[39;49;00m)\u001b[39m.\u001b[39mreplace(\u001b[39m'\u001b[39m\u001b[39m<br/>\u001b[39m\u001b[39m'\u001b[39m, \u001b[39m'\u001b[39m\u001b[39m\\n\u001b[39;00m\u001b[39m'\u001b[39m),\n\u001b[1;32m    133\u001b[0m     \u001b[39m\"\u001b[39m\u001b[39mhtml.parser\u001b[39m\u001b[39m\"\u001b[39m\n\u001b[1;32m    134\u001b[0m )\n\u001b[1;32m    136\u001b[0m \u001b[39m# Determine the class of the div\u001b[39;00m\n\u001b[1;32m    137\u001b[0m div \u001b[39m=\u001b[39m html\u001b[39m.\u001b[39mfind(\u001b[39m\"\u001b[39m\u001b[39mdiv\u001b[39m\u001b[39m\"\u001b[39m, class_\u001b[39m=\u001b[39mre\u001b[39m.\u001b[39mcompile(\u001b[39m\"\u001b[39m\u001b[39m^lyrics$|Lyrics__Root\u001b[39m\u001b[39m\"\u001b[39m))\n",
      "File \u001b[0;32m/opt/anaconda3/lib/python3.8/site-packages/lyricsgenius/api/base.py:84\u001b[0m, in \u001b[0;36mSender._make_request\u001b[0;34m(self, path, method, params_, public_api, web, **kwargs)\u001b[0m\n\u001b[1;32m     82\u001b[0m     error \u001b[39m=\u001b[39m \u001b[39m\"\u001b[39m\u001b[39mRequest timed out:\u001b[39m\u001b[39m\\n\u001b[39;00m\u001b[39m{e}\u001b[39;00m\u001b[39m\"\u001b[39m\u001b[39m.\u001b[39mformat(e\u001b[39m=\u001b[39me)\n\u001b[1;32m     83\u001b[0m     \u001b[39mif\u001b[39;00m tries \u001b[39m>\u001b[39m \u001b[39mself\u001b[39m\u001b[39m.\u001b[39mretries:\n\u001b[0;32m---> 84\u001b[0m         \u001b[39mraise\u001b[39;00m Timeout(error)\n\u001b[1;32m     85\u001b[0m \u001b[39mexcept\u001b[39;00m HTTPError \u001b[39mas\u001b[39;00m e:\n\u001b[1;32m     86\u001b[0m     error \u001b[39m=\u001b[39m get_description(e)\n",
      "\u001b[0;31mTimeout\u001b[0m: Request timed out:\nHTTPSConnectionPool(host='genius.com', port=443): Read timed out. (read timeout=5)"
     ]
    }
   ],
   "source": [
    "album_list = []\n",
    "for album in albums:\n",
    "    album = genius.search_album(album, artist)\n",
    "    album_list.append(album)\n",
    "    print(\"Completed Saving Album:\", album)"
   ]
  },
  {
   "cell_type": "code",
   "execution_count": 27,
   "metadata": {},
   "outputs": [
    {
     "name": "stdout",
     "output_type": "stream",
     "text": [
      "Searching for \"Nothing Was the Same\" by Drake...\n",
      "Completed Saving Album: Nothing Was the Same\n",
      "Searching for \"If You're Reading This It's Too Late\" by Drake...\n",
      "Completed Saving Album: If You're Reading This It's Too Late\n",
      "Searching for \"What a Time to Be Alive\" by Drake...\n"
     ]
    },
    {
     "ename": "Timeout",
     "evalue": "Request timed out:\nHTTPSConnectionPool(host='genius.com', port=443): Read timed out. (read timeout=5)",
     "output_type": "error",
     "traceback": [
      "\u001b[0;31m---------------------------------------------------------------------------\u001b[0m",
      "\u001b[0;31mtimeout\u001b[0m                                   Traceback (most recent call last)",
      "File \u001b[0;32m/opt/anaconda3/lib/python3.8/site-packages/urllib3/connectionpool.py:536\u001b[0m, in \u001b[0;36mHTTPConnectionPool._make_request\u001b[0;34m(self, conn, method, url, body, headers, retries, timeout, chunked, response_conn, preload_content, decode_content, enforce_content_length)\u001b[0m\n\u001b[1;32m    535\u001b[0m \u001b[39mtry\u001b[39;00m:\n\u001b[0;32m--> 536\u001b[0m     response \u001b[39m=\u001b[39m conn\u001b[39m.\u001b[39;49mgetresponse()\n\u001b[1;32m    537\u001b[0m \u001b[39mexcept\u001b[39;00m (BaseSSLError, \u001b[39mOSError\u001b[39;00m) \u001b[39mas\u001b[39;00m e:\n",
      "File \u001b[0;32m/opt/anaconda3/lib/python3.8/site-packages/urllib3/connection.py:461\u001b[0m, in \u001b[0;36mHTTPConnection.getresponse\u001b[0;34m(self)\u001b[0m\n\u001b[1;32m    460\u001b[0m \u001b[39m# Get the response from http.client.HTTPConnection\u001b[39;00m\n\u001b[0;32m--> 461\u001b[0m httplib_response \u001b[39m=\u001b[39m \u001b[39msuper\u001b[39;49m()\u001b[39m.\u001b[39;49mgetresponse()\n\u001b[1;32m    463\u001b[0m \u001b[39mtry\u001b[39;00m:\n",
      "File \u001b[0;32m/opt/anaconda3/lib/python3.8/http/client.py:1347\u001b[0m, in \u001b[0;36mHTTPConnection.getresponse\u001b[0;34m(self)\u001b[0m\n\u001b[1;32m   1346\u001b[0m \u001b[39mtry\u001b[39;00m:\n\u001b[0;32m-> 1347\u001b[0m     response\u001b[39m.\u001b[39;49mbegin()\n\u001b[1;32m   1348\u001b[0m \u001b[39mexcept\u001b[39;00m \u001b[39mConnectionError\u001b[39;00m:\n",
      "File \u001b[0;32m/opt/anaconda3/lib/python3.8/http/client.py:307\u001b[0m, in \u001b[0;36mHTTPResponse.begin\u001b[0;34m(self)\u001b[0m\n\u001b[1;32m    306\u001b[0m \u001b[39mwhile\u001b[39;00m \u001b[39mTrue\u001b[39;00m:\n\u001b[0;32m--> 307\u001b[0m     version, status, reason \u001b[39m=\u001b[39m \u001b[39mself\u001b[39;49m\u001b[39m.\u001b[39;49m_read_status()\n\u001b[1;32m    308\u001b[0m     \u001b[39mif\u001b[39;00m status \u001b[39m!=\u001b[39m CONTINUE:\n",
      "File \u001b[0;32m/opt/anaconda3/lib/python3.8/http/client.py:268\u001b[0m, in \u001b[0;36mHTTPResponse._read_status\u001b[0;34m(self)\u001b[0m\n\u001b[1;32m    267\u001b[0m \u001b[39mdef\u001b[39;00m \u001b[39m_read_status\u001b[39m(\u001b[39mself\u001b[39m):\n\u001b[0;32m--> 268\u001b[0m     line \u001b[39m=\u001b[39m \u001b[39mstr\u001b[39m(\u001b[39mself\u001b[39;49m\u001b[39m.\u001b[39;49mfp\u001b[39m.\u001b[39;49mreadline(_MAXLINE \u001b[39m+\u001b[39;49m \u001b[39m1\u001b[39;49m), \u001b[39m\"\u001b[39m\u001b[39miso-8859-1\u001b[39m\u001b[39m\"\u001b[39m)\n\u001b[1;32m    269\u001b[0m     \u001b[39mif\u001b[39;00m \u001b[39mlen\u001b[39m(line) \u001b[39m>\u001b[39m _MAXLINE:\n",
      "File \u001b[0;32m/opt/anaconda3/lib/python3.8/socket.py:669\u001b[0m, in \u001b[0;36mSocketIO.readinto\u001b[0;34m(self, b)\u001b[0m\n\u001b[1;32m    668\u001b[0m \u001b[39mtry\u001b[39;00m:\n\u001b[0;32m--> 669\u001b[0m     \u001b[39mreturn\u001b[39;00m \u001b[39mself\u001b[39;49m\u001b[39m.\u001b[39;49m_sock\u001b[39m.\u001b[39;49mrecv_into(b)\n\u001b[1;32m    670\u001b[0m \u001b[39mexcept\u001b[39;00m timeout:\n",
      "File \u001b[0;32m/opt/anaconda3/lib/python3.8/ssl.py:1241\u001b[0m, in \u001b[0;36mSSLSocket.recv_into\u001b[0;34m(self, buffer, nbytes, flags)\u001b[0m\n\u001b[1;32m   1238\u001b[0m         \u001b[39mraise\u001b[39;00m \u001b[39mValueError\u001b[39;00m(\n\u001b[1;32m   1239\u001b[0m           \u001b[39m\"\u001b[39m\u001b[39mnon-zero flags not allowed in calls to recv_into() on \u001b[39m\u001b[39m%s\u001b[39;00m\u001b[39m\"\u001b[39m \u001b[39m%\u001b[39m\n\u001b[1;32m   1240\u001b[0m           \u001b[39mself\u001b[39m\u001b[39m.\u001b[39m\u001b[39m__class__\u001b[39m)\n\u001b[0;32m-> 1241\u001b[0m     \u001b[39mreturn\u001b[39;00m \u001b[39mself\u001b[39;49m\u001b[39m.\u001b[39;49mread(nbytes, buffer)\n\u001b[1;32m   1242\u001b[0m \u001b[39melse\u001b[39;00m:\n",
      "File \u001b[0;32m/opt/anaconda3/lib/python3.8/ssl.py:1099\u001b[0m, in \u001b[0;36mSSLSocket.read\u001b[0;34m(self, len, buffer)\u001b[0m\n\u001b[1;32m   1098\u001b[0m \u001b[39mif\u001b[39;00m buffer \u001b[39mis\u001b[39;00m \u001b[39mnot\u001b[39;00m \u001b[39mNone\u001b[39;00m:\n\u001b[0;32m-> 1099\u001b[0m     \u001b[39mreturn\u001b[39;00m \u001b[39mself\u001b[39;49m\u001b[39m.\u001b[39;49m_sslobj\u001b[39m.\u001b[39;49mread(\u001b[39mlen\u001b[39;49m, buffer)\n\u001b[1;32m   1100\u001b[0m \u001b[39melse\u001b[39;00m:\n",
      "\u001b[0;31mtimeout\u001b[0m: The read operation timed out",
      "\nThe above exception was the direct cause of the following exception:\n",
      "\u001b[0;31mReadTimeoutError\u001b[0m                          Traceback (most recent call last)",
      "File \u001b[0;32m/opt/anaconda3/lib/python3.8/site-packages/requests/adapters.py:486\u001b[0m, in \u001b[0;36mHTTPAdapter.send\u001b[0;34m(self, request, stream, timeout, verify, cert, proxies)\u001b[0m\n\u001b[1;32m    485\u001b[0m \u001b[39mtry\u001b[39;00m:\n\u001b[0;32m--> 486\u001b[0m     resp \u001b[39m=\u001b[39m conn\u001b[39m.\u001b[39;49murlopen(\n\u001b[1;32m    487\u001b[0m         method\u001b[39m=\u001b[39;49mrequest\u001b[39m.\u001b[39;49mmethod,\n\u001b[1;32m    488\u001b[0m         url\u001b[39m=\u001b[39;49murl,\n\u001b[1;32m    489\u001b[0m         body\u001b[39m=\u001b[39;49mrequest\u001b[39m.\u001b[39;49mbody,\n\u001b[1;32m    490\u001b[0m         headers\u001b[39m=\u001b[39;49mrequest\u001b[39m.\u001b[39;49mheaders,\n\u001b[1;32m    491\u001b[0m         redirect\u001b[39m=\u001b[39;49m\u001b[39mFalse\u001b[39;49;00m,\n\u001b[1;32m    492\u001b[0m         assert_same_host\u001b[39m=\u001b[39;49m\u001b[39mFalse\u001b[39;49;00m,\n\u001b[1;32m    493\u001b[0m         preload_content\u001b[39m=\u001b[39;49m\u001b[39mFalse\u001b[39;49;00m,\n\u001b[1;32m    494\u001b[0m         decode_content\u001b[39m=\u001b[39;49m\u001b[39mFalse\u001b[39;49;00m,\n\u001b[1;32m    495\u001b[0m         retries\u001b[39m=\u001b[39;49m\u001b[39mself\u001b[39;49m\u001b[39m.\u001b[39;49mmax_retries,\n\u001b[1;32m    496\u001b[0m         timeout\u001b[39m=\u001b[39;49mtimeout,\n\u001b[1;32m    497\u001b[0m         chunked\u001b[39m=\u001b[39;49mchunked,\n\u001b[1;32m    498\u001b[0m     )\n\u001b[1;32m    500\u001b[0m \u001b[39mexcept\u001b[39;00m (ProtocolError, \u001b[39mOSError\u001b[39;00m) \u001b[39mas\u001b[39;00m err:\n",
      "File \u001b[0;32m/opt/anaconda3/lib/python3.8/site-packages/urllib3/connectionpool.py:844\u001b[0m, in \u001b[0;36mHTTPConnectionPool.urlopen\u001b[0;34m(self, method, url, body, headers, retries, redirect, assert_same_host, timeout, pool_timeout, release_conn, chunked, body_pos, preload_content, decode_content, **response_kw)\u001b[0m\n\u001b[1;32m    842\u001b[0m     new_e \u001b[39m=\u001b[39m ProtocolError(\u001b[39m\"\u001b[39m\u001b[39mConnection aborted.\u001b[39m\u001b[39m\"\u001b[39m, new_e)\n\u001b[0;32m--> 844\u001b[0m retries \u001b[39m=\u001b[39m retries\u001b[39m.\u001b[39;49mincrement(\n\u001b[1;32m    845\u001b[0m     method, url, error\u001b[39m=\u001b[39;49mnew_e, _pool\u001b[39m=\u001b[39;49m\u001b[39mself\u001b[39;49m, _stacktrace\u001b[39m=\u001b[39;49msys\u001b[39m.\u001b[39;49mexc_info()[\u001b[39m2\u001b[39;49m]\n\u001b[1;32m    846\u001b[0m )\n\u001b[1;32m    847\u001b[0m retries\u001b[39m.\u001b[39msleep()\n",
      "File \u001b[0;32m/opt/anaconda3/lib/python3.8/site-packages/urllib3/util/retry.py:470\u001b[0m, in \u001b[0;36mRetry.increment\u001b[0;34m(self, method, url, response, error, _pool, _stacktrace)\u001b[0m\n\u001b[1;32m    469\u001b[0m \u001b[39mif\u001b[39;00m read \u001b[39mis\u001b[39;00m \u001b[39mFalse\u001b[39;00m \u001b[39mor\u001b[39;00m method \u001b[39mis\u001b[39;00m \u001b[39mNone\u001b[39;00m \u001b[39mor\u001b[39;00m \u001b[39mnot\u001b[39;00m \u001b[39mself\u001b[39m\u001b[39m.\u001b[39m_is_method_retryable(method):\n\u001b[0;32m--> 470\u001b[0m     \u001b[39mraise\u001b[39;00m reraise(\u001b[39mtype\u001b[39;49m(error), error, _stacktrace)\n\u001b[1;32m    471\u001b[0m \u001b[39melif\u001b[39;00m read \u001b[39mis\u001b[39;00m \u001b[39mnot\u001b[39;00m \u001b[39mNone\u001b[39;00m:\n",
      "File \u001b[0;32m/opt/anaconda3/lib/python3.8/site-packages/urllib3/util/util.py:39\u001b[0m, in \u001b[0;36mreraise\u001b[0;34m(tp, value, tb)\u001b[0m\n\u001b[1;32m     38\u001b[0m         \u001b[39mraise\u001b[39;00m value\u001b[39m.\u001b[39mwith_traceback(tb)\n\u001b[0;32m---> 39\u001b[0m     \u001b[39mraise\u001b[39;00m value\n\u001b[1;32m     40\u001b[0m \u001b[39mfinally\u001b[39;00m:\n",
      "File \u001b[0;32m/opt/anaconda3/lib/python3.8/site-packages/urllib3/connectionpool.py:790\u001b[0m, in \u001b[0;36mHTTPConnectionPool.urlopen\u001b[0;34m(self, method, url, body, headers, retries, redirect, assert_same_host, timeout, pool_timeout, release_conn, chunked, body_pos, preload_content, decode_content, **response_kw)\u001b[0m\n\u001b[1;32m    789\u001b[0m \u001b[39m# Make the request on the HTTPConnection object\u001b[39;00m\n\u001b[0;32m--> 790\u001b[0m response \u001b[39m=\u001b[39m \u001b[39mself\u001b[39;49m\u001b[39m.\u001b[39;49m_make_request(\n\u001b[1;32m    791\u001b[0m     conn,\n\u001b[1;32m    792\u001b[0m     method,\n\u001b[1;32m    793\u001b[0m     url,\n\u001b[1;32m    794\u001b[0m     timeout\u001b[39m=\u001b[39;49mtimeout_obj,\n\u001b[1;32m    795\u001b[0m     body\u001b[39m=\u001b[39;49mbody,\n\u001b[1;32m    796\u001b[0m     headers\u001b[39m=\u001b[39;49mheaders,\n\u001b[1;32m    797\u001b[0m     chunked\u001b[39m=\u001b[39;49mchunked,\n\u001b[1;32m    798\u001b[0m     retries\u001b[39m=\u001b[39;49mretries,\n\u001b[1;32m    799\u001b[0m     response_conn\u001b[39m=\u001b[39;49mresponse_conn,\n\u001b[1;32m    800\u001b[0m     preload_content\u001b[39m=\u001b[39;49mpreload_content,\n\u001b[1;32m    801\u001b[0m     decode_content\u001b[39m=\u001b[39;49mdecode_content,\n\u001b[1;32m    802\u001b[0m     \u001b[39m*\u001b[39;49m\u001b[39m*\u001b[39;49mresponse_kw,\n\u001b[1;32m    803\u001b[0m )\n\u001b[1;32m    805\u001b[0m \u001b[39m# Everything went great!\u001b[39;00m\n",
      "File \u001b[0;32m/opt/anaconda3/lib/python3.8/site-packages/urllib3/connectionpool.py:538\u001b[0m, in \u001b[0;36mHTTPConnectionPool._make_request\u001b[0;34m(self, conn, method, url, body, headers, retries, timeout, chunked, response_conn, preload_content, decode_content, enforce_content_length)\u001b[0m\n\u001b[1;32m    537\u001b[0m \u001b[39mexcept\u001b[39;00m (BaseSSLError, \u001b[39mOSError\u001b[39;00m) \u001b[39mas\u001b[39;00m e:\n\u001b[0;32m--> 538\u001b[0m     \u001b[39mself\u001b[39;49m\u001b[39m.\u001b[39;49m_raise_timeout(err\u001b[39m=\u001b[39;49me, url\u001b[39m=\u001b[39;49murl, timeout_value\u001b[39m=\u001b[39;49mread_timeout)\n\u001b[1;32m    539\u001b[0m     \u001b[39mraise\u001b[39;00m\n",
      "File \u001b[0;32m/opt/anaconda3/lib/python3.8/site-packages/urllib3/connectionpool.py:370\u001b[0m, in \u001b[0;36mHTTPConnectionPool._raise_timeout\u001b[0;34m(self, err, url, timeout_value)\u001b[0m\n\u001b[1;32m    369\u001b[0m \u001b[39mif\u001b[39;00m \u001b[39misinstance\u001b[39m(err, SocketTimeout):\n\u001b[0;32m--> 370\u001b[0m     \u001b[39mraise\u001b[39;00m ReadTimeoutError(\n\u001b[1;32m    371\u001b[0m         \u001b[39mself\u001b[39m, url, \u001b[39mf\u001b[39m\u001b[39m\"\u001b[39m\u001b[39mRead timed out. (read timeout=\u001b[39m\u001b[39m{\u001b[39;00mtimeout_value\u001b[39m}\u001b[39;00m\u001b[39m)\u001b[39m\u001b[39m\"\u001b[39m\n\u001b[1;32m    372\u001b[0m     ) \u001b[39mfrom\u001b[39;00m \u001b[39merr\u001b[39;00m\n\u001b[1;32m    374\u001b[0m \u001b[39m# See the above comment about EAGAIN in Python 3.\u001b[39;00m\n",
      "\u001b[0;31mReadTimeoutError\u001b[0m: HTTPSConnectionPool(host='genius.com', port=443): Read timed out. (read timeout=5)",
      "\nDuring handling of the above exception, another exception occurred:\n",
      "\u001b[0;31mReadTimeout\u001b[0m                               Traceback (most recent call last)",
      "File \u001b[0;32m/opt/anaconda3/lib/python3.8/site-packages/lyricsgenius/api/base.py:75\u001b[0m, in \u001b[0;36mSender._make_request\u001b[0;34m(self, path, method, params_, public_api, web, **kwargs)\u001b[0m\n\u001b[1;32m     74\u001b[0m \u001b[39mtry\u001b[39;00m:\n\u001b[0;32m---> 75\u001b[0m     response \u001b[39m=\u001b[39m \u001b[39mself\u001b[39;49m\u001b[39m.\u001b[39;49m_session\u001b[39m.\u001b[39;49mrequest(method, uri,\n\u001b[1;32m     76\u001b[0m                                      timeout\u001b[39m=\u001b[39;49m\u001b[39mself\u001b[39;49m\u001b[39m.\u001b[39;49mtimeout,\n\u001b[1;32m     77\u001b[0m                                      params\u001b[39m=\u001b[39;49mparams_,\n\u001b[1;32m     78\u001b[0m                                      headers\u001b[39m=\u001b[39;49mheader,\n\u001b[1;32m     79\u001b[0m                                      \u001b[39m*\u001b[39;49m\u001b[39m*\u001b[39;49mkwargs)\n\u001b[1;32m     80\u001b[0m     response\u001b[39m.\u001b[39mraise_for_status()\n",
      "File \u001b[0;32m/opt/anaconda3/lib/python3.8/site-packages/requests/sessions.py:589\u001b[0m, in \u001b[0;36mSession.request\u001b[0;34m(self, method, url, params, data, headers, cookies, files, auth, timeout, allow_redirects, proxies, hooks, stream, verify, cert, json)\u001b[0m\n\u001b[1;32m    588\u001b[0m send_kwargs\u001b[39m.\u001b[39mupdate(settings)\n\u001b[0;32m--> 589\u001b[0m resp \u001b[39m=\u001b[39m \u001b[39mself\u001b[39;49m\u001b[39m.\u001b[39;49msend(prep, \u001b[39m*\u001b[39;49m\u001b[39m*\u001b[39;49msend_kwargs)\n\u001b[1;32m    591\u001b[0m \u001b[39mreturn\u001b[39;00m resp\n",
      "File \u001b[0;32m/opt/anaconda3/lib/python3.8/site-packages/requests/sessions.py:703\u001b[0m, in \u001b[0;36mSession.send\u001b[0;34m(self, request, **kwargs)\u001b[0m\n\u001b[1;32m    702\u001b[0m \u001b[39m# Send the request\u001b[39;00m\n\u001b[0;32m--> 703\u001b[0m r \u001b[39m=\u001b[39m adapter\u001b[39m.\u001b[39;49msend(request, \u001b[39m*\u001b[39;49m\u001b[39m*\u001b[39;49mkwargs)\n\u001b[1;32m    705\u001b[0m \u001b[39m# Total elapsed time of the request (approximately)\u001b[39;00m\n",
      "File \u001b[0;32m/opt/anaconda3/lib/python3.8/site-packages/requests/adapters.py:532\u001b[0m, in \u001b[0;36mHTTPAdapter.send\u001b[0;34m(self, request, stream, timeout, verify, cert, proxies)\u001b[0m\n\u001b[1;32m    531\u001b[0m \u001b[39melif\u001b[39;00m \u001b[39misinstance\u001b[39m(e, ReadTimeoutError):\n\u001b[0;32m--> 532\u001b[0m     \u001b[39mraise\u001b[39;00m ReadTimeout(e, request\u001b[39m=\u001b[39mrequest)\n\u001b[1;32m    533\u001b[0m \u001b[39melif\u001b[39;00m \u001b[39misinstance\u001b[39m(e, _InvalidHeader):\n",
      "\u001b[0;31mReadTimeout\u001b[0m: HTTPSConnectionPool(host='genius.com', port=443): Read timed out. (read timeout=5)",
      "\nDuring handling of the above exception, another exception occurred:\n",
      "\u001b[0;31mTimeout\u001b[0m                                   Traceback (most recent call last)",
      "\u001b[1;32m/Users/yushunli/Documents/Data Science/rap_llm/drake_discography.ipynb Cell 13\u001b[0m line \u001b[0;36m4\n\u001b[1;32m      <a href='vscode-notebook-cell:/Users/yushunli/Documents/Data%20Science/rap_llm/drake_discography.ipynb#X16sZmlsZQ%3D%3D?line=1'>2</a>\u001b[0m \u001b[39m#For loop through albums but skip the first 5 items in the list\u001b[39;00m\n\u001b[1;32m      <a href='vscode-notebook-cell:/Users/yushunli/Documents/Data%20Science/rap_llm/drake_discography.ipynb#X16sZmlsZQ%3D%3D?line=2'>3</a>\u001b[0m \u001b[39mfor\u001b[39;00m album \u001b[39min\u001b[39;00m albums[\u001b[39m5\u001b[39m:]:\n\u001b[0;32m----> <a href='vscode-notebook-cell:/Users/yushunli/Documents/Data%20Science/rap_llm/drake_discography.ipynb#X16sZmlsZQ%3D%3D?line=3'>4</a>\u001b[0m     album_save \u001b[39m=\u001b[39m genius\u001b[39m.\u001b[39;49msearch_album(album, artist)\n\u001b[1;32m      <a href='vscode-notebook-cell:/Users/yushunli/Documents/Data%20Science/rap_llm/drake_discography.ipynb#X16sZmlsZQ%3D%3D?line=4'>5</a>\u001b[0m     album_list2\u001b[39m.\u001b[39mappend(album_save)\n\u001b[1;32m      <a href='vscode-notebook-cell:/Users/yushunli/Documents/Data%20Science/rap_llm/drake_discography.ipynb#X16sZmlsZQ%3D%3D?line=5'>6</a>\u001b[0m     \u001b[39mprint\u001b[39m(\u001b[39m\"\u001b[39m\u001b[39mCompleted Saving Album:\u001b[39m\u001b[39m\"\u001b[39m, album)\n",
      "File \u001b[0;32m/opt/anaconda3/lib/python3.8/site-packages/lyricsgenius/genius.py:343\u001b[0m, in \u001b[0;36mGenius.search_album\u001b[0;34m(self, name, artist, album_id, get_full_info, text_format)\u001b[0m\n\u001b[1;32m    340\u001b[0m song_info \u001b[39m=\u001b[39m track[\u001b[39m'\u001b[39m\u001b[39msong\u001b[39m\u001b[39m'\u001b[39m]\n\u001b[1;32m    341\u001b[0m \u001b[39mif\u001b[39;00m (song_info[\u001b[39m'\u001b[39m\u001b[39mlyrics_state\u001b[39m\u001b[39m'\u001b[39m] \u001b[39m==\u001b[39m \u001b[39m'\u001b[39m\u001b[39mcomplete\u001b[39m\u001b[39m'\u001b[39m\n\u001b[1;32m    342\u001b[0m         \u001b[39mand\u001b[39;00m \u001b[39mnot\u001b[39;00m song_info\u001b[39m.\u001b[39mget(\u001b[39m'\u001b[39m\u001b[39minstrumental\u001b[39m\u001b[39m'\u001b[39m)):\n\u001b[0;32m--> 343\u001b[0m     song_lyrics \u001b[39m=\u001b[39m \u001b[39mself\u001b[39;49m\u001b[39m.\u001b[39;49mlyrics(song_url\u001b[39m=\u001b[39;49msong_info[\u001b[39m'\u001b[39;49m\u001b[39murl\u001b[39;49m\u001b[39m'\u001b[39;49m])\n\u001b[1;32m    344\u001b[0m \u001b[39melse\u001b[39;00m:\n\u001b[1;32m    345\u001b[0m     song_lyrics \u001b[39m=\u001b[39m \u001b[39m\"\u001b[39m\u001b[39m\"\u001b[39m\n",
      "File \u001b[0;32m/opt/anaconda3/lib/python3.8/site-packages/lyricsgenius/genius.py:132\u001b[0m, in \u001b[0;36mGenius.lyrics\u001b[0;34m(self, song_id, song_url, remove_section_headers)\u001b[0m\n\u001b[1;32m    128\u001b[0m     path \u001b[39m=\u001b[39m \u001b[39mself\u001b[39m\u001b[39m.\u001b[39msong(song_id)[\u001b[39m'\u001b[39m\u001b[39msong\u001b[39m\u001b[39m'\u001b[39m][\u001b[39m'\u001b[39m\u001b[39mpath\u001b[39m\u001b[39m'\u001b[39m][\u001b[39m1\u001b[39m:]\n\u001b[1;32m    130\u001b[0m \u001b[39m# Scrape the song lyrics from the HTML\u001b[39;00m\n\u001b[1;32m    131\u001b[0m html \u001b[39m=\u001b[39m BeautifulSoup(\n\u001b[0;32m--> 132\u001b[0m     \u001b[39mself\u001b[39;49m\u001b[39m.\u001b[39;49m_make_request(path, web\u001b[39m=\u001b[39;49m\u001b[39mTrue\u001b[39;49;00m)\u001b[39m.\u001b[39mreplace(\u001b[39m'\u001b[39m\u001b[39m<br/>\u001b[39m\u001b[39m'\u001b[39m, \u001b[39m'\u001b[39m\u001b[39m\\n\u001b[39;00m\u001b[39m'\u001b[39m),\n\u001b[1;32m    133\u001b[0m     \u001b[39m\"\u001b[39m\u001b[39mhtml.parser\u001b[39m\u001b[39m\"\u001b[39m\n\u001b[1;32m    134\u001b[0m )\n\u001b[1;32m    136\u001b[0m \u001b[39m# Determine the class of the div\u001b[39;00m\n\u001b[1;32m    137\u001b[0m div \u001b[39m=\u001b[39m html\u001b[39m.\u001b[39mfind(\u001b[39m\"\u001b[39m\u001b[39mdiv\u001b[39m\u001b[39m\"\u001b[39m, class_\u001b[39m=\u001b[39mre\u001b[39m.\u001b[39mcompile(\u001b[39m\"\u001b[39m\u001b[39m^lyrics$|Lyrics__Root\u001b[39m\u001b[39m\"\u001b[39m))\n",
      "File \u001b[0;32m/opt/anaconda3/lib/python3.8/site-packages/lyricsgenius/api/base.py:84\u001b[0m, in \u001b[0;36mSender._make_request\u001b[0;34m(self, path, method, params_, public_api, web, **kwargs)\u001b[0m\n\u001b[1;32m     82\u001b[0m     error \u001b[39m=\u001b[39m \u001b[39m\"\u001b[39m\u001b[39mRequest timed out:\u001b[39m\u001b[39m\\n\u001b[39;00m\u001b[39m{e}\u001b[39;00m\u001b[39m\"\u001b[39m\u001b[39m.\u001b[39mformat(e\u001b[39m=\u001b[39me)\n\u001b[1;32m     83\u001b[0m     \u001b[39mif\u001b[39;00m tries \u001b[39m>\u001b[39m \u001b[39mself\u001b[39m\u001b[39m.\u001b[39mretries:\n\u001b[0;32m---> 84\u001b[0m         \u001b[39mraise\u001b[39;00m Timeout(error)\n\u001b[1;32m     85\u001b[0m \u001b[39mexcept\u001b[39;00m HTTPError \u001b[39mas\u001b[39;00m e:\n\u001b[1;32m     86\u001b[0m     error \u001b[39m=\u001b[39m get_description(e)\n",
      "\u001b[0;31mTimeout\u001b[0m: Request timed out:\nHTTPSConnectionPool(host='genius.com', port=443): Read timed out. (read timeout=5)"
     ]
    }
   ],
   "source": [
    "album_list2 = []\n",
    "#For loop through albums but skip the first 5 items in the list\n",
    "for album in albums[5:]:\n",
    "    album_save = genius.search_album(album, artist)\n",
    "    album_list2.append(album_save)\n",
    "    print(\"Completed Saving Album:\", album)"
   ]
  },
  {
   "cell_type": "code",
   "execution_count": 33,
   "metadata": {},
   "outputs": [
    {
     "name": "stdout",
     "output_type": "stream",
     "text": [
      "Searching for \"Views\" by Drake...\n",
      "Completed Saving Album: Views\n",
      "Searching for \"More Life\" by Drake...\n",
      "Completed Saving Album: More Life\n",
      "Searching for \"Scorpion\" by Drake...\n",
      "Completed Saving Album: Scorpion\n",
      "Searching for \"Care Package\" by Drake...\n",
      "Completed Saving Album: Care Package\n",
      "Searching for \"Dark Lane Demo Tapes\" by Drake...\n",
      "Completed Saving Album: Dark Lane Demo Tapes\n",
      "Searching for \"Scary Hours 2\" by Drake...\n",
      "Completed Saving Album: Scary Hours 2\n",
      "Searching for \"Certified Lover Boy\" by Drake...\n",
      "Completed Saving Album: Certified Lover Boy\n",
      "Searching for \"Honestly, Nevermind\" by Drake...\n",
      "Completed Saving Album: Honestly, Nevermind\n"
     ]
    }
   ],
   "source": [
    "album_list3 = []\n",
    "# For loop through albums but skip the first 5 items in the list\n",
    "for album in albums[7:]:\n",
    "    album_save = genius.search_album(album, artist)\n",
    "    album_list3.append(album_save)\n",
    "    print(\"Completed Saving Album:\", album)"
   ]
  },
  {
   "cell_type": "code",
   "execution_count": 34,
   "metadata": {},
   "outputs": [],
   "source": [
    "drake_albums = []\n",
    "\n",
    "for album in album_list:\n",
    "    drake_albums.append(album)\n",
    "\n",
    "for album in album_list2:\n",
    "    drake_albums.append(album)\n",
    "\n",
    "for album in album_list3:\n",
    "    drake_albums.append(album)"
   ]
  },
  {
   "cell_type": "code",
   "execution_count": 35,
   "metadata": {},
   "outputs": [
    {
     "data": {
      "text/plain": [
       "15"
      ]
     },
     "execution_count": 35,
     "metadata": {},
     "output_type": "execute_result"
    }
   ],
   "source": [
    "len(drake_albums)"
   ]
  },
  {
   "cell_type": "code",
   "execution_count": 36,
   "metadata": {},
   "outputs": [
    {
     "name": "stdout",
     "output_type": "stream",
     "text": [
      "Wrote Lyrics_RoomforImprovement.json.\n",
      "Wrote Lyrics_ComebackSeason.json.\n",
      "Wrote Lyrics_SoFarGone.json.\n",
      "Wrote Lyrics_ThankMeLater.json.\n",
      "Wrote Lyrics_TakeCare.json.\n",
      "Wrote Lyrics_NothingWastheSame.json.\n",
      "Wrote Lyrics_IfYoureReadingThisItsTooLate.json.\n",
      "Wrote Lyrics_Views.json.\n",
      "Wrote Lyrics_MoreLife.json.\n",
      "Wrote Lyrics_Scorpion.json.\n",
      "Wrote Lyrics_CarePackage.json.\n",
      "Wrote Lyrics_DarkLaneDemoTapes.json.\n",
      "Wrote Lyrics_ScaryHours2.json.\n",
      "Wrote Lyrics_CertifiedLoverBoy.json.\n",
      "Wrote Lyrics_HonestlyNevermind.json.\n"
     ]
    }
   ],
   "source": [
    "#For loop through drake albums and the list album \n",
    "for album in drake_albums:\n",
    "    album.save_lyrics()"
   ]
  },
  {
   "cell_type": "code",
   "execution_count": null,
   "metadata": {},
   "outputs": [],
   "source": []
  },
  {
   "cell_type": "markdown",
   "metadata": {},
   "source": [
    "# Embed Albums"
   ]
  },
  {
   "cell_type": "code",
   "execution_count": 5,
   "metadata": {},
   "outputs": [
    {
     "data": {
      "text/html": [
       "<div>\n",
       "<style scoped>\n",
       "    .dataframe tbody tr th:only-of-type {\n",
       "        vertical-align: middle;\n",
       "    }\n",
       "\n",
       "    .dataframe tbody tr th {\n",
       "        vertical-align: top;\n",
       "    }\n",
       "\n",
       "    .dataframe thead th {\n",
       "        text-align: right;\n",
       "    }\n",
       "</style>\n",
       "<table border=\"1\" class=\"dataframe\">\n",
       "  <thead>\n",
       "    <tr style=\"text-align: right;\">\n",
       "      <th></th>\n",
       "      <th>album</th>\n",
       "      <th>year</th>\n",
       "      <th>title</th>\n",
       "      <th>lyrics</th>\n",
       "      <th>song_art_image_thumbnail_url</th>\n",
       "    </tr>\n",
       "  </thead>\n",
       "  <tbody>\n",
       "    <tr>\n",
       "      <th>38</th>\n",
       "      <td>More Life</td>\n",
       "      <td>2017</td>\n",
       "      <td>Skepta Interlude</td>\n",
       "      <td>It's a madness\\nCheck my account, it's a madne...</td>\n",
       "      <td>https://images.genius.com/9515dd6e99fb20b2945b...</td>\n",
       "    </tr>\n",
       "    <tr>\n",
       "      <th>147</th>\n",
       "      <td>Views</td>\n",
       "      <td>2016</td>\n",
       "      <td>Pop Style</td>\n",
       "      <td>Yeah, yeah\\n\\n\\nDropped outta school now we du...</td>\n",
       "      <td>https://images.genius.com/70445cae0ca33c5fcba1...</td>\n",
       "    </tr>\n",
       "    <tr>\n",
       "      <th>182</th>\n",
       "      <td>Honestly, Nevermind</td>\n",
       "      <td>2022</td>\n",
       "      <td>Massive</td>\n",
       "      <td>I've been alone in my thoughts\\nCan't fill thi...</td>\n",
       "      <td>https://images.genius.com/19a07ed74c6341946583...</td>\n",
       "    </tr>\n",
       "    <tr>\n",
       "      <th>197</th>\n",
       "      <td>Dark Lane Demo Tapes</td>\n",
       "      <td>2020</td>\n",
       "      <td>D4L</td>\n",
       "      <td>(808 my crew)\\n(Ayy, Southside, where you get ...</td>\n",
       "      <td>https://images.genius.com/1b0d68a486d05a162446...</td>\n",
       "    </tr>\n",
       "    <tr>\n",
       "      <th>157</th>\n",
       "      <td>Take Care</td>\n",
       "      <td>2011</td>\n",
       "      <td>Take Care</td>\n",
       "      <td>I know you've been hurt by someone else\\nI can...</td>\n",
       "      <td>https://images.rapgenius.com/115f4f1b48a5d9e7b...</td>\n",
       "    </tr>\n",
       "  </tbody>\n",
       "</table>\n",
       "</div>"
      ],
      "text/plain": [
       "                    album  year             title   \n",
       "38              More Life  2017  Skepta Interlude  \\\n",
       "147                 Views  2016         Pop Style   \n",
       "182   Honestly, Nevermind  2022           Massive   \n",
       "197  Dark Lane Demo Tapes  2020               D4L   \n",
       "157             Take Care  2011         Take Care   \n",
       "\n",
       "                                                lyrics   \n",
       "38   It's a madness\\nCheck my account, it's a madne...  \\\n",
       "147  Yeah, yeah\\n\\n\\nDropped outta school now we du...   \n",
       "182  I've been alone in my thoughts\\nCan't fill thi...   \n",
       "197  (808 my crew)\\n(Ayy, Southside, where you get ...   \n",
       "157  I know you've been hurt by someone else\\nI can...   \n",
       "\n",
       "                          song_art_image_thumbnail_url  \n",
       "38   https://images.genius.com/9515dd6e99fb20b2945b...  \n",
       "147  https://images.genius.com/70445cae0ca33c5fcba1...  \n",
       "182  https://images.genius.com/19a07ed74c6341946583...  \n",
       "197  https://images.genius.com/1b0d68a486d05a162446...  \n",
       "157  https://images.rapgenius.com/115f4f1b48a5d9e7b...  "
      ]
     },
     "execution_count": 5,
     "metadata": {},
     "output_type": "execute_result"
    }
   ],
   "source": [
    "import os\n",
    "import pandas as pd\n",
    "import json\n",
    "\n",
    "# Create an empty list to store dataframes\n",
    "dfs = []\n",
    "\n",
    "# Specify the folder path where JSON files are located\n",
    "folder_path = 'Drake_Export'\n",
    "\n",
    "# Iterate through all JSON files in the folder\n",
    "for filename in os.listdir(folder_path):\n",
    "    if filename.endswith('.json'):\n",
    "        # Load the JSON file\n",
    "        with open(os.path.join(folder_path, filename)) as f:\n",
    "            data = json.load(f)\n",
    "        \n",
    "        # Create a dataframe from the 'tracks' dictionary\n",
    "        df = pd.DataFrame(data['tracks'])\n",
    "        \n",
    "        # Break down the 'song' column into separate columns\n",
    "        df = pd.concat([df.drop(['song'], axis=1), df['song'].apply(pd.Series)], axis=1)\n",
    "        \n",
    "        # Add the 'album' column with the album name\n",
    "        df['album'] = data['name']\n",
    "\n",
    "        #Add Year column\n",
    "        df['year'] = data['release_date_components']['year']\n",
    "\n",
    "        #Add Cover Art column\n",
    "        #df['cover_art_url'] = data['tracks'][0]['song']['song_art_image_thumbnail_url']\n",
    "        \n",
    "        # Append the dataframe to the list\n",
    "        dfs.append(df)\n",
    "\n",
    "# Concatenate all dataframes into one\n",
    "combined_df = pd.concat(dfs, ignore_index=True)\n",
    "\n",
    "drake_df = combined_df[['album', 'year', 'title', 'lyrics', 'song_art_image_thumbnail_url']]\n",
    "drake_df['lyrics'] = drake_df['lyrics'].apply(clean_lyrics)\n",
    "drake_df['lyrics'] = drake_df['lyrics'].apply(lambda x: re.sub(r'\\[.*?\\]', '', x))\n",
    "drake_df['lyrics'] = drake_df['lyrics'].str.lstrip('\\n')\n",
    "drake_df['lyrics'] = drake_df['lyrics'].str.lstrip('\\n')\n",
    "#Run Embeddings\n",
    "#drake_df['embedding'] = drake_df['lyrics'].apply(lambda x: get_embedding(x, model='text-embedding-ada-002'))\n",
    "#Save the dataframe as a parquet file\n",
    "#drake_df.to_parquet('drake_album_embeddings.parquet')\n",
    "#Filter for rows where the length of the lyrics is greater than 0\n",
    "drake_df = drake_df[drake_df['lyrics'].str.len() > 0]\n",
    "drake_df.sample(5)"
   ]
  },
  {
   "cell_type": "code",
   "execution_count": 6,
   "metadata": {},
   "outputs": [],
   "source": [
    "#Load parquet file as a dataframe\n",
    "embeddings = pd.read_parquet('drake_album_embeddings.parquet')\n",
    "#Join the embedding column to the drake_df dataframe\n",
    "drake_df = drake_df.merge(embeddings, on=['title', 'album', 'year'], how='left').drop(columns=['lyrics_y']).rename(columns={'lyrics_x': 'lyrics'})"
   ]
  },
  {
   "cell_type": "code",
   "execution_count": 135,
   "metadata": {},
   "outputs": [
    {
     "data": {
      "text/plain": [
       "array(['Comeback Season', 'Scary Hours 2', 'More Life',\n",
       "       'For All The Dogs', 'So Far Gone', 'Thank Me Later', 'Scorpion',\n",
       "       'Views', 'Take Care', 'Honestly, Nevermind',\n",
       "       'Dark Lane Demo Tapes', 'Certified Lover Boy', 'Care Package',\n",
       "       'Room for Improvement', 'Nothing Was the Same',\n",
       "       'If You’re Reading This It’s Too Late'], dtype=object)"
      ]
     },
     "execution_count": 135,
     "metadata": {},
     "output_type": "execute_result"
    }
   ],
   "source": [
    "drake_df.album.unique()"
   ]
  },
  {
   "cell_type": "markdown",
   "metadata": {},
   "source": [
    "### Aggregating Embedding By Album"
   ]
  },
  {
   "cell_type": "markdown",
   "metadata": {},
   "source": [
    "#### Mean Approach"
   ]
  },
  {
   "cell_type": "code",
   "execution_count": 8,
   "metadata": {},
   "outputs": [],
   "source": [
    "grouped = drake_df.groupby('album')\n",
    "\n",
    "avg_embeddings = {}\n",
    "\n",
    "for name, group in grouped:\n",
    "    # Stack embeddings to form a 2D NumPy array\n",
    "    embeddings_matrix = np.vstack(group['embedding'].values)\n",
    "    \n",
    "    # Calculate the mean along axis 0 (i.e., column-wise mean)\n",
    "    avg_embedding = np.mean(embeddings_matrix, axis=0)\n",
    "    \n",
    "    # Store the result in the dictionary\n",
    "    avg_embeddings[name] = avg_embedding"
   ]
  },
  {
   "cell_type": "code",
   "execution_count": 9,
   "metadata": {},
   "outputs": [
    {
     "data": {
      "text/html": [
       "<div>\n",
       "<style scoped>\n",
       "    .dataframe tbody tr th:only-of-type {\n",
       "        vertical-align: middle;\n",
       "    }\n",
       "\n",
       "    .dataframe tbody tr th {\n",
       "        vertical-align: top;\n",
       "    }\n",
       "\n",
       "    .dataframe thead th {\n",
       "        text-align: right;\n",
       "    }\n",
       "</style>\n",
       "<table border=\"1\" class=\"dataframe\">\n",
       "  <thead>\n",
       "    <tr style=\"text-align: right;\">\n",
       "      <th></th>\n",
       "      <th>0</th>\n",
       "      <th>1</th>\n",
       "      <th>2</th>\n",
       "      <th>3</th>\n",
       "      <th>4</th>\n",
       "      <th>5</th>\n",
       "      <th>6</th>\n",
       "      <th>7</th>\n",
       "      <th>8</th>\n",
       "      <th>9</th>\n",
       "      <th>...</th>\n",
       "      <th>1526</th>\n",
       "      <th>1527</th>\n",
       "      <th>1528</th>\n",
       "      <th>1529</th>\n",
       "      <th>1530</th>\n",
       "      <th>1531</th>\n",
       "      <th>1532</th>\n",
       "      <th>1533</th>\n",
       "      <th>1534</th>\n",
       "      <th>1535</th>\n",
       "    </tr>\n",
       "  </thead>\n",
       "  <tbody>\n",
       "    <tr>\n",
       "      <th>Nothing Was the Same</th>\n",
       "      <td>-0.005901</td>\n",
       "      <td>-0.011415</td>\n",
       "      <td>0.007735</td>\n",
       "      <td>-0.016328</td>\n",
       "      <td>-0.008330</td>\n",
       "      <td>0.014566</td>\n",
       "      <td>0.015501</td>\n",
       "      <td>-0.014117</td>\n",
       "      <td>-0.027435</td>\n",
       "      <td>-0.020751</td>\n",
       "      <td>...</td>\n",
       "      <td>0.018036</td>\n",
       "      <td>-0.005064</td>\n",
       "      <td>-0.001589</td>\n",
       "      <td>-0.022142</td>\n",
       "      <td>-0.020041</td>\n",
       "      <td>0.032168</td>\n",
       "      <td>-0.010634</td>\n",
       "      <td>-0.031914</td>\n",
       "      <td>-0.011547</td>\n",
       "      <td>-0.022523</td>\n",
       "    </tr>\n",
       "    <tr>\n",
       "      <th>Scary Hours 2</th>\n",
       "      <td>-0.003230</td>\n",
       "      <td>-0.005584</td>\n",
       "      <td>-0.004388</td>\n",
       "      <td>-0.016800</td>\n",
       "      <td>-0.000730</td>\n",
       "      <td>0.020794</td>\n",
       "      <td>0.014782</td>\n",
       "      <td>-0.006227</td>\n",
       "      <td>-0.021592</td>\n",
       "      <td>-0.027542</td>\n",
       "      <td>...</td>\n",
       "      <td>0.010123</td>\n",
       "      <td>-0.008325</td>\n",
       "      <td>0.005029</td>\n",
       "      <td>-0.014950</td>\n",
       "      <td>-0.026921</td>\n",
       "      <td>0.043211</td>\n",
       "      <td>-0.013732</td>\n",
       "      <td>-0.032528</td>\n",
       "      <td>-0.006200</td>\n",
       "      <td>-0.037605</td>\n",
       "    </tr>\n",
       "    <tr>\n",
       "      <th>Scorpion</th>\n",
       "      <td>-0.010186</td>\n",
       "      <td>-0.015257</td>\n",
       "      <td>0.006393</td>\n",
       "      <td>-0.024187</td>\n",
       "      <td>-0.009992</td>\n",
       "      <td>0.016293</td>\n",
       "      <td>0.014764</td>\n",
       "      <td>-0.011984</td>\n",
       "      <td>-0.018830</td>\n",
       "      <td>-0.019814</td>\n",
       "      <td>...</td>\n",
       "      <td>0.019473</td>\n",
       "      <td>-0.005183</td>\n",
       "      <td>-0.001272</td>\n",
       "      <td>-0.021568</td>\n",
       "      <td>-0.024473</td>\n",
       "      <td>0.034897</td>\n",
       "      <td>-0.010928</td>\n",
       "      <td>-0.033972</td>\n",
       "      <td>-0.007297</td>\n",
       "      <td>-0.025549</td>\n",
       "    </tr>\n",
       "    <tr>\n",
       "      <th>So Far Gone</th>\n",
       "      <td>-0.009126</td>\n",
       "      <td>-0.020364</td>\n",
       "      <td>0.004072</td>\n",
       "      <td>-0.021837</td>\n",
       "      <td>-0.006309</td>\n",
       "      <td>0.016853</td>\n",
       "      <td>0.012548</td>\n",
       "      <td>-0.013841</td>\n",
       "      <td>-0.021235</td>\n",
       "      <td>-0.021233</td>\n",
       "      <td>...</td>\n",
       "      <td>0.022024</td>\n",
       "      <td>-0.007910</td>\n",
       "      <td>-0.004547</td>\n",
       "      <td>-0.026525</td>\n",
       "      <td>-0.020520</td>\n",
       "      <td>0.028277</td>\n",
       "      <td>-0.011030</td>\n",
       "      <td>-0.024399</td>\n",
       "      <td>-0.006087</td>\n",
       "      <td>-0.023669</td>\n",
       "    </tr>\n",
       "    <tr>\n",
       "      <th>Take Care</th>\n",
       "      <td>-0.004837</td>\n",
       "      <td>-0.020884</td>\n",
       "      <td>0.004196</td>\n",
       "      <td>-0.021686</td>\n",
       "      <td>-0.008491</td>\n",
       "      <td>0.011890</td>\n",
       "      <td>0.017436</td>\n",
       "      <td>-0.011215</td>\n",
       "      <td>-0.020619</td>\n",
       "      <td>-0.017806</td>\n",
       "      <td>...</td>\n",
       "      <td>0.020126</td>\n",
       "      <td>-0.003596</td>\n",
       "      <td>-0.003957</td>\n",
       "      <td>-0.024386</td>\n",
       "      <td>-0.025889</td>\n",
       "      <td>0.032859</td>\n",
       "      <td>-0.010794</td>\n",
       "      <td>-0.032833</td>\n",
       "      <td>-0.005136</td>\n",
       "      <td>-0.020893</td>\n",
       "    </tr>\n",
       "  </tbody>\n",
       "</table>\n",
       "<p>5 rows × 1536 columns</p>\n",
       "</div>"
      ],
      "text/plain": [
       "                          0         1         2         3         4      \n",
       "Nothing Was the Same -0.005901 -0.011415  0.007735 -0.016328 -0.008330  \\\n",
       "Scary Hours 2        -0.003230 -0.005584 -0.004388 -0.016800 -0.000730   \n",
       "Scorpion             -0.010186 -0.015257  0.006393 -0.024187 -0.009992   \n",
       "So Far Gone          -0.009126 -0.020364  0.004072 -0.021837 -0.006309   \n",
       "Take Care            -0.004837 -0.020884  0.004196 -0.021686 -0.008491   \n",
       "\n",
       "                          5         6         7         8         9     ...   \n",
       "Nothing Was the Same  0.014566  0.015501 -0.014117 -0.027435 -0.020751  ...  \\\n",
       "Scary Hours 2         0.020794  0.014782 -0.006227 -0.021592 -0.027542  ...   \n",
       "Scorpion              0.016293  0.014764 -0.011984 -0.018830 -0.019814  ...   \n",
       "So Far Gone           0.016853  0.012548 -0.013841 -0.021235 -0.021233  ...   \n",
       "Take Care             0.011890  0.017436 -0.011215 -0.020619 -0.017806  ...   \n",
       "\n",
       "                          1526      1527      1528      1529      1530   \n",
       "Nothing Was the Same  0.018036 -0.005064 -0.001589 -0.022142 -0.020041  \\\n",
       "Scary Hours 2         0.010123 -0.008325  0.005029 -0.014950 -0.026921   \n",
       "Scorpion              0.019473 -0.005183 -0.001272 -0.021568 -0.024473   \n",
       "So Far Gone           0.022024 -0.007910 -0.004547 -0.026525 -0.020520   \n",
       "Take Care             0.020126 -0.003596 -0.003957 -0.024386 -0.025889   \n",
       "\n",
       "                          1531      1532      1533      1534      1535  \n",
       "Nothing Was the Same  0.032168 -0.010634 -0.031914 -0.011547 -0.022523  \n",
       "Scary Hours 2         0.043211 -0.013732 -0.032528 -0.006200 -0.037605  \n",
       "Scorpion              0.034897 -0.010928 -0.033972 -0.007297 -0.025549  \n",
       "So Far Gone           0.028277 -0.011030 -0.024399 -0.006087 -0.023669  \n",
       "Take Care             0.032859 -0.010794 -0.032833 -0.005136 -0.020893  \n",
       "\n",
       "[5 rows x 1536 columns]"
      ]
     },
     "execution_count": 9,
     "metadata": {},
     "output_type": "execute_result"
    }
   ],
   "source": [
    "album_mean = pd.DataFrame.from_dict(avg_embeddings, orient='index')\n",
    "# Optionally, reset the index so that album names become a column\n",
    "#album_avg.reset_index(inplace=True)\n",
    "#album_avg.columns = ['album_name'] + [f'embedding_dim_{i}' for i in range(album_avg.shape[1]-1)]\n",
    "#Remove the rows where index is 'Room for Improvement' and 'Scary Hours 2'\n",
    "#album_avg = album_avg.drop(['Room for Improvement', 'Scary Hours 2'])\n",
    "album_mean.sample(5)"
   ]
  },
  {
   "cell_type": "markdown",
   "metadata": {},
   "source": [
    "#### Earth Mover's Distance\n",
    "- Runs into the issue of flattening matrices"
   ]
  },
  {
   "cell_type": "code",
   "execution_count": 14,
   "metadata": {},
   "outputs": [
    {
     "name": "stdout",
     "output_type": "stream",
     "text": [
      "Earth Mover's Distance between 'Nothing Was the Same' and 'Views': 0.00012117923816107082\n"
     ]
    }
   ],
   "source": [
    "from scipy.stats import wasserstein_distance\n",
    "\n",
    "# Flatten the matrices into 1D arrays\n",
    "nwts_flattened = nwts_embeddings.flatten()\n",
    "views_flattened = views_embeddings.flatten()\n",
    "\n",
    "# Compute Earth Mover's Distance (Wasserstein distance)\n",
    "emd_distance = wasserstein_distance(nwts_flattened, views_flattened)\n",
    "\n",
    "print(f\"Earth Mover's Distance between 'Nothing Was the Same' and 'Views': {emd_distance}\")"
   ]
  },
  {
   "cell_type": "markdown",
   "metadata": {},
   "source": [
    "#### Dynamic Time Warping"
   ]
  },
  {
   "cell_type": "code",
   "execution_count": 163,
   "metadata": {},
   "outputs": [],
   "source": [
    "from fastdtw import fastdtw\n",
    "from scipy.spatial.distance import euclidean\n",
    "import numpy as np\n",
    "\n",
    "#Create a dictionary of album names and their embeddings called album_embeddings from the drake_df dataframe\n",
    "album_embeddings = {}\n",
    "\n",
    "#remove rows in drake_df where the album is not 'Room for Improvement' or 'Comeback Season'\n",
    "subset = drake_df[(drake_df['album'] != 'Room for Improvement') & (drake_df['album'] != 'Comeback Season')& (drake_df['album'] != 'Scary Hours 2')]\n",
    "\n",
    "for album in subset['album'].unique():\n",
    "    album_df = drake_df[drake_df['album'] == album]\n",
    "    #Set the key as the album name and the value as stacked embeddings\n",
    "    album_embeddings[album] = np.vstack(album_df['embedding'].values)"
   ]
  },
  {
   "cell_type": "code",
   "execution_count": 164,
   "metadata": {},
   "outputs": [],
   "source": [
    "from scipy.spatial.distance import euclidean\n",
    "\n",
    "# Assuming album_embeddings is a dictionary with album names as keys and numpy arrays as values\n",
    "album_names = list(album_embeddings.keys())\n",
    "n_albums = len(album_names)\n",
    "\n",
    "# Initialize distance matrix\n",
    "distance_matrix = np.zeros((n_albums, n_albums))\n",
    "\n",
    "for i, name1 in enumerate(album_names):\n",
    "    for j, name2 in enumerate(album_names):\n",
    "        if i >= j:\n",
    "            continue  # Skip redundant calculations\n",
    "        dist, _ = fastdtw(album_embeddings[name1], album_embeddings[name2], dist=euclidean)\n",
    "        distance_matrix[i, j] = dist\n",
    "        distance_matrix[j, i] = dist  # Symmetric matrix\n",
    "\n",
    "# Convert to DataFrame for easier handling\n",
    "distance_df = pd.DataFrame(distance_matrix, columns=album_names, index=album_names)"
   ]
  },
  {
   "cell_type": "code",
   "execution_count": 165,
   "metadata": {},
   "outputs": [
    {
     "name": "stderr",
     "output_type": "stream",
     "text": [
      "/opt/anaconda3/lib/python3.8/site-packages/sklearn/manifold/_mds.py:298: FutureWarning:\n",
      "\n",
      "The default value of `normalized_stress` will change to `'auto'` in version 1.4. To suppress this warning, manually set the value of `normalized_stress`.\n",
      "\n"
     ]
    }
   ],
   "source": [
    "from sklearn.manifold import MDS\n",
    "\n",
    "# Initialize MDS\n",
    "mds = MDS(n_components=2, dissimilarity='precomputed')\n",
    "\n",
    "# Fit and transform\n",
    "album_coordinates = mds.fit_transform(distance_matrix)\n",
    "\n",
    "# Convert to DataFrame\n",
    "album_coordinates_df = pd.DataFrame(album_coordinates, columns=['x', 'y'])\n",
    "album_coordinates_df['album'] = album_names"
   ]
  },
  {
   "cell_type": "markdown",
   "metadata": {},
   "source": [
    "### Create TSNE Visualizations"
   ]
  },
  {
   "cell_type": "code",
   "execution_count": 166,
   "metadata": {},
   "outputs": [],
   "source": [
    "metadata = drake_df[['album', 'year', 'song_art_image_thumbnail_url']]\n",
    "metadata = metadata.drop_duplicates(subset=['album'])\n",
    "\n",
    "embedding_df = album_coordinates_df.merge(metadata, on='album', how='left')"
   ]
  },
  {
   "cell_type": "code",
   "execution_count": 167,
   "metadata": {},
   "outputs": [],
   "source": [
    "# Assume embedding_df already exists with 'album', 'tsne-1', and 'tsne-2'\n",
    "\n",
    "most_similar_albums = []\n",
    "least_similar_albums = []\n",
    "\n",
    "for i, row in embedding_df.iterrows():\n",
    "    current_album = row['album']\n",
    "    x1, y1 = row['x'], row['y']\n",
    "    \n",
    "    # Compute Euclidean distance for each other album\n",
    "    distances = np.sqrt((embedding_df['x'] - x1)**2 + (embedding_df['y'] - y1)**2)\n",
    "    \n",
    "    # Remove the album itself from consideration\n",
    "    distances = distances[embedding_df['album'] != current_album]\n",
    "    \n",
    "    # Identify most and least similar albums\n",
    "    most_similar = distances.idxmin()\n",
    "    least_similar = distances.idxmax()\n",
    "    \n",
    "    most_similar_albums.append(embedding_df.loc[most_similar, 'album'])\n",
    "    least_similar_albums.append(embedding_df.loc[least_similar, 'album'])\n",
    "\n",
    "# Add new columns to DataFrame\n",
    "embedding_df['most_similar_album'] = most_similar_albums\n",
    "embedding_df['least_similar_album'] = least_similar_albums"
   ]
  },
  {
   "cell_type": "code",
   "execution_count": 168,
   "metadata": {},
   "outputs": [
    {
     "data": {
      "application/vnd.plotly.v1+json": {
       "config": {
        "plotlyServerURL": "https://plot.ly"
       },
       "data": [
        {
         "customdata": [
          [
           2017,
           "Certified Lover Boy",
           "Views"
          ],
          [
           2023,
           "Certified Lover Boy",
           "So Far Gone"
          ],
          [
           2009,
           "Thank Me Later",
           "For All The Dogs"
          ],
          [
           2010,
           "Honestly, Nevermind",
           "Scorpion"
          ],
          [
           2018,
           "If You’re Reading This It’s Too Late",
           "Honestly, Nevermind"
          ],
          [
           2016,
           "Care Package",
           "More Life"
          ],
          [
           2011,
           "Views",
           "More Life"
          ],
          [
           2022,
           "Thank Me Later",
           "Scorpion"
          ],
          [
           2020,
           "Honestly, Nevermind",
           "Scorpion"
          ],
          [
           2021,
           "For All The Dogs",
           "So Far Gone"
          ],
          [
           2019,
           "Thank Me Later",
           "More Life"
          ],
          [
           2013,
           "Thank Me Later",
           "Scorpion"
          ],
          [
           2015,
           "Care Package",
           "More Life"
          ]
         ],
         "hovertemplate": "x=%{x}<br>y=%{y}<br>year=%{customdata[0]}<br>most_similar_album=%{customdata[1]}<br>least_similar_album=%{customdata[2]}<extra></extra>",
         "legendgroup": "",
         "marker": {
          "color": "#636efa",
          "opacity": 0,
          "symbol": "circle"
         },
         "mode": "markers",
         "name": "",
         "orientation": "v",
         "showlegend": false,
         "type": "scatter",
         "x": [
          1.6528923770050128,
          9.640242852230221,
          -7.957771645293402,
          -4.969131451073784,
          9.724418444207686,
          -3.1926626040956165,
          2.613487758366582,
          -7.5295138092515845,
          -4.385875338229421,
          4.782265186949561,
          -2.7294279471103398,
          -0.813835580366552,
          3.1649117566616356
         ],
         "xaxis": "x",
         "y": [
          10.378415758546602,
          2.6042940530572403,
          -3.30734291026936,
          0.7237521106270344,
          -5.597639644788593,
          -7.867531370441705,
          -8.382569682349741,
          3.235201973717266,
          5.649029574737585,
          5.234007398074944,
          -3.0881466508901494,
          2.5534080196631352,
          -2.1348786296842555
         ],
         "yaxis": "y"
        }
       ],
       "layout": {
        "annotations": [
         {
          "font": {
           "size": 10
          },
          "showarrow": false,
          "text": "More Life",
          "x": 1.6528923770050128,
          "xanchor": "center",
          "y": 10.378415758546602,
          "yanchor": "bottom"
         },
         {
          "font": {
           "size": 10
          },
          "showarrow": false,
          "text": "For All The Dogs",
          "x": 9.640242852230221,
          "xanchor": "center",
          "y": 2.6042940530572403,
          "yanchor": "bottom"
         },
         {
          "font": {
           "size": 10
          },
          "showarrow": false,
          "text": "So Far Gone",
          "x": -7.957771645293402,
          "xanchor": "center",
          "y": -3.30734291026936,
          "yanchor": "bottom"
         },
         {
          "font": {
           "size": 10
          },
          "showarrow": false,
          "text": "Thank Me Later",
          "x": -4.969131451073784,
          "xanchor": "center",
          "y": 0.7237521106270344,
          "yanchor": "bottom"
         },
         {
          "font": {
           "size": 10
          },
          "showarrow": false,
          "text": "Scorpion",
          "x": 9.724418444207686,
          "xanchor": "center",
          "y": -5.597639644788593,
          "yanchor": "bottom"
         },
         {
          "font": {
           "size": 10
          },
          "showarrow": false,
          "text": "Views",
          "x": -3.1926626040956165,
          "xanchor": "center",
          "y": -7.867531370441705,
          "yanchor": "bottom"
         },
         {
          "font": {
           "size": 10
          },
          "showarrow": false,
          "text": "Take Care",
          "x": 2.613487758366582,
          "xanchor": "center",
          "y": -8.382569682349741,
          "yanchor": "bottom"
         },
         {
          "font": {
           "size": 10
          },
          "showarrow": false,
          "text": "Honestly, Nevermind",
          "x": -7.5295138092515845,
          "xanchor": "center",
          "y": 3.235201973717266,
          "yanchor": "bottom"
         },
         {
          "font": {
           "size": 10
          },
          "showarrow": false,
          "text": "Dark Lane Demo Tapes",
          "x": -4.385875338229421,
          "xanchor": "center",
          "y": 5.649029574737585,
          "yanchor": "bottom"
         },
         {
          "font": {
           "size": 10
          },
          "showarrow": false,
          "text": "Certified Lover Boy",
          "x": 4.782265186949561,
          "xanchor": "center",
          "y": 5.234007398074944,
          "yanchor": "bottom"
         },
         {
          "font": {
           "size": 10
          },
          "showarrow": false,
          "text": "Care Package",
          "x": -2.7294279471103398,
          "xanchor": "center",
          "y": -3.0881466508901494,
          "yanchor": "bottom"
         },
         {
          "font": {
           "size": 10
          },
          "showarrow": false,
          "text": "Nothing Was the Same",
          "x": -0.813835580366552,
          "xanchor": "center",
          "y": 2.5534080196631352,
          "yanchor": "bottom"
         },
         {
          "font": {
           "size": 10
          },
          "showarrow": false,
          "text": "If You’re Reading This It’s Too Late",
          "x": 3.1649117566616356,
          "xanchor": "center",
          "y": -2.1348786296842555,
          "yanchor": "bottom"
         }
        ],
        "height": 1000,
        "images": [
         {
          "layer": "below",
          "opacity": 1,
          "sizex": 3,
          "sizey": 3,
          "source": "https://images.genius.com/9515dd6e99fb20b2945b65a98245a599.300x300x1.png",
          "x": 1.6528923770050128,
          "xanchor": "center",
          "xref": "x",
          "y": 10.378415758546602,
          "yanchor": "top",
          "yref": "y"
         },
         {
          "layer": "below",
          "opacity": 1,
          "sizex": 3,
          "sizey": 3,
          "source": "https://images.genius.com/2974a46656bda32e9b44227708b9d3df.300x300x1.png",
          "x": 9.640242852230221,
          "xanchor": "center",
          "xref": "x",
          "y": 2.6042940530572403,
          "yanchor": "top",
          "yref": "y"
         },
         {
          "layer": "below",
          "opacity": 1,
          "sizex": 3,
          "sizey": 3,
          "source": "https://images.genius.com/58a974e7f417f2ccf62b182c17e7f2cf.300x300x1.jpg",
          "x": -7.957771645293402,
          "xanchor": "center",
          "xref": "x",
          "y": -3.30734291026936,
          "yanchor": "top",
          "yref": "y"
         },
         {
          "layer": "below",
          "opacity": 1,
          "sizex": 3,
          "sizey": 3,
          "source": "https://images.genius.com/b82b8f57f581e62776896064454dc40a.300x300x1.jpg",
          "x": -4.969131451073784,
          "xanchor": "center",
          "xref": "x",
          "y": 0.7237521106270344,
          "yanchor": "top",
          "yref": "y"
         },
         {
          "layer": "below",
          "opacity": 1,
          "sizex": 3,
          "sizey": 3,
          "source": "https://images.genius.com/5c677b7bfc2f696abf2e2d928301bb44.300x300x1.jpg",
          "x": 9.724418444207686,
          "xanchor": "center",
          "xref": "x",
          "y": -5.597639644788593,
          "yanchor": "top",
          "yref": "y"
         },
         {
          "layer": "below",
          "opacity": 1,
          "sizex": 3,
          "sizey": 3,
          "source": "https://images.genius.com/04ca8f6cc29d2ddde9e6756b92488a6f.300x300x1.jpg",
          "x": -3.1926626040956165,
          "xanchor": "center",
          "xref": "x",
          "y": -7.867531370441705,
          "yanchor": "top",
          "yref": "y"
         },
         {
          "layer": "below",
          "opacity": 1,
          "sizex": 3,
          "sizey": 3,
          "source": "https://images.genius.com/843b2b84471f4b69d44f74db192ad257.300x300x1.jpg",
          "x": 2.613487758366582,
          "xanchor": "center",
          "xref": "x",
          "y": -8.382569682349741,
          "yanchor": "top",
          "yref": "y"
         },
         {
          "layer": "below",
          "opacity": 1,
          "sizex": 3,
          "sizey": 3,
          "source": "https://images.genius.com/19a07ed74c634194658306c29084765d.300x300x1.png",
          "x": -7.5295138092515845,
          "xanchor": "center",
          "xref": "x",
          "y": 3.235201973717266,
          "yanchor": "top",
          "yref": "y"
         },
         {
          "layer": "below",
          "opacity": 1,
          "sizex": 3,
          "sizey": 3,
          "source": "https://images.genius.com/9a545c1b0ea3914ddeaee4a1b0a05eba.300x300x1.jpg",
          "x": -4.385875338229421,
          "xanchor": "center",
          "xref": "x",
          "y": 5.649029574737585,
          "yanchor": "top",
          "yref": "y"
         },
         {
          "layer": "below",
          "opacity": 1,
          "sizex": 3,
          "sizey": 3,
          "source": "https://images.genius.com/fa02d8bc4c7ee74b5a1408c2be032fea.300x300x1.png",
          "x": 4.782265186949561,
          "xanchor": "center",
          "xref": "x",
          "y": 5.234007398074944,
          "yanchor": "top",
          "yref": "y"
         },
         {
          "layer": "below",
          "opacity": 1,
          "sizex": 3,
          "sizey": 3,
          "source": "https://images.genius.com/cd0fba274699df080e4e0b400c550bf8.300x300x1.png",
          "x": -2.7294279471103398,
          "xanchor": "center",
          "xref": "x",
          "y": -3.0881466508901494,
          "yanchor": "top",
          "yref": "y"
         },
         {
          "layer": "below",
          "opacity": 1,
          "sizex": 3,
          "sizey": 3,
          "source": "https://images.genius.com/1fd790dfb7117179663d3b0151d22546.300x300x1.png",
          "x": -0.813835580366552,
          "xanchor": "center",
          "xref": "x",
          "y": 2.5534080196631352,
          "yanchor": "top",
          "yref": "y"
         },
         {
          "layer": "below",
          "opacity": 1,
          "sizex": 3,
          "sizey": 3,
          "source": "https://images.genius.com/b19e6eca082dd81ae04da590082ac31e.300x300x1.png",
          "x": 3.1649117566616356,
          "xanchor": "center",
          "xref": "x",
          "y": -2.1348786296842555,
          "yanchor": "top",
          "yref": "y"
         }
        ],
        "legend": {
         "tracegroupgap": 0
        },
        "margin": {
         "t": 60
        },
        "template": {
         "data": {
          "bar": [
           {
            "error_x": {
             "color": "#f2f5fa"
            },
            "error_y": {
             "color": "#f2f5fa"
            },
            "marker": {
             "line": {
              "color": "rgb(17,17,17)",
              "width": 0.5
             },
             "pattern": {
              "fillmode": "overlay",
              "size": 10,
              "solidity": 0.2
             }
            },
            "type": "bar"
           }
          ],
          "barpolar": [
           {
            "marker": {
             "line": {
              "color": "rgb(17,17,17)",
              "width": 0.5
             },
             "pattern": {
              "fillmode": "overlay",
              "size": 10,
              "solidity": 0.2
             }
            },
            "type": "barpolar"
           }
          ],
          "carpet": [
           {
            "aaxis": {
             "endlinecolor": "#A2B1C6",
             "gridcolor": "#506784",
             "linecolor": "#506784",
             "minorgridcolor": "#506784",
             "startlinecolor": "#A2B1C6"
            },
            "baxis": {
             "endlinecolor": "#A2B1C6",
             "gridcolor": "#506784",
             "linecolor": "#506784",
             "minorgridcolor": "#506784",
             "startlinecolor": "#A2B1C6"
            },
            "type": "carpet"
           }
          ],
          "choropleth": [
           {
            "colorbar": {
             "outlinewidth": 0,
             "ticks": ""
            },
            "type": "choropleth"
           }
          ],
          "contour": [
           {
            "colorbar": {
             "outlinewidth": 0,
             "ticks": ""
            },
            "colorscale": [
             [
              0,
              "#0d0887"
             ],
             [
              0.1111111111111111,
              "#46039f"
             ],
             [
              0.2222222222222222,
              "#7201a8"
             ],
             [
              0.3333333333333333,
              "#9c179e"
             ],
             [
              0.4444444444444444,
              "#bd3786"
             ],
             [
              0.5555555555555556,
              "#d8576b"
             ],
             [
              0.6666666666666666,
              "#ed7953"
             ],
             [
              0.7777777777777778,
              "#fb9f3a"
             ],
             [
              0.8888888888888888,
              "#fdca26"
             ],
             [
              1,
              "#f0f921"
             ]
            ],
            "type": "contour"
           }
          ],
          "contourcarpet": [
           {
            "colorbar": {
             "outlinewidth": 0,
             "ticks": ""
            },
            "type": "contourcarpet"
           }
          ],
          "heatmap": [
           {
            "colorbar": {
             "outlinewidth": 0,
             "ticks": ""
            },
            "colorscale": [
             [
              0,
              "#0d0887"
             ],
             [
              0.1111111111111111,
              "#46039f"
             ],
             [
              0.2222222222222222,
              "#7201a8"
             ],
             [
              0.3333333333333333,
              "#9c179e"
             ],
             [
              0.4444444444444444,
              "#bd3786"
             ],
             [
              0.5555555555555556,
              "#d8576b"
             ],
             [
              0.6666666666666666,
              "#ed7953"
             ],
             [
              0.7777777777777778,
              "#fb9f3a"
             ],
             [
              0.8888888888888888,
              "#fdca26"
             ],
             [
              1,
              "#f0f921"
             ]
            ],
            "type": "heatmap"
           }
          ],
          "heatmapgl": [
           {
            "colorbar": {
             "outlinewidth": 0,
             "ticks": ""
            },
            "colorscale": [
             [
              0,
              "#0d0887"
             ],
             [
              0.1111111111111111,
              "#46039f"
             ],
             [
              0.2222222222222222,
              "#7201a8"
             ],
             [
              0.3333333333333333,
              "#9c179e"
             ],
             [
              0.4444444444444444,
              "#bd3786"
             ],
             [
              0.5555555555555556,
              "#d8576b"
             ],
             [
              0.6666666666666666,
              "#ed7953"
             ],
             [
              0.7777777777777778,
              "#fb9f3a"
             ],
             [
              0.8888888888888888,
              "#fdca26"
             ],
             [
              1,
              "#f0f921"
             ]
            ],
            "type": "heatmapgl"
           }
          ],
          "histogram": [
           {
            "marker": {
             "pattern": {
              "fillmode": "overlay",
              "size": 10,
              "solidity": 0.2
             }
            },
            "type": "histogram"
           }
          ],
          "histogram2d": [
           {
            "colorbar": {
             "outlinewidth": 0,
             "ticks": ""
            },
            "colorscale": [
             [
              0,
              "#0d0887"
             ],
             [
              0.1111111111111111,
              "#46039f"
             ],
             [
              0.2222222222222222,
              "#7201a8"
             ],
             [
              0.3333333333333333,
              "#9c179e"
             ],
             [
              0.4444444444444444,
              "#bd3786"
             ],
             [
              0.5555555555555556,
              "#d8576b"
             ],
             [
              0.6666666666666666,
              "#ed7953"
             ],
             [
              0.7777777777777778,
              "#fb9f3a"
             ],
             [
              0.8888888888888888,
              "#fdca26"
             ],
             [
              1,
              "#f0f921"
             ]
            ],
            "type": "histogram2d"
           }
          ],
          "histogram2dcontour": [
           {
            "colorbar": {
             "outlinewidth": 0,
             "ticks": ""
            },
            "colorscale": [
             [
              0,
              "#0d0887"
             ],
             [
              0.1111111111111111,
              "#46039f"
             ],
             [
              0.2222222222222222,
              "#7201a8"
             ],
             [
              0.3333333333333333,
              "#9c179e"
             ],
             [
              0.4444444444444444,
              "#bd3786"
             ],
             [
              0.5555555555555556,
              "#d8576b"
             ],
             [
              0.6666666666666666,
              "#ed7953"
             ],
             [
              0.7777777777777778,
              "#fb9f3a"
             ],
             [
              0.8888888888888888,
              "#fdca26"
             ],
             [
              1,
              "#f0f921"
             ]
            ],
            "type": "histogram2dcontour"
           }
          ],
          "mesh3d": [
           {
            "colorbar": {
             "outlinewidth": 0,
             "ticks": ""
            },
            "type": "mesh3d"
           }
          ],
          "parcoords": [
           {
            "line": {
             "colorbar": {
              "outlinewidth": 0,
              "ticks": ""
             }
            },
            "type": "parcoords"
           }
          ],
          "pie": [
           {
            "automargin": true,
            "type": "pie"
           }
          ],
          "scatter": [
           {
            "marker": {
             "line": {
              "color": "#283442"
             }
            },
            "type": "scatter"
           }
          ],
          "scatter3d": [
           {
            "line": {
             "colorbar": {
              "outlinewidth": 0,
              "ticks": ""
             }
            },
            "marker": {
             "colorbar": {
              "outlinewidth": 0,
              "ticks": ""
             }
            },
            "type": "scatter3d"
           }
          ],
          "scattercarpet": [
           {
            "marker": {
             "colorbar": {
              "outlinewidth": 0,
              "ticks": ""
             }
            },
            "type": "scattercarpet"
           }
          ],
          "scattergeo": [
           {
            "marker": {
             "colorbar": {
              "outlinewidth": 0,
              "ticks": ""
             }
            },
            "type": "scattergeo"
           }
          ],
          "scattergl": [
           {
            "marker": {
             "line": {
              "color": "#283442"
             }
            },
            "type": "scattergl"
           }
          ],
          "scattermapbox": [
           {
            "marker": {
             "colorbar": {
              "outlinewidth": 0,
              "ticks": ""
             }
            },
            "type": "scattermapbox"
           }
          ],
          "scatterpolar": [
           {
            "marker": {
             "colorbar": {
              "outlinewidth": 0,
              "ticks": ""
             }
            },
            "type": "scatterpolar"
           }
          ],
          "scatterpolargl": [
           {
            "marker": {
             "colorbar": {
              "outlinewidth": 0,
              "ticks": ""
             }
            },
            "type": "scatterpolargl"
           }
          ],
          "scatterternary": [
           {
            "marker": {
             "colorbar": {
              "outlinewidth": 0,
              "ticks": ""
             }
            },
            "type": "scatterternary"
           }
          ],
          "surface": [
           {
            "colorbar": {
             "outlinewidth": 0,
             "ticks": ""
            },
            "colorscale": [
             [
              0,
              "#0d0887"
             ],
             [
              0.1111111111111111,
              "#46039f"
             ],
             [
              0.2222222222222222,
              "#7201a8"
             ],
             [
              0.3333333333333333,
              "#9c179e"
             ],
             [
              0.4444444444444444,
              "#bd3786"
             ],
             [
              0.5555555555555556,
              "#d8576b"
             ],
             [
              0.6666666666666666,
              "#ed7953"
             ],
             [
              0.7777777777777778,
              "#fb9f3a"
             ],
             [
              0.8888888888888888,
              "#fdca26"
             ],
             [
              1,
              "#f0f921"
             ]
            ],
            "type": "surface"
           }
          ],
          "table": [
           {
            "cells": {
             "fill": {
              "color": "#506784"
             },
             "line": {
              "color": "rgb(17,17,17)"
             }
            },
            "header": {
             "fill": {
              "color": "#2a3f5f"
             },
             "line": {
              "color": "rgb(17,17,17)"
             }
            },
            "type": "table"
           }
          ]
         },
         "layout": {
          "annotationdefaults": {
           "arrowcolor": "#f2f5fa",
           "arrowhead": 0,
           "arrowwidth": 1
          },
          "autotypenumbers": "strict",
          "coloraxis": {
           "colorbar": {
            "outlinewidth": 0,
            "ticks": ""
           }
          },
          "colorscale": {
           "diverging": [
            [
             0,
             "#8e0152"
            ],
            [
             0.1,
             "#c51b7d"
            ],
            [
             0.2,
             "#de77ae"
            ],
            [
             0.3,
             "#f1b6da"
            ],
            [
             0.4,
             "#fde0ef"
            ],
            [
             0.5,
             "#f7f7f7"
            ],
            [
             0.6,
             "#e6f5d0"
            ],
            [
             0.7,
             "#b8e186"
            ],
            [
             0.8,
             "#7fbc41"
            ],
            [
             0.9,
             "#4d9221"
            ],
            [
             1,
             "#276419"
            ]
           ],
           "sequential": [
            [
             0,
             "#0d0887"
            ],
            [
             0.1111111111111111,
             "#46039f"
            ],
            [
             0.2222222222222222,
             "#7201a8"
            ],
            [
             0.3333333333333333,
             "#9c179e"
            ],
            [
             0.4444444444444444,
             "#bd3786"
            ],
            [
             0.5555555555555556,
             "#d8576b"
            ],
            [
             0.6666666666666666,
             "#ed7953"
            ],
            [
             0.7777777777777778,
             "#fb9f3a"
            ],
            [
             0.8888888888888888,
             "#fdca26"
            ],
            [
             1,
             "#f0f921"
            ]
           ],
           "sequentialminus": [
            [
             0,
             "#0d0887"
            ],
            [
             0.1111111111111111,
             "#46039f"
            ],
            [
             0.2222222222222222,
             "#7201a8"
            ],
            [
             0.3333333333333333,
             "#9c179e"
            ],
            [
             0.4444444444444444,
             "#bd3786"
            ],
            [
             0.5555555555555556,
             "#d8576b"
            ],
            [
             0.6666666666666666,
             "#ed7953"
            ],
            [
             0.7777777777777778,
             "#fb9f3a"
            ],
            [
             0.8888888888888888,
             "#fdca26"
            ],
            [
             1,
             "#f0f921"
            ]
           ]
          },
          "colorway": [
           "#636efa",
           "#EF553B",
           "#00cc96",
           "#ab63fa",
           "#FFA15A",
           "#19d3f3",
           "#FF6692",
           "#B6E880",
           "#FF97FF",
           "#FECB52"
          ],
          "font": {
           "color": "#f2f5fa"
          },
          "geo": {
           "bgcolor": "rgb(17,17,17)",
           "lakecolor": "rgb(17,17,17)",
           "landcolor": "rgb(17,17,17)",
           "showlakes": true,
           "showland": true,
           "subunitcolor": "#506784"
          },
          "hoverlabel": {
           "align": "left"
          },
          "hovermode": "closest",
          "mapbox": {
           "style": "dark"
          },
          "paper_bgcolor": "rgb(17,17,17)",
          "plot_bgcolor": "rgb(17,17,17)",
          "polar": {
           "angularaxis": {
            "gridcolor": "#506784",
            "linecolor": "#506784",
            "ticks": ""
           },
           "bgcolor": "rgb(17,17,17)",
           "radialaxis": {
            "gridcolor": "#506784",
            "linecolor": "#506784",
            "ticks": ""
           }
          },
          "scene": {
           "xaxis": {
            "backgroundcolor": "rgb(17,17,17)",
            "gridcolor": "#506784",
            "gridwidth": 2,
            "linecolor": "#506784",
            "showbackground": true,
            "ticks": "",
            "zerolinecolor": "#C8D4E3"
           },
           "yaxis": {
            "backgroundcolor": "rgb(17,17,17)",
            "gridcolor": "#506784",
            "gridwidth": 2,
            "linecolor": "#506784",
            "showbackground": true,
            "ticks": "",
            "zerolinecolor": "#C8D4E3"
           },
           "zaxis": {
            "backgroundcolor": "rgb(17,17,17)",
            "gridcolor": "#506784",
            "gridwidth": 2,
            "linecolor": "#506784",
            "showbackground": true,
            "ticks": "",
            "zerolinecolor": "#C8D4E3"
           }
          },
          "shapedefaults": {
           "line": {
            "color": "#f2f5fa"
           }
          },
          "sliderdefaults": {
           "bgcolor": "#C8D4E3",
           "bordercolor": "rgb(17,17,17)",
           "borderwidth": 1,
           "tickwidth": 0
          },
          "ternary": {
           "aaxis": {
            "gridcolor": "#506784",
            "linecolor": "#506784",
            "ticks": ""
           },
           "baxis": {
            "gridcolor": "#506784",
            "linecolor": "#506784",
            "ticks": ""
           },
           "bgcolor": "rgb(17,17,17)",
           "caxis": {
            "gridcolor": "#506784",
            "linecolor": "#506784",
            "ticks": ""
           }
          },
          "title": {
           "x": 0.05
          },
          "updatemenudefaults": {
           "bgcolor": "#506784",
           "borderwidth": 0
          },
          "xaxis": {
           "automargin": true,
           "gridcolor": "#283442",
           "linecolor": "#506784",
           "ticks": "",
           "title": {
            "standoff": 15
           },
           "zerolinecolor": "#283442",
           "zerolinewidth": 2
          },
          "yaxis": {
           "automargin": true,
           "gridcolor": "#283442",
           "linecolor": "#506784",
           "ticks": "",
           "title": {
            "standoff": 15
           },
           "zerolinecolor": "#283442",
           "zerolinewidth": 2
          }
         }
        },
        "title": {
         "font": {
          "family": "Arial, sans-serif",
          "size": 24
         },
         "text": "Lyrical Similarity Between Drake Albums",
         "x": 0.5
        },
        "width": 1000,
        "xaxis": {
         "anchor": "y",
         "domain": [
          0,
          1
         ],
         "range": [
          -12.957771645293402,
          14.724418444207686
         ],
         "showticklabels": false,
         "title": {
          "text": ""
         }
        },
        "yaxis": {
         "anchor": "x",
         "domain": [
          0,
          1
         ],
         "range": [
          -18.38256968234974,
          10.378415758546602
         ],
         "showticklabels": false,
         "title": {
          "text": ""
         }
        }
       }
      }
     },
     "metadata": {},
     "output_type": "display_data"
    }
   ],
   "source": [
    "import plotly.io as pio\n",
    "import plotly.express as px\n",
    "pio.templates.default = \"plotly_dark\"\n",
    "\n",
    "# Create a square figure\n",
    "fig = px.scatter(embedding_df, x='x', y='y', opacity=0, hover_data=['year', 'most_similar_album', 'least_similar_album'])\n",
    "\n",
    "# Calculate the range based on your actual data for a dynamic approach\n",
    "x_min = embedding_df['x'].min() - 5  # 10 units padding\n",
    "x_max = embedding_df['x'].max() + 5\n",
    "y_min = embedding_df['y'].min() - 10\n",
    "y_max = embedding_df['y'].max() + 0\n",
    "\n",
    "# Update x-axis and y-axis range\n",
    "fig.update_xaxes(range=[x_min, x_max])\n",
    "fig.update_yaxes(range=[y_min, y_max])\n",
    "\n",
    "# Remove axis labels and numbers\n",
    "fig.update_xaxes(title_text='', showticklabels=False)\n",
    "fig.update_yaxes(title_text='', showticklabels=False)\n",
    "\n",
    "# Make plot square\n",
    "fig.update_layout(width=1000, height=1000, title_text='Lyrical Similarity Between Drake Albums', title_x=0.5)\n",
    "\n",
    "fig.update_layout(title_font=dict(size=24, family=\"Arial, sans-serif\"))\n",
    "\n",
    "# Add images\n",
    "for i, row in embedding_df.iterrows():\n",
    "    fig.add_layout_image(\n",
    "        dict(\n",
    "            source=row['song_art_image_thumbnail_url'],\n",
    "            x=row['x'],\n",
    "            y=row['y'],\n",
    "            xref=\"x\",\n",
    "            yref=\"y\",\n",
    "            xanchor=\"center\",\n",
    "            yanchor=\"top\",\n",
    "            sizex=3,  # you may need to adjust these dimensions based on your specific case\n",
    "            sizey=3,\n",
    "            opacity=1,\n",
    "            layer=\"below\"\n",
    "        )\n",
    "    )\n",
    "\n",
    "    # Add text label below the image\n",
    "    fig.add_annotation(\n",
    "        x=row['x'],\n",
    "        y=row['y'],\n",
    "        xanchor=\"center\",\n",
    "        yanchor=\"bottom\",\n",
    "        text=row['album'],\n",
    "        showarrow=False,\n",
    "        font=dict(size=10)\n",
    "    )\n",
    "\n",
    "#Remove gridlines\n",
    "#fig.update_xaxes(showgrid=False, zeroline=False)\n",
    "#fig.update_yaxes(showgrid=False, zeroline=False)\n",
    "\n",
    "#fig.update_layout(paper_bgcolor=\"rgba(0,0,0,0)\", plot_bgcolor=\"rgba(0,0,0,0)\")\n",
    "#fig.update_layout(paper_bgcolor='#fafafa', plot_bgcolor='#fafafa')\n",
    "\n",
    "# Show the plot\n",
    "fig.show()"
   ]
  },
  {
   "cell_type": "markdown",
   "metadata": {},
   "source": [
    "### Visualize Every Drake Song"
   ]
  },
  {
   "cell_type": "code",
   "execution_count": 185,
   "metadata": {},
   "outputs": [
    {
     "data": {
      "text/html": [
       "<div>\n",
       "<style scoped>\n",
       "    .dataframe tbody tr th:only-of-type {\n",
       "        vertical-align: middle;\n",
       "    }\n",
       "\n",
       "    .dataframe tbody tr th {\n",
       "        vertical-align: top;\n",
       "    }\n",
       "\n",
       "    .dataframe thead th {\n",
       "        text-align: right;\n",
       "    }\n",
       "</style>\n",
       "<table border=\"1\" class=\"dataframe\">\n",
       "  <thead>\n",
       "    <tr style=\"text-align: right;\">\n",
       "      <th></th>\n",
       "      <th>Dimension 1</th>\n",
       "      <th>Dimension 2</th>\n",
       "      <th>title</th>\n",
       "      <th>album</th>\n",
       "      <th>year</th>\n",
       "      <th>song_art_image_thumbnail_url</th>\n",
       "    </tr>\n",
       "  </thead>\n",
       "  <tbody>\n",
       "    <tr>\n",
       "      <th>54</th>\n",
       "      <td>-2.590371</td>\n",
       "      <td>-1.825695</td>\n",
       "      <td>Calling For You</td>\n",
       "      <td>For All The Dogs</td>\n",
       "      <td>2023</td>\n",
       "      <td>https://images.genius.com/2974a46656bda32e9b44...</td>\n",
       "    </tr>\n",
       "    <tr>\n",
       "      <th>52</th>\n",
       "      <td>4.111679</td>\n",
       "      <td>0.787449</td>\n",
       "      <td>Virginia Beach</td>\n",
       "      <td>For All The Dogs</td>\n",
       "      <td>2023</td>\n",
       "      <td>https://images.genius.com/2974a46656bda32e9b44...</td>\n",
       "    </tr>\n",
       "    <tr>\n",
       "      <th>55</th>\n",
       "      <td>-4.190627</td>\n",
       "      <td>-3.310348</td>\n",
       "      <td>Fear Of Heights</td>\n",
       "      <td>For All The Dogs</td>\n",
       "      <td>2023</td>\n",
       "      <td>https://images.genius.com/2974a46656bda32e9b44...</td>\n",
       "    </tr>\n",
       "    <tr>\n",
       "      <th>56</th>\n",
       "      <td>-0.310613</td>\n",
       "      <td>-5.651745</td>\n",
       "      <td>Daylight</td>\n",
       "      <td>For All The Dogs</td>\n",
       "      <td>2023</td>\n",
       "      <td>https://images.genius.com/2974a46656bda32e9b44...</td>\n",
       "    </tr>\n",
       "    <tr>\n",
       "      <th>57</th>\n",
       "      <td>-1.683655</td>\n",
       "      <td>-3.729206</td>\n",
       "      <td>First Person Shooter</td>\n",
       "      <td>For All The Dogs</td>\n",
       "      <td>2023</td>\n",
       "      <td>https://images.genius.com/2974a46656bda32e9b44...</td>\n",
       "    </tr>\n",
       "  </tbody>\n",
       "</table>\n",
       "</div>"
      ],
      "text/plain": [
       "    Dimension 1  Dimension 2                 title             album  year   \n",
       "54    -2.590371    -1.825695       Calling For You  For All The Dogs  2023  \\\n",
       "52     4.111679     0.787449        Virginia Beach  For All The Dogs  2023   \n",
       "55    -4.190627    -3.310348       Fear Of Heights  For All The Dogs  2023   \n",
       "56    -0.310613    -5.651745              Daylight  For All The Dogs  2023   \n",
       "57    -1.683655    -3.729206  First Person Shooter  For All The Dogs  2023   \n",
       "\n",
       "                         song_art_image_thumbnail_url  \n",
       "54  https://images.genius.com/2974a46656bda32e9b44...  \n",
       "52  https://images.genius.com/2974a46656bda32e9b44...  \n",
       "55  https://images.genius.com/2974a46656bda32e9b44...  \n",
       "56  https://images.genius.com/2974a46656bda32e9b44...  \n",
       "57  https://images.genius.com/2974a46656bda32e9b44...  "
      ]
     },
     "execution_count": 185,
     "metadata": {},
     "output_type": "execute_result"
    }
   ],
   "source": [
    "# Convert the embeddings column of lists to a 2D numpy array\n",
    "embeddings = drake_df['embedding'].tolist()\n",
    "embeddings_array = np.array(embeddings)\n",
    "\n",
    "# Apply t-SNE transformation\n",
    "tsne = TSNE(n_components=2, perplexity=50, n_iter=300, random_state=2)\n",
    "embeddings_2d = tsne.fit_transform(embeddings_array)\n",
    "\n",
    "song_embeddings_df = pd.DataFrame(data=embeddings_2d, columns=['Dimension 1', 'Dimension 2'])\n",
    "song_embeddings_df['title'] = drake_df['title']\n",
    "song_embeddings_df['album'] = drake_df['album']\n",
    "#Remove the rows where the album is 'Room for Improvement' or 'Comeback Season'\n",
    "song_embeddings_df = song_embeddings_df.loc[~song_embeddings_df['album'].isin(['Room for Improvement', 'Comeback Season'])]\n",
    "song_embeddings_df['year'] = drake_df['year']\n",
    "song_embeddings_df['song_art_image_thumbnail_url'] = drake_df['song_art_image_thumbnail_url']\n",
    "#Remove rows where the title ares duplicates, and only keep the row with the highest year\n",
    "song_embeddings_df = song_embeddings_df.sort_values('year', ascending=False).drop_duplicates(subset=['title'])\n",
    "#Remove the row where the title is 'Hate Sleeping Alone'\n",
    "song_embeddings_df = song_embeddings_df[song_embeddings_df['title'] != 'Hate Sleeping Alone']\n",
    "song_embeddings_df = song_embeddings_df[song_embeddings_df['title'] != 'More Life: Editor’s Note']\n",
    "song_embeddings_df.head()"
   ]
  },
  {
   "cell_type": "code",
   "execution_count": 207,
   "metadata": {},
   "outputs": [
    {
     "data": {
      "application/vnd.plotly.v1+json": {
       "config": {
        "plotlyServerURL": "https://plot.ly"
       },
       "data": [
        {
         "customdata": [
          [
           "For All The Dogs",
           2023
          ],
          [
           "For All The Dogs",
           2023
          ],
          [
           "For All The Dogs",
           2023
          ],
          [
           "For All The Dogs",
           2023
          ],
          [
           "For All The Dogs",
           2023
          ],
          [
           "For All The Dogs",
           2023
          ],
          [
           "For All The Dogs",
           2023
          ],
          [
           "For All The Dogs",
           2023
          ],
          [
           "For All The Dogs",
           2023
          ],
          [
           "For All The Dogs",
           2023
          ],
          [
           "For All The Dogs",
           2023
          ],
          [
           "For All The Dogs",
           2023
          ],
          [
           "For All The Dogs",
           2023
          ],
          [
           "For All The Dogs",
           2023
          ],
          [
           "For All The Dogs",
           2023
          ],
          [
           "For All The Dogs",
           2023
          ],
          [
           "For All The Dogs",
           2023
          ],
          [
           "For All The Dogs",
           2023
          ],
          [
           "For All The Dogs",
           2023
          ],
          [
           "For All The Dogs",
           2023
          ],
          [
           "For All The Dogs",
           2023
          ],
          [
           "For All The Dogs",
           2023
          ],
          [
           "For All The Dogs",
           2023
          ]
         ],
         "hovertemplate": "album=%{customdata[0]}<br>Dimension 1=%{x}<br>Dimension 2=%{y}<br>title=%{text}<br>year=%{customdata[1]}<extra></extra>",
         "legendgroup": "For All The Dogs",
         "marker": {
          "color": "#636EFA",
          "symbol": "circle"
         },
         "mode": "markers+text",
         "name": "For All The Dogs",
         "orientation": "v",
         "showlegend": true,
         "text": [
          "Calling For You",
          "Virginia Beach",
          "Fear Of Heights",
          "Daylight",
          "First Person Shooter",
          "IDGAF",
          "7969 Santa",
          "Slime You Out",
          "Bahamas Promises",
          "Tried Our Best",
          "Screw The World (Interlude)",
          "Drew A Picasso",
          "Members Only",
          "What Would Pluto Do",
          "All The Parties",
          "8am in Charlotte",
          "BBL Love (Interlude)",
          "Gently",
          "Rich Baby Daddy",
          "Another Late Night",
          "Away From Home",
          "Polar Opposites",
          "Amen"
         ],
         "textfont": {
          "color": "white",
          "size": 9
         },
         "textposition": "top center",
         "type": "scatter",
         "x": [
          -2.590371,
          4.111679,
          -4.1906266,
          -0.3106134,
          -1.6836547,
          -1.0442746,
          -3.318063,
          -1.1921618,
          -5.3928175,
          1.6098864,
          -0.48983243,
          -1.8539673,
          -0.25176015,
          -6.63925,
          -3.317143,
          2.4674504,
          -3.745019,
          -5.231698,
          -3.3628104,
          -3.2508707,
          2.9701178,
          4.184293,
          -2.515888
         ],
         "xaxis": "x",
         "y": [
          -1.8256948,
          0.7874485,
          -3.3103483,
          -5.6517453,
          -3.729206,
          -4.0870376,
          -2.5259025,
          1.672534,
          3.2245705,
          4.40292,
          -5.13989,
          1.0519061,
          -7.2812147,
          -3.7807565,
          -3.3620381,
          -4.65468,
          0.02955745,
          -4.268767,
          0.2626474,
          -3.4897954,
          -1.6182296,
          4.4042826,
          11.053648
         ],
         "yaxis": "y"
        },
        {
         "customdata": [
          [
           "Honestly, Nevermind",
           2022
          ],
          [
           "Honestly, Nevermind",
           2022
          ],
          [
           "Honestly, Nevermind",
           2022
          ],
          [
           "Honestly, Nevermind",
           2022
          ],
          [
           "Honestly, Nevermind",
           2022
          ],
          [
           "Honestly, Nevermind",
           2022
          ],
          [
           "Honestly, Nevermind",
           2022
          ],
          [
           "Honestly, Nevermind",
           2022
          ],
          [
           "Honestly, Nevermind",
           2022
          ],
          [
           "Honestly, Nevermind",
           2022
          ],
          [
           "Honestly, Nevermind",
           2022
          ],
          [
           "Honestly, Nevermind",
           2022
          ],
          [
           "Honestly, Nevermind",
           2022
          ]
         ],
         "hovertemplate": "album=%{customdata[0]}<br>Dimension 1=%{x}<br>Dimension 2=%{y}<br>title=%{text}<br>year=%{customdata[1]}<extra></extra>",
         "legendgroup": "Honestly, Nevermind",
         "marker": {
          "color": "#EF553B",
          "symbol": "circle"
         },
         "mode": "markers+text",
         "name": "Honestly, Nevermind",
         "orientation": "v",
         "showlegend": true,
         "text": [
          "Falling Back",
          "Texts Go Green",
          "Tie That Binds",
          "A Keeper",
          "Liability",
          "Jimmy Cooks",
          "Flight’s Booked",
          "Massive",
          "Sticky",
          "Calling My Name",
          "Overdrive",
          "Down Hill",
          "Currents"
         ],
         "textfont": {
          "color": "white",
          "size": 9
         },
         "textposition": "top center",
         "type": "scatter",
         "x": [
          3.6516588,
          1.2698401,
          3.1802032,
          -2.2642837,
          1.9395846,
          0.27248937,
          2.3244095,
          2.121048,
          -3.9925501,
          3.8589666,
          3.4626384,
          2.525059,
          3.3822093
         ],
         "xaxis": "x",
         "y": [
          6.322599,
          6.5191607,
          7.59147,
          7.2807117,
          5.278263,
          -5.5836253,
          8.270138,
          8.097574,
          -3.8234627,
          7.213179,
          8.61102,
          9.093383,
          9.134316
         ],
         "yaxis": "y"
        },
        {
         "customdata": [
          [
           "Certified Lover Boy",
           2021
          ],
          [
           "Certified Lover Boy",
           2021
          ],
          [
           "Certified Lover Boy",
           2021
          ],
          [
           "Certified Lover Boy",
           2021
          ],
          [
           "Certified Lover Boy",
           2021
          ],
          [
           "Certified Lover Boy",
           2021
          ],
          [
           "Certified Lover Boy",
           2021
          ],
          [
           "Certified Lover Boy",
           2021
          ],
          [
           "Certified Lover Boy",
           2021
          ],
          [
           "Certified Lover Boy",
           2021
          ],
          [
           "Certified Lover Boy",
           2021
          ],
          [
           "Certified Lover Boy",
           2021
          ],
          [
           "Certified Lover Boy",
           2021
          ],
          [
           "Certified Lover Boy",
           2021
          ],
          [
           "Certified Lover Boy",
           2021
          ],
          [
           "Certified Lover Boy",
           2021
          ],
          [
           "Certified Lover Boy",
           2021
          ],
          [
           "Certified Lover Boy",
           2021
          ],
          [
           "Certified Lover Boy",
           2021
          ],
          [
           "Certified Lover Boy",
           2021
          ],
          [
           "Certified Lover Boy",
           2021
          ]
         ],
         "hovertemplate": "album=%{customdata[0]}<br>Dimension 1=%{x}<br>Dimension 2=%{y}<br>title=%{text}<br>year=%{customdata[1]}<extra></extra>",
         "legendgroup": "Certified Lover Boy",
         "marker": {
          "color": "#00CC96",
          "symbol": "circle"
         },
         "mode": "markers+text",
         "name": "Certified Lover Boy",
         "orientation": "v",
         "showlegend": true,
         "text": [
          "7AM On Bridle Path",
          "Race My Mind",
          "Fountains",
          "Get Along Better",
          "IMY2",
          "Knife Talk",
          "No Friends In The Industry",
          "Yebba’s Heartbreak",
          "Champagne Poetry",
          "Papi’s Home",
          "Girls Want Girls",
          "In The Bible",
          "Love All",
          "Fair Trade",
          "Way 2 Sexy",
          "TSU",
          "N 2 Deep",
          "The Remorse",
          "Pipe Down",
          "Fucking Fans",
          "You Only Live Twice"
         ],
         "textfont": {
          "color": "white",
          "size": 9
         },
         "textposition": "top center",
         "type": "scatter",
         "x": [
          0.71352804,
          -0.3532483,
          3.1501763,
          1.1229291,
          2.576828,
          -1.3780421,
          2.4802861,
          4.465691,
          -0.7399423,
          3.229501,
          -3.875899,
          -0.48374003,
          3.729625,
          1.2758696,
          -4.966589,
          -3.7649672,
          -2.0645273,
          0.804981,
          1.3479574,
          0.9407273,
          -1.3601872
         ],
         "xaxis": "x",
         "y": [
          -2.896229,
          5.2533946,
          7.786064,
          6.2076154,
          2.4240546,
          -6.1129527,
          -6.4937544,
          8.140814,
          0.6100651,
          0.9664861,
          4.15813,
          1.2509325,
          -5.5470567,
          1.3474132,
          0.9697777,
          2.4485505,
          2.2512603,
          -0.48058096,
          3.546557,
          5.316941,
          -5.123209
         ],
         "yaxis": "y"
        },
        {
         "customdata": [
          [
           "Scary Hours 2",
           2021
          ],
          [
           "Scary Hours 2",
           2021
          ],
          [
           "Scary Hours 2",
           2021
          ]
         ],
         "hovertemplate": "album=%{customdata[0]}<br>Dimension 1=%{x}<br>Dimension 2=%{y}<br>title=%{text}<br>year=%{customdata[1]}<extra></extra>",
         "legendgroup": "Scary Hours 2",
         "marker": {
          "color": "#AB63FA",
          "symbol": "circle"
         },
         "mode": "markers+text",
         "name": "Scary Hours 2",
         "orientation": "v",
         "showlegend": true,
         "text": [
          "Wants and Needs",
          "What’s Next",
          "Lemon Pepper Freestyle"
         ],
         "textfont": {
          "color": "white",
          "size": 9
         },
         "textposition": "top center",
         "type": "scatter",
         "x": [
          -1.6387829,
          0.27183858,
          3.3719623
         ],
         "xaxis": "x",
         "y": [
          -4.6969333,
          1.0754104,
          -3.2965353
         ],
         "yaxis": "y"
        },
        {
         "customdata": [
          [
           "Dark Lane Demo Tapes",
           2020
          ],
          [
           "Dark Lane Demo Tapes",
           2020
          ],
          [
           "Dark Lane Demo Tapes",
           2020
          ],
          [
           "Dark Lane Demo Tapes",
           2020
          ],
          [
           "Dark Lane Demo Tapes",
           2020
          ],
          [
           "Dark Lane Demo Tapes",
           2020
          ],
          [
           "Dark Lane Demo Tapes",
           2020
          ],
          [
           "Dark Lane Demo Tapes",
           2020
          ],
          [
           "Dark Lane Demo Tapes",
           2020
          ],
          [
           "Dark Lane Demo Tapes",
           2020
          ],
          [
           "Dark Lane Demo Tapes",
           2020
          ],
          [
           "Dark Lane Demo Tapes",
           2020
          ],
          [
           "Dark Lane Demo Tapes",
           2020
          ],
          [
           "Dark Lane Demo Tapes",
           2020
          ]
         ],
         "hovertemplate": "album=%{customdata[0]}<br>Dimension 1=%{x}<br>Dimension 2=%{y}<br>title=%{text}<br>year=%{customdata[1]}<extra></extra>",
         "legendgroup": "Dark Lane Demo Tapes",
         "marker": {
          "color": "#FFA15A",
          "symbol": "circle"
         },
         "mode": "markers+text",
         "name": "Dark Lane Demo Tapes",
         "orientation": "v",
         "showlegend": true,
         "text": [
          "Time Flies",
          "Demons",
          "From Florida With Love",
          "Losses",
          "Pain 1993",
          "D4L",
          "Landed",
          "Desires",
          "Toosie Slide",
          "Not You Too",
          "Chicago Freestyle",
          "When To Say When",
          "Deep Pockets",
          "War"
         ],
         "textfont": {
          "color": "white",
          "size": 9
         },
         "textposition": "top center",
         "type": "scatter",
         "x": [
          -0.50274664,
          -3.237182,
          -3.283267,
          0.95783913,
          -3.6395915,
          -2.470605,
          -4.5748115,
          -4.603492,
          -3.907446,
          0.9827031,
          5.0958815,
          0.5549915,
          0.50748706,
          -1.3583122
         ],
         "xaxis": "x",
         "y": [
          -0.6954083,
          -5.808668,
          -4.679809,
          0.57298136,
          -5.397866,
          -5.613154,
          -3.4271321,
          -2.6577175,
          -7.1346674,
          5.920932,
          3.8177035,
          -2.0325172,
          -4.2927837,
          -6.6486235
         ],
         "yaxis": "y"
        },
        {
         "customdata": [
          [
           "Care Package",
           2019
          ],
          [
           "Care Package",
           2019
          ],
          [
           "Care Package",
           2019
          ],
          [
           "Care Package",
           2019
          ],
          [
           "Care Package",
           2019
          ],
          [
           "Care Package",
           2019
          ],
          [
           "Care Package",
           2019
          ],
          [
           "Care Package",
           2019
          ],
          [
           "Care Package",
           2019
          ],
          [
           "Care Package",
           2019
          ],
          [
           "Care Package",
           2019
          ],
          [
           "Care Package",
           2019
          ],
          [
           "Care Package",
           2019
          ],
          [
           "Care Package",
           2019
          ],
          [
           "Care Package",
           2019
          ],
          [
           "Care Package",
           2019
          ],
          [
           "Care Package",
           2019
          ]
         ],
         "hovertemplate": "album=%{customdata[0]}<br>Dimension 1=%{x}<br>Dimension 2=%{y}<br>title=%{text}<br>year=%{customdata[1]}<extra></extra>",
         "legendgroup": "Care Package",
         "marker": {
          "color": "#19D3F3",
          "symbol": "circle"
         },
         "mode": "markers+text",
         "name": "Care Package",
         "orientation": "v",
         "showlegend": true,
         "text": [
          "4PM in Calabasas",
          "5AM in Toronto",
          "Trust Issues",
          "Jodeci Freestyle",
          "Days in the East",
          "Can I",
          "Paris Morton Music",
          "Girls Love Beyoncé",
          "Free Spirit",
          "Club Paradise",
          "Heat of the Moment",
          "My Side",
          "I Get Lonely",
          "Dreams Money Can Buy",
          "The Motion",
          "How Bout Now",
          "Draft Day"
         ],
         "textfont": {
          "color": "white",
          "size": 9
         },
         "textposition": "top center",
         "type": "scatter",
         "x": [
          1.0935382,
          -0.20249018,
          -1.3215644,
          3.079646,
          -0.38129807,
          0.17753477,
          1.1135569,
          -2.368594,
          -1.3396856,
          0.74143124,
          -6.5036716,
          0.14208029,
          2.2349856,
          -1.2460878,
          -2.3140507,
          0.79980433,
          -5.663182
         ],
         "xaxis": "x",
         "y": [
          -2.904633,
          -2.5182,
          3.4036126,
          -4.7321424,
          3.9058547,
          9.094457,
          4.9445314,
          4.424534,
          -0.06962578,
          0.7837558,
          2.0431695,
          4.321419,
          8.073266,
          -2.468429,
          8.995401,
          3.1468208,
          -6.201398
         ],
         "yaxis": "y"
        },
        {
         "customdata": [
          [
           "Scorpion",
           2018
          ],
          [
           "Scorpion",
           2018
          ],
          [
           "Scorpion",
           2018
          ],
          [
           "Scorpion",
           2018
          ],
          [
           "Scorpion",
           2018
          ],
          [
           "Scorpion",
           2018
          ],
          [
           "Scorpion",
           2018
          ],
          [
           "Scorpion",
           2018
          ],
          [
           "Scorpion",
           2018
          ],
          [
           "Scorpion",
           2018
          ],
          [
           "Scorpion",
           2018
          ],
          [
           "Scorpion",
           2018
          ],
          [
           "Scorpion",
           2018
          ],
          [
           "Scorpion",
           2018
          ],
          [
           "Scorpion",
           2018
          ],
          [
           "Scorpion",
           2018
          ],
          [
           "Scorpion",
           2018
          ],
          [
           "Scorpion",
           2018
          ],
          [
           "Scorpion",
           2018
          ],
          [
           "Scorpion",
           2018
          ],
          [
           "Scorpion",
           2018
          ],
          [
           "Scorpion",
           2018
          ],
          [
           "Scorpion",
           2018
          ],
          [
           "Scorpion",
           2018
          ],
          [
           "Scorpion",
           2018
          ]
         ],
         "hovertemplate": "album=%{customdata[0]}<br>Dimension 1=%{x}<br>Dimension 2=%{y}<br>title=%{text}<br>year=%{customdata[1]}<extra></extra>",
         "legendgroup": "Scorpion",
         "marker": {
          "color": "#FF6692",
          "symbol": "circle"
         },
         "mode": "markers+text",
         "name": "Scorpion",
         "orientation": "v",
         "showlegend": true,
         "text": [
          "Ratchet Happy Birthday",
          "March 14",
          "Final Fantasy",
          "After Dark",
          "Don’t Matter to Me",
          "In My Feelings",
          "That’s How You Feel",
          "Finesse",
          "Can’t Take a Joke",
          "Nice For What",
          "Survival",
          "Nonstop",
          "Elevate",
          "Emotionless",
          "God’s Plan",
          "I’m Upset",
          "8 Out of 10",
          "Mob Ties",
          "Blue Tint",
          "Sandra’s Rose",
          "Talk Up",
          "Is There More",
          "Peak",
          "Summer Games",
          "Jaded"
         ],
         "textfont": {
          "color": "white",
          "size": 9
         },
         "textposition": "top center",
         "type": "scatter",
         "x": [
          -6.3391547,
          3.1525042,
          -4.6073756,
          5.7535996,
          1.5221394,
          -2.1162493,
          1.2088017,
          0.056334756,
          -0.9303946,
          -0.049413882,
          2.3435175,
          -2.3960404,
          2.6006033,
          3.1640139,
          -5.644731,
          -0.61120504,
          -0.18081847,
          -3.4249644,
          -6.3511405,
          -3.145973,
          -2.808131,
          2.4486046,
          -1.569911,
          2.2097423,
          0.8685746
         ],
         "xaxis": "x",
         "y": [
          4.8989215,
          1.0618491,
          1.3875496,
          5.9464326,
          6.6323767,
          0.22063375,
          2.38502,
          8.978709,
          -7.5558276,
          2.577044,
          -2.6176536,
          -6.62341,
          -1.4542713,
          5.762506,
          -2.1503863,
          -4.2968416,
          -4.0802097,
          -4.0180955,
          -3.8893542,
          -1.3589656,
          -4.5050592,
          2.027013,
          2.477694,
          6.5375466,
          3.0291538
         ],
         "yaxis": "y"
        },
        {
         "customdata": [
          [
           "More Life",
           2017
          ],
          [
           "More Life",
           2017
          ],
          [
           "More Life",
           2017
          ],
          [
           "More Life",
           2017
          ],
          [
           "More Life",
           2017
          ],
          [
           "More Life",
           2017
          ],
          [
           "More Life",
           2017
          ],
          [
           "More Life",
           2017
          ],
          [
           "More Life",
           2017
          ],
          [
           "More Life",
           2017
          ],
          [
           "More Life",
           2017
          ],
          [
           "More Life",
           2017
          ],
          [
           "More Life",
           2017
          ],
          [
           "More Life",
           2017
          ],
          [
           "More Life",
           2017
          ],
          [
           "More Life",
           2017
          ],
          [
           "More Life",
           2017
          ],
          [
           "More Life",
           2017
          ],
          [
           "More Life",
           2017
          ],
          [
           "More Life",
           2017
          ],
          [
           "More Life",
           2017
          ],
          [
           "More Life",
           2017
          ]
         ],
         "hovertemplate": "album=%{customdata[0]}<br>Dimension 1=%{x}<br>Dimension 2=%{y}<br>title=%{text}<br>year=%{customdata[1]}<extra></extra>",
         "legendgroup": "More Life",
         "marker": {
          "color": "#B6E880",
          "symbol": "circle"
         },
         "mode": "markers+text",
         "name": "More Life",
         "orientation": "v",
         "showlegend": true,
         "text": [
          "4422",
          "Gyalchester",
          "Blem",
          "Madiba Riddim",
          "Get It Together",
          "Passionfruit",
          "No Long Talk",
          "Free Smoke",
          "Skepta Interlude",
          "Jorja Interlude",
          "Do Not Disturb",
          "Portland",
          "Sacrifices",
          "Nothings Into Somethings",
          "Teenage Fever",
          "KMT",
          "Ice Melts",
          "Can’t Have Everything",
          "Glow",
          "Since Way Back",
          "Fake Love",
          "Lose You"
         ],
         "textfont": {
          "color": "white",
          "size": 9
         },
         "textposition": "top center",
         "type": "scatter",
         "x": [
          -0.33970666,
          -4.217022,
          3.5608993,
          3.1597996,
          1.2043058,
          0.1443158,
          -1.8098453,
          1.0746549,
          4.4444704,
          2.3072877,
          4.1495833,
          -1.5809052,
          -2.5185077,
          -0.92825955,
          1.1705581,
          -2.443556,
          -3.698772,
          0.7657522,
          5.4675803,
          -0.94382423,
          1.5566523,
          1.8748814
         ],
         "xaxis": "x",
         "y": [
          7.240909,
          -4.514078,
          2.5610845,
          3.9628873,
          7.787467,
          6.757806,
          -5.8115835,
          -1.6680648,
          -7.007278,
          -0.47483402,
          -1.4548624,
          -5.4387207,
          -1.8326622,
          4.402826,
          6.231141,
          -5.125639,
          -1.4090935,
          -2.2228117,
          1.2036608,
          5.526634,
          2.3678656,
          -5.7593713
         ],
         "yaxis": "y"
        },
        {
         "customdata": [
          [
           "Views",
           2016
          ],
          [
           "Views",
           2016
          ],
          [
           "Views",
           2016
          ],
          [
           "Views",
           2016
          ],
          [
           "Views",
           2016
          ],
          [
           "Views",
           2016
          ],
          [
           "Views",
           2016
          ],
          [
           "Views",
           2016
          ],
          [
           "Views",
           2016
          ],
          [
           "Views",
           2016
          ],
          [
           "Views",
           2016
          ],
          [
           "Views",
           2016
          ],
          [
           "Views",
           2016
          ],
          [
           "Views",
           2016
          ],
          [
           "Views",
           2016
          ],
          [
           "Views",
           2016
          ],
          [
           "Views",
           2016
          ],
          [
           "Views",
           2016
          ],
          [
           "Views",
           2016
          ],
          [
           "Views",
           2016
          ]
         ],
         "hovertemplate": "album=%{customdata[0]}<br>Dimension 1=%{x}<br>Dimension 2=%{y}<br>title=%{text}<br>year=%{customdata[1]}<extra></extra>",
         "legendgroup": "Views",
         "marker": {
          "color": "#FF97FF",
          "symbol": "circle"
         },
         "mode": "markers+text",
         "name": "Views",
         "orientation": "v",
         "showlegend": true,
         "text": [
          "Fire & Desire",
          "Child’s Play",
          "Faithful",
          "Summers Over Interlude",
          "Too Good",
          "Pop Style",
          "Grammys",
          "One Dance",
          "Controlla",
          "Still Here",
          "With You",
          "Hotline Bling",
          "Redemption",
          "Weston Road Flows",
          "Hype",
          "Feel No Ways",
          "U With Me?",
          "9",
          "Keep the Family Close",
          "Views"
         ],
         "textfont": {
          "color": "white",
          "size": 9
         },
         "textposition": "top center",
         "type": "scatter",
         "x": [
          2.0032735,
          -4.4133825,
          -1.6591178,
          2.9589968,
          1.9995985,
          1.3942192,
          -0.025090866,
          -2.7318933,
          -0.29965982,
          1.650681,
          2.5260274,
          -1.1963738,
          0.5955649,
          1.2658697,
          -0.07612411,
          1.128215,
          -0.99764967,
          2.240159,
          2.9629452,
          0.28521624
         ],
         "xaxis": "x",
         "y": [
          3.3311138,
          -0.47215265,
          2.2900875,
          7.515285,
          4.6854277,
          -5.653857,
          -2.654204,
          0.8012978,
          2.1826353,
          -4.159339,
          5.4773083,
          6.3442483,
          4.6845827,
          -3.669132,
          -3.797048,
          4.0174317,
          1.5356071,
          -3.4612265,
          3.6795585,
          0.082091525
         ],
         "yaxis": "y"
        },
        {
         "customdata": [
          [
           "If You’re Reading This It’s Too Late",
           2015
          ],
          [
           "If You’re Reading This It’s Too Late",
           2015
          ],
          [
           "If You’re Reading This It’s Too Late",
           2015
          ],
          [
           "If You’re Reading This It’s Too Late",
           2015
          ],
          [
           "If You’re Reading This It’s Too Late",
           2015
          ],
          [
           "If You’re Reading This It’s Too Late",
           2015
          ],
          [
           "If You’re Reading This It’s Too Late",
           2015
          ],
          [
           "If You’re Reading This It’s Too Late",
           2015
          ],
          [
           "If You’re Reading This It’s Too Late",
           2015
          ],
          [
           "If You’re Reading This It’s Too Late",
           2015
          ],
          [
           "If You’re Reading This It’s Too Late",
           2015
          ],
          [
           "If You’re Reading This It’s Too Late",
           2015
          ],
          [
           "If You’re Reading This It’s Too Late",
           2015
          ],
          [
           "If You’re Reading This It’s Too Late",
           2015
          ],
          [
           "If You’re Reading This It’s Too Late",
           2015
          ],
          [
           "If You’re Reading This It’s Too Late",
           2015
          ],
          [
           "If You’re Reading This It’s Too Late",
           2015
          ]
         ],
         "hovertemplate": "album=%{customdata[0]}<br>Dimension 1=%{x}<br>Dimension 2=%{y}<br>title=%{text}<br>year=%{customdata[1]}<extra></extra>",
         "legendgroup": "If You’re Reading This It’s Too Late",
         "marker": {
          "color": "#FECB52",
          "symbol": "circle"
         },
         "mode": "markers+text",
         "name": "If You’re Reading This It’s Too Late",
         "orientation": "v",
         "showlegend": true,
         "text": [
          "You & The 6",
          "Star67",
          "6PM in New York",
          "Jungle",
          "Company",
          "Now & Forever",
          "6 Man",
          "Used To",
          "Preach",
          "Wednesday Night Interlude",
          "6 God",
          "Madonna",
          "No Tellin’",
          "Know Yourself",
          "10 Bands",
          "Energy",
          "Legend"
         ],
         "textfont": {
          "color": "white",
          "size": 9
         },
         "textposition": "top center",
         "type": "scatter",
         "x": [
          3.8387804,
          0.6181073,
          0.6087237,
          3.9156668,
          -3.8136284,
          1.5317947,
          -4.556721,
          -0.50258183,
          0.45133552,
          -0.92388403,
          -1.5324327,
          2.5871909,
          4.2345634,
          -0.6908677,
          1.3236809,
          -2.9764345,
          2.1789699
         ],
         "xaxis": "x",
         "y": [
          0.6572656,
          -6.017461,
          -2.1600673,
          5.0333695,
          1.9579518,
          8.756708,
          -5.566294,
          -2.0958645,
          -6.931458,
          6.9206142,
          -3.4724166,
          2.9307902,
          -3.6394382,
          -6.1245956,
          -7.8045955,
          -8.812521,
          -3.8687599
         ],
         "yaxis": "y"
        },
        {
         "customdata": [
          [
           "Nothing Was the Same",
           2013
          ],
          [
           "Nothing Was the Same",
           2013
          ],
          [
           "Nothing Was the Same",
           2013
          ],
          [
           "Nothing Was the Same",
           2013
          ],
          [
           "Nothing Was the Same",
           2013
          ],
          [
           "Nothing Was the Same",
           2013
          ],
          [
           "Nothing Was the Same",
           2013
          ],
          [
           "Nothing Was the Same",
           2013
          ],
          [
           "Nothing Was the Same",
           2013
          ],
          [
           "Nothing Was the Same",
           2013
          ],
          [
           "Nothing Was the Same",
           2013
          ],
          [
           "Nothing Was the Same",
           2013
          ],
          [
           "Nothing Was the Same",
           2013
          ],
          [
           "Nothing Was the Same",
           2013
          ],
          [
           "Nothing Was the Same",
           2013
          ]
         ],
         "hovertemplate": "album=%{customdata[0]}<br>Dimension 1=%{x}<br>Dimension 2=%{y}<br>title=%{text}<br>year=%{customdata[1]}<extra></extra>",
         "legendgroup": "Nothing Was the Same",
         "marker": {
          "color": "#636EFA",
          "symbol": "circle"
         },
         "mode": "markers+text",
         "name": "Nothing Was the Same",
         "orientation": "v",
         "showlegend": true,
         "text": [
          "Connect",
          "Started from the Bottom",
          "Wu-Tang Forever",
          "Own It",
          "Worst Behavior",
          "From Time",
          "Hold On, We’re Going Home",
          "The Language",
          "305 to My City",
          "Too Much",
          "Pound Cake / Paris Morton Music 2",
          "Come Thru",
          "All Me",
          "Tuscan Leather",
          "Furthest Thing"
         ],
         "textfont": {
          "color": "white",
          "size": 9
         },
         "textposition": "top center",
         "type": "scatter",
         "x": [
          -5.0683384,
          2.9806623,
          -6.0967536,
          -6.228442,
          -5.2785244,
          -0.42036656,
          3.3263311,
          -0.29922703,
          -3.2463365,
          0.21853971,
          2.161123,
          -0.44171178,
          -0.45114973,
          -0.5572437,
          2.1246963
         ],
         "xaxis": "x",
         "y": [
          2.2359042,
          -7.1072683,
          4.2523184,
          4.690817,
          -1.00308,
          2.4363394,
          7.9538903,
          -2.7426908,
          -7.5075836,
          4.2808414,
          -4.6347632,
          4.8633456,
          -3.2634144,
          -3.5718281,
          0.005386239
         ],
         "yaxis": "y"
        },
        {
         "customdata": [
          [
           "Take Care",
           2011
          ],
          [
           "Take Care",
           2011
          ],
          [
           "Take Care",
           2011
          ],
          [
           "Take Care",
           2011
          ],
          [
           "Take Care",
           2011
          ],
          [
           "Take Care",
           2011
          ],
          [
           "Take Care",
           2011
          ],
          [
           "Take Care",
           2011
          ],
          [
           "Take Care",
           2011
          ],
          [
           "Take Care",
           2011
          ],
          [
           "Take Care",
           2011
          ],
          [
           "Take Care",
           2011
          ],
          [
           "Take Care",
           2011
          ],
          [
           "Take Care",
           2011
          ],
          [
           "Take Care",
           2011
          ],
          [
           "Take Care",
           2011
          ],
          [
           "Take Care",
           2011
          ],
          [
           "Take Care",
           2011
          ],
          [
           "Take Care",
           2011
          ],
          [
           "Take Care",
           2011
          ],
          [
           "Take Care",
           2011
          ]
         ],
         "hovertemplate": "album=%{customdata[0]}<br>Dimension 1=%{x}<br>Dimension 2=%{y}<br>title=%{text}<br>year=%{customdata[1]}<extra></extra>",
         "legendgroup": "Take Care",
         "marker": {
          "color": "#EF553B",
          "symbol": "circle"
         },
         "mode": "markers+text",
         "name": "Take Care",
         "orientation": "v",
         "showlegend": true,
         "text": [
          "Doing It Wrong",
          "We’ll Be Fine",
          "Make Me Proud",
          "Shot for Me",
          "Headlines",
          "The Real Her",
          "Crew Love",
          "Take Care",
          "Marvins Room",
          "Buried Alive Interlude",
          "Under Ground Kings",
          "Lord Knows",
          "Cameras",
          "Good Ones Go (Interlude)",
          "The Motto (Remix)",
          "The Motto",
          "The Ride",
          "Practice",
          "HYFR (Hell Ya Fucking Right)",
          "Look What You’ve Done",
          "Over My Dead Body"
         ],
         "textfont": {
          "color": "white",
          "size": 9
         },
         "textposition": "top center",
         "type": "scatter",
         "x": [
          1.5124549,
          2.808443,
          -2.929747,
          0.23887715,
          1.3148918,
          -2.8547544,
          1.0942621,
          1.5210221,
          -1.4850943,
          4.772869,
          1.4987303,
          1.6022397,
          -1.3071811,
          2.331181,
          -0.99941707,
          -0.9856026,
          1.0077295,
          -1.0243962,
          -2.6825104,
          2.7036443,
          0.7082956
         ],
         "xaxis": "x",
         "y": [
          7.4858007,
          -2.7807555,
          3.442879,
          3.1939995,
          -0.5212355,
          3.52285,
          -6.601087,
          6.2680893,
          3.6672506,
          -1.9286951,
          -3.582959,
          -2.393662,
          6.2342525,
          7.3087525,
          -4.6072965,
          -4.5682325,
          -0.9429578,
          -1.6586782,
          2.9988205,
          0.77639186,
          0.17075239
         ],
         "yaxis": "y"
        },
        {
         "customdata": [
          [
           "Thank Me Later",
           2010
          ],
          [
           "Thank Me Later",
           2010
          ],
          [
           "Thank Me Later",
           2010
          ],
          [
           "Thank Me Later",
           2010
          ],
          [
           "Thank Me Later",
           2010
          ],
          [
           "Thank Me Later",
           2010
          ],
          [
           "Thank Me Later",
           2010
          ],
          [
           "Thank Me Later",
           2010
          ],
          [
           "Thank Me Later",
           2010
          ],
          [
           "Thank Me Later",
           2010
          ],
          [
           "Thank Me Later",
           2010
          ],
          [
           "Thank Me Later",
           2010
          ],
          [
           "Thank Me Later",
           2010
          ],
          [
           "Thank Me Later",
           2010
          ],
          [
           "Thank Me Later",
           2010
          ]
         ],
         "hovertemplate": "album=%{customdata[0]}<br>Dimension 1=%{x}<br>Dimension 2=%{y}<br>title=%{text}<br>year=%{customdata[1]}<extra></extra>",
         "legendgroup": "Thank Me Later",
         "marker": {
          "color": "#00CC96",
          "symbol": "circle"
         },
         "mode": "markers+text",
         "name": "Thank Me Later",
         "orientation": "v",
         "showlegend": true,
         "text": [
          "Thank Me Now",
          "Find Your Love",
          "Fireworks",
          "9AM in Dallas",
          "Miss Me",
          "Cece’s Interlude",
          "Light Up",
          "Karaoke",
          "Shut It Down",
          "Fancy",
          "Up All Night",
          "Show Me a Good Time",
          "Over",
          "The Resistance",
          "Unforgettable"
         ],
         "textfont": {
          "color": "white",
          "size": 9
         },
         "textposition": "top center",
         "type": "scatter",
         "x": [
          6.0836916,
          3.965019,
          4.249167,
          0.70780796,
          -1.0535109,
          -0.46307275,
          8.85305,
          -0.020134374,
          -3.4789402,
          -3.8769562,
          -0.49604666,
          -0.7217463,
          1.4005365,
          1.9329225,
          -1.265688
         ],
         "xaxis": "x",
         "y": [
          -0.372715,
          7.635992,
          1.9212188,
          -3.279567,
          0.18294722,
          8.360029,
          -3.455902,
          5.8364363,
          4.5599437,
          3.411925,
          -3.6441133,
          3.66185,
          -0.21695295,
          0.82681257,
          0.18516332
         ],
         "yaxis": "y"
        },
        {
         "customdata": [
          [
           "So Far Gone",
           2009
          ],
          [
           "So Far Gone",
           2009
          ],
          [
           "So Far Gone",
           2009
          ],
          [
           "So Far Gone",
           2009
          ],
          [
           "So Far Gone",
           2009
          ],
          [
           "So Far Gone",
           2009
          ],
          [
           "So Far Gone",
           2009
          ],
          [
           "So Far Gone",
           2009
          ],
          [
           "So Far Gone",
           2009
          ],
          [
           "So Far Gone",
           2009
          ],
          [
           "So Far Gone",
           2009
          ],
          [
           "So Far Gone",
           2009
          ],
          [
           "So Far Gone",
           2009
          ],
          [
           "So Far Gone",
           2009
          ],
          [
           "So Far Gone",
           2009
          ],
          [
           "So Far Gone",
           2009
          ],
          [
           "So Far Gone",
           2009
          ],
          [
           "So Far Gone",
           2009
          ]
         ],
         "hovertemplate": "album=%{customdata[0]}<br>Dimension 1=%{x}<br>Dimension 2=%{y}<br>title=%{text}<br>year=%{customdata[1]}<extra></extra>",
         "legendgroup": "So Far Gone",
         "marker": {
          "color": "#AB63FA",
          "symbol": "circle"
         },
         "mode": "markers+text",
         "name": "So Far Gone",
         "orientation": "v",
         "showlegend": true,
         "text": [
          "Best I Ever Had",
          "Brand New",
          "Outro",
          "The Calm",
          "Bria’s Interlude",
          "Sooner Than Later",
          "Uptown",
          "Unstoppable",
          "Congratulations",
          "Little Bit",
          "Say What’s Real",
          "A Night Off",
          "November 18th",
          "Let’s Call It Off",
          "Successful",
          "Houstatlantavegas",
          "Lust for Life",
          "Ignant Shit"
         ],
         "textfont": {
          "color": "white",
          "size": 9
         },
         "textposition": "top center",
         "type": "scatter",
         "x": [
          -1.7091825,
          -2.6052444,
          6.746504,
          2.0407743,
          2.9030306,
          1.5215513,
          0.4558246,
          0.35737348,
          2.0534823,
          2.5332382,
          2.12267,
          -0.27885577,
          -1.784741,
          0.8222709,
          -0.8667358,
          -3.5984359,
          1.9819981,
          1.4137614
         ],
         "xaxis": "x",
         "y": [
          1.1198251,
          6.215773,
          3.1129923,
          0.08474486,
          8.647452,
          7.552248,
          -0.8302068,
          -3.234611,
          -2.6848738,
          6.5192018,
          -1.8521426,
          8.322937,
          -2.091275,
          7.788843,
          -3.2476037,
          4.4808693,
          1.6095985,
          -3.061273
         ],
         "yaxis": "y"
        }
       ],
       "layout": {
        "height": 1000,
        "legend": {
         "font": {
          "color": "white",
          "family": "sans-serif",
          "size": 9
         },
         "title": {
          "text": "album"
         },
         "tracegroupgap": 0,
         "traceorder": "normal"
        },
        "margin": {
         "t": 60
        },
        "template": {
         "data": {
          "bar": [
           {
            "error_x": {
             "color": "#f2f5fa"
            },
            "error_y": {
             "color": "#f2f5fa"
            },
            "marker": {
             "line": {
              "color": "rgb(17,17,17)",
              "width": 0.5
             },
             "pattern": {
              "fillmode": "overlay",
              "size": 10,
              "solidity": 0.2
             }
            },
            "type": "bar"
           }
          ],
          "barpolar": [
           {
            "marker": {
             "line": {
              "color": "rgb(17,17,17)",
              "width": 0.5
             },
             "pattern": {
              "fillmode": "overlay",
              "size": 10,
              "solidity": 0.2
             }
            },
            "type": "barpolar"
           }
          ],
          "carpet": [
           {
            "aaxis": {
             "endlinecolor": "#A2B1C6",
             "gridcolor": "#506784",
             "linecolor": "#506784",
             "minorgridcolor": "#506784",
             "startlinecolor": "#A2B1C6"
            },
            "baxis": {
             "endlinecolor": "#A2B1C6",
             "gridcolor": "#506784",
             "linecolor": "#506784",
             "minorgridcolor": "#506784",
             "startlinecolor": "#A2B1C6"
            },
            "type": "carpet"
           }
          ],
          "choropleth": [
           {
            "colorbar": {
             "outlinewidth": 0,
             "ticks": ""
            },
            "type": "choropleth"
           }
          ],
          "contour": [
           {
            "colorbar": {
             "outlinewidth": 0,
             "ticks": ""
            },
            "colorscale": [
             [
              0,
              "#0d0887"
             ],
             [
              0.1111111111111111,
              "#46039f"
             ],
             [
              0.2222222222222222,
              "#7201a8"
             ],
             [
              0.3333333333333333,
              "#9c179e"
             ],
             [
              0.4444444444444444,
              "#bd3786"
             ],
             [
              0.5555555555555556,
              "#d8576b"
             ],
             [
              0.6666666666666666,
              "#ed7953"
             ],
             [
              0.7777777777777778,
              "#fb9f3a"
             ],
             [
              0.8888888888888888,
              "#fdca26"
             ],
             [
              1,
              "#f0f921"
             ]
            ],
            "type": "contour"
           }
          ],
          "contourcarpet": [
           {
            "colorbar": {
             "outlinewidth": 0,
             "ticks": ""
            },
            "type": "contourcarpet"
           }
          ],
          "heatmap": [
           {
            "colorbar": {
             "outlinewidth": 0,
             "ticks": ""
            },
            "colorscale": [
             [
              0,
              "#0d0887"
             ],
             [
              0.1111111111111111,
              "#46039f"
             ],
             [
              0.2222222222222222,
              "#7201a8"
             ],
             [
              0.3333333333333333,
              "#9c179e"
             ],
             [
              0.4444444444444444,
              "#bd3786"
             ],
             [
              0.5555555555555556,
              "#d8576b"
             ],
             [
              0.6666666666666666,
              "#ed7953"
             ],
             [
              0.7777777777777778,
              "#fb9f3a"
             ],
             [
              0.8888888888888888,
              "#fdca26"
             ],
             [
              1,
              "#f0f921"
             ]
            ],
            "type": "heatmap"
           }
          ],
          "heatmapgl": [
           {
            "colorbar": {
             "outlinewidth": 0,
             "ticks": ""
            },
            "colorscale": [
             [
              0,
              "#0d0887"
             ],
             [
              0.1111111111111111,
              "#46039f"
             ],
             [
              0.2222222222222222,
              "#7201a8"
             ],
             [
              0.3333333333333333,
              "#9c179e"
             ],
             [
              0.4444444444444444,
              "#bd3786"
             ],
             [
              0.5555555555555556,
              "#d8576b"
             ],
             [
              0.6666666666666666,
              "#ed7953"
             ],
             [
              0.7777777777777778,
              "#fb9f3a"
             ],
             [
              0.8888888888888888,
              "#fdca26"
             ],
             [
              1,
              "#f0f921"
             ]
            ],
            "type": "heatmapgl"
           }
          ],
          "histogram": [
           {
            "marker": {
             "pattern": {
              "fillmode": "overlay",
              "size": 10,
              "solidity": 0.2
             }
            },
            "type": "histogram"
           }
          ],
          "histogram2d": [
           {
            "colorbar": {
             "outlinewidth": 0,
             "ticks": ""
            },
            "colorscale": [
             [
              0,
              "#0d0887"
             ],
             [
              0.1111111111111111,
              "#46039f"
             ],
             [
              0.2222222222222222,
              "#7201a8"
             ],
             [
              0.3333333333333333,
              "#9c179e"
             ],
             [
              0.4444444444444444,
              "#bd3786"
             ],
             [
              0.5555555555555556,
              "#d8576b"
             ],
             [
              0.6666666666666666,
              "#ed7953"
             ],
             [
              0.7777777777777778,
              "#fb9f3a"
             ],
             [
              0.8888888888888888,
              "#fdca26"
             ],
             [
              1,
              "#f0f921"
             ]
            ],
            "type": "histogram2d"
           }
          ],
          "histogram2dcontour": [
           {
            "colorbar": {
             "outlinewidth": 0,
             "ticks": ""
            },
            "colorscale": [
             [
              0,
              "#0d0887"
             ],
             [
              0.1111111111111111,
              "#46039f"
             ],
             [
              0.2222222222222222,
              "#7201a8"
             ],
             [
              0.3333333333333333,
              "#9c179e"
             ],
             [
              0.4444444444444444,
              "#bd3786"
             ],
             [
              0.5555555555555556,
              "#d8576b"
             ],
             [
              0.6666666666666666,
              "#ed7953"
             ],
             [
              0.7777777777777778,
              "#fb9f3a"
             ],
             [
              0.8888888888888888,
              "#fdca26"
             ],
             [
              1,
              "#f0f921"
             ]
            ],
            "type": "histogram2dcontour"
           }
          ],
          "mesh3d": [
           {
            "colorbar": {
             "outlinewidth": 0,
             "ticks": ""
            },
            "type": "mesh3d"
           }
          ],
          "parcoords": [
           {
            "line": {
             "colorbar": {
              "outlinewidth": 0,
              "ticks": ""
             }
            },
            "type": "parcoords"
           }
          ],
          "pie": [
           {
            "automargin": true,
            "type": "pie"
           }
          ],
          "scatter": [
           {
            "marker": {
             "line": {
              "color": "#283442"
             }
            },
            "type": "scatter"
           }
          ],
          "scatter3d": [
           {
            "line": {
             "colorbar": {
              "outlinewidth": 0,
              "ticks": ""
             }
            },
            "marker": {
             "colorbar": {
              "outlinewidth": 0,
              "ticks": ""
             }
            },
            "type": "scatter3d"
           }
          ],
          "scattercarpet": [
           {
            "marker": {
             "colorbar": {
              "outlinewidth": 0,
              "ticks": ""
             }
            },
            "type": "scattercarpet"
           }
          ],
          "scattergeo": [
           {
            "marker": {
             "colorbar": {
              "outlinewidth": 0,
              "ticks": ""
             }
            },
            "type": "scattergeo"
           }
          ],
          "scattergl": [
           {
            "marker": {
             "line": {
              "color": "#283442"
             }
            },
            "type": "scattergl"
           }
          ],
          "scattermapbox": [
           {
            "marker": {
             "colorbar": {
              "outlinewidth": 0,
              "ticks": ""
             }
            },
            "type": "scattermapbox"
           }
          ],
          "scatterpolar": [
           {
            "marker": {
             "colorbar": {
              "outlinewidth": 0,
              "ticks": ""
             }
            },
            "type": "scatterpolar"
           }
          ],
          "scatterpolargl": [
           {
            "marker": {
             "colorbar": {
              "outlinewidth": 0,
              "ticks": ""
             }
            },
            "type": "scatterpolargl"
           }
          ],
          "scatterternary": [
           {
            "marker": {
             "colorbar": {
              "outlinewidth": 0,
              "ticks": ""
             }
            },
            "type": "scatterternary"
           }
          ],
          "surface": [
           {
            "colorbar": {
             "outlinewidth": 0,
             "ticks": ""
            },
            "colorscale": [
             [
              0,
              "#0d0887"
             ],
             [
              0.1111111111111111,
              "#46039f"
             ],
             [
              0.2222222222222222,
              "#7201a8"
             ],
             [
              0.3333333333333333,
              "#9c179e"
             ],
             [
              0.4444444444444444,
              "#bd3786"
             ],
             [
              0.5555555555555556,
              "#d8576b"
             ],
             [
              0.6666666666666666,
              "#ed7953"
             ],
             [
              0.7777777777777778,
              "#fb9f3a"
             ],
             [
              0.8888888888888888,
              "#fdca26"
             ],
             [
              1,
              "#f0f921"
             ]
            ],
            "type": "surface"
           }
          ],
          "table": [
           {
            "cells": {
             "fill": {
              "color": "#506784"
             },
             "line": {
              "color": "rgb(17,17,17)"
             }
            },
            "header": {
             "fill": {
              "color": "#2a3f5f"
             },
             "line": {
              "color": "rgb(17,17,17)"
             }
            },
            "type": "table"
           }
          ]
         },
         "layout": {
          "annotationdefaults": {
           "arrowcolor": "#f2f5fa",
           "arrowhead": 0,
           "arrowwidth": 1
          },
          "autotypenumbers": "strict",
          "coloraxis": {
           "colorbar": {
            "outlinewidth": 0,
            "ticks": ""
           }
          },
          "colorscale": {
           "diverging": [
            [
             0,
             "#8e0152"
            ],
            [
             0.1,
             "#c51b7d"
            ],
            [
             0.2,
             "#de77ae"
            ],
            [
             0.3,
             "#f1b6da"
            ],
            [
             0.4,
             "#fde0ef"
            ],
            [
             0.5,
             "#f7f7f7"
            ],
            [
             0.6,
             "#e6f5d0"
            ],
            [
             0.7,
             "#b8e186"
            ],
            [
             0.8,
             "#7fbc41"
            ],
            [
             0.9,
             "#4d9221"
            ],
            [
             1,
             "#276419"
            ]
           ],
           "sequential": [
            [
             0,
             "#0d0887"
            ],
            [
             0.1111111111111111,
             "#46039f"
            ],
            [
             0.2222222222222222,
             "#7201a8"
            ],
            [
             0.3333333333333333,
             "#9c179e"
            ],
            [
             0.4444444444444444,
             "#bd3786"
            ],
            [
             0.5555555555555556,
             "#d8576b"
            ],
            [
             0.6666666666666666,
             "#ed7953"
            ],
            [
             0.7777777777777778,
             "#fb9f3a"
            ],
            [
             0.8888888888888888,
             "#fdca26"
            ],
            [
             1,
             "#f0f921"
            ]
           ],
           "sequentialminus": [
            [
             0,
             "#0d0887"
            ],
            [
             0.1111111111111111,
             "#46039f"
            ],
            [
             0.2222222222222222,
             "#7201a8"
            ],
            [
             0.3333333333333333,
             "#9c179e"
            ],
            [
             0.4444444444444444,
             "#bd3786"
            ],
            [
             0.5555555555555556,
             "#d8576b"
            ],
            [
             0.6666666666666666,
             "#ed7953"
            ],
            [
             0.7777777777777778,
             "#fb9f3a"
            ],
            [
             0.8888888888888888,
             "#fdca26"
            ],
            [
             1,
             "#f0f921"
            ]
           ]
          },
          "colorway": [
           "#636efa",
           "#EF553B",
           "#00cc96",
           "#ab63fa",
           "#FFA15A",
           "#19d3f3",
           "#FF6692",
           "#B6E880",
           "#FF97FF",
           "#FECB52"
          ],
          "font": {
           "color": "#f2f5fa"
          },
          "geo": {
           "bgcolor": "rgb(17,17,17)",
           "lakecolor": "rgb(17,17,17)",
           "landcolor": "rgb(17,17,17)",
           "showlakes": true,
           "showland": true,
           "subunitcolor": "#506784"
          },
          "hoverlabel": {
           "align": "left"
          },
          "hovermode": "closest",
          "mapbox": {
           "style": "dark"
          },
          "paper_bgcolor": "rgb(17,17,17)",
          "plot_bgcolor": "rgb(17,17,17)",
          "polar": {
           "angularaxis": {
            "gridcolor": "#506784",
            "linecolor": "#506784",
            "ticks": ""
           },
           "bgcolor": "rgb(17,17,17)",
           "radialaxis": {
            "gridcolor": "#506784",
            "linecolor": "#506784",
            "ticks": ""
           }
          },
          "scene": {
           "xaxis": {
            "backgroundcolor": "rgb(17,17,17)",
            "gridcolor": "#506784",
            "gridwidth": 2,
            "linecolor": "#506784",
            "showbackground": true,
            "ticks": "",
            "zerolinecolor": "#C8D4E3"
           },
           "yaxis": {
            "backgroundcolor": "rgb(17,17,17)",
            "gridcolor": "#506784",
            "gridwidth": 2,
            "linecolor": "#506784",
            "showbackground": true,
            "ticks": "",
            "zerolinecolor": "#C8D4E3"
           },
           "zaxis": {
            "backgroundcolor": "rgb(17,17,17)",
            "gridcolor": "#506784",
            "gridwidth": 2,
            "linecolor": "#506784",
            "showbackground": true,
            "ticks": "",
            "zerolinecolor": "#C8D4E3"
           }
          },
          "shapedefaults": {
           "line": {
            "color": "#f2f5fa"
           }
          },
          "sliderdefaults": {
           "bgcolor": "#C8D4E3",
           "bordercolor": "rgb(17,17,17)",
           "borderwidth": 1,
           "tickwidth": 0
          },
          "ternary": {
           "aaxis": {
            "gridcolor": "#506784",
            "linecolor": "#506784",
            "ticks": ""
           },
           "baxis": {
            "gridcolor": "#506784",
            "linecolor": "#506784",
            "ticks": ""
           },
           "bgcolor": "rgb(17,17,17)",
           "caxis": {
            "gridcolor": "#506784",
            "linecolor": "#506784",
            "ticks": ""
           }
          },
          "title": {
           "x": 0.05
          },
          "updatemenudefaults": {
           "bgcolor": "#506784",
           "borderwidth": 0
          },
          "xaxis": {
           "automargin": true,
           "gridcolor": "#283442",
           "linecolor": "#506784",
           "ticks": "",
           "title": {
            "standoff": 15
           },
           "zerolinecolor": "#283442",
           "zerolinewidth": 2
          },
          "yaxis": {
           "automargin": true,
           "gridcolor": "#283442",
           "linecolor": "#506784",
           "ticks": "",
           "title": {
            "standoff": 15
           },
           "zerolinecolor": "#283442",
           "zerolinewidth": 2
          }
         }
        },
        "title": {
         "text": "Lyrical Similarity Between Drake Songs",
         "x": 0.5
        },
        "width": 1200,
        "xaxis": {
         "anchor": "y",
         "domain": [
          0,
          1
         ],
         "range": [
          -8.639249801635742,
          10.853050231933594
         ],
         "showticklabels": false,
         "title": {
          "text": ""
         }
        },
        "yaxis": {
         "anchor": "x",
         "domain": [
          0,
          1
         ],
         "range": [
          -9.312520980834961,
          11.553647994995117
         ],
         "showticklabels": false,
         "title": {
          "text": ""
         }
        }
       }
      }
     },
     "metadata": {},
     "output_type": "display_data"
    }
   ],
   "source": [
    "from plotly import express as px\n",
    "\n",
    "# Step 1: Sort albums by release year and create a color map\n",
    "unique_albums = song_embeddings_df['album'].unique()\n",
    "album_years = {album: song_embeddings_df[song_embeddings_df['album']==album]['year'].iloc[0] for album in unique_albums}\n",
    "sorted_albums = sorted(album_years.keys(), key=lambda x: album_years[x])\n",
    "\n",
    "colors = px.colors.qualitative.Plotly  # You can choose a color palette that fits your needs\n",
    "album_color_map = {album: colors[i % len(colors)] for i, album in enumerate(sorted_albums)}\n",
    "\n",
    "# Step 2: Map the color assignments back to the DataFrame\n",
    "song_embeddings_df['color'] = song_embeddings_df['album'].map(album_color_map)\n",
    "\n",
    "# Initialize the scatter plot\n",
    "fig = px.scatter(\n",
    "    song_embeddings_df,\n",
    "    x='Dimension 1',\n",
    "    y='Dimension 2',\n",
    "    text='title',\n",
    "    color='album',\n",
    "    color_discrete_sequence=[album_color_map[album] for album in sorted_albums],\n",
    "    hover_data=['album', 'year'],\n",
    ")\n",
    "\n",
    "# Calculate the axis ranges dynamically\n",
    "x_min = song_embeddings_df['Dimension 1'].min() - 2\n",
    "x_max = song_embeddings_df['Dimension 1'].max() + 2\n",
    "y_min = song_embeddings_df['Dimension 2'].min() - 0.5\n",
    "y_max = song_embeddings_df['Dimension 2'].max() + 0.5\n",
    "\n",
    "# Apply all updates to the plot\n",
    "fig.update_layout(\n",
    "    width=1200,\n",
    "    height=1000,\n",
    "    title_text='Lyrical Similarity Between Drake Songs',\n",
    "    title_x=0.5,\n",
    "    xaxis=dict(range=[x_min, x_max], showticklabels=False, title=''),\n",
    "    yaxis=dict(range=[y_min, y_max], showticklabels=False, title=''),\n",
    "    legend=dict(\n",
    "        traceorder=\"normal\",\n",
    "        font=dict(\n",
    "            family=\"sans-serif\",\n",
    "            size=9,  # Text size\n",
    "            color=\"white\"  # Text color\n",
    "        )\n",
    "    )\n",
    ")\n",
    "\n",
    "\n",
    "# Update trace properties\n",
    "fig.update_traces(textposition='top center', textfont=dict(color=\"white\", size=9))\n",
    "\n",
    "\n",
    "# Display the updated plot\n",
    "fig.show()\n"
   ]
  },
  {
   "cell_type": "markdown",
   "metadata": {},
   "source": [
    "## For all the dogs"
   ]
  },
  {
   "cell_type": "code",
   "execution_count": 113,
   "metadata": {},
   "outputs": [
    {
     "data": {
      "text/html": [
       "<div>\n",
       "<style scoped>\n",
       "    .dataframe tbody tr th:only-of-type {\n",
       "        vertical-align: middle;\n",
       "    }\n",
       "\n",
       "    .dataframe tbody tr th {\n",
       "        vertical-align: top;\n",
       "    }\n",
       "\n",
       "    .dataframe thead th {\n",
       "        text-align: right;\n",
       "    }\n",
       "</style>\n",
       "<table border=\"1\" class=\"dataframe\">\n",
       "  <thead>\n",
       "    <tr style=\"text-align: right;\">\n",
       "      <th></th>\n",
       "      <th>Dimension 1</th>\n",
       "      <th>Dimension 2</th>\n",
       "      <th>title</th>\n",
       "    </tr>\n",
       "  </thead>\n",
       "  <tbody>\n",
       "    <tr>\n",
       "      <th>0</th>\n",
       "      <td>-9.782958</td>\n",
       "      <td>18.513693</td>\n",
       "      <td>Virginia Beach</td>\n",
       "    </tr>\n",
       "    <tr>\n",
       "      <th>1</th>\n",
       "      <td>24.111506</td>\n",
       "      <td>30.840143</td>\n",
       "      <td>Amen</td>\n",
       "    </tr>\n",
       "    <tr>\n",
       "      <th>2</th>\n",
       "      <td>29.857950</td>\n",
       "      <td>-0.703904</td>\n",
       "      <td>Calling For You</td>\n",
       "    </tr>\n",
       "    <tr>\n",
       "      <th>3</th>\n",
       "      <td>18.330439</td>\n",
       "      <td>-14.833846</td>\n",
       "      <td>Fear Of Heights</td>\n",
       "    </tr>\n",
       "    <tr>\n",
       "      <th>4</th>\n",
       "      <td>7.720140</td>\n",
       "      <td>3.040021</td>\n",
       "      <td>Daylight</td>\n",
       "    </tr>\n",
       "  </tbody>\n",
       "</table>\n",
       "</div>"
      ],
      "text/plain": [
       "   Dimension 1  Dimension 2            title\n",
       "0    -9.782958    18.513693   Virginia Beach\n",
       "1    24.111506    30.840143             Amen\n",
       "2    29.857950    -0.703904  Calling For You\n",
       "3    18.330439   -14.833846  Fear Of Heights\n",
       "4     7.720140     3.040021         Daylight"
      ]
     },
     "execution_count": 113,
     "metadata": {},
     "output_type": "execute_result"
    }
   ],
   "source": [
    "fatd = drake_df.loc[drake_df['album'] == 'For All The Dogs'].reset_index(drop=True)\n",
    "# Convert the embeddings column of lists to a 2D numpy array\n",
    "embeddings = fatd['embedding'].tolist()\n",
    "embeddings_array = np.array(embeddings)\n",
    "\n",
    "# Apply t-SNE transformation\n",
    "tsne = TSNE(n_components=2, perplexity=10, n_iter=300, random_state=42)\n",
    "embeddings_2d = tsne.fit_transform(embeddings_array)\n",
    "\n",
    "embeddings_df = pd.DataFrame(data=embeddings_2d, columns=['Dimension 1', 'Dimension 2'])\n",
    "#Join the 'title' column from fatd to the embeddings_df dataframe\n",
    "embeddings_df['title'] = fatd['title']\n",
    "embeddings_df.head()"
   ]
  },
  {
   "cell_type": "code",
   "execution_count": 130,
   "metadata": {},
   "outputs": [
    {
     "data": {
      "application/vnd.plotly.v1+json": {
       "config": {
        "plotlyServerURL": "https://plot.ly"
       },
       "data": [
        {
         "hovertemplate": "Dimension 2=%{x}<br>Dimension 1=%{y}<br>title=%{text}<extra></extra>",
         "legendgroup": "",
         "marker": {
          "color": "#636efa",
          "symbol": "circle"
         },
         "mode": "markers+text",
         "name": "",
         "orientation": "v",
         "showlegend": false,
         "text": [
          "Virginia Beach",
          "Amen",
          "Calling For You",
          "Fear Of Heights",
          "Daylight",
          "First Person Shooter",
          "IDGAF",
          "7969 Santa",
          "Slime You Out",
          "Bahamas Promises",
          "Tried Our Best",
          "Screw The World (Interlude)",
          "Drew A Picasso",
          "Members Only",
          "What Would Pluto Do",
          "All The Parties",
          "8am in Charlotte",
          "BBL Love (Interlude)",
          "Gently",
          "Rich Baby Daddy",
          "Another Late Night",
          "Away From Home",
          "Polar Opposites"
         ],
         "textposition": "top center",
         "type": "scatter",
         "x": [
          18.513693,
          30.840143,
          -0.70390373,
          -14.833846,
          3.0400212,
          -8.735154,
          1.8481832,
          14.8389225,
          20.037327,
          33.17617,
          12.332506,
          -0.99042845,
          12.481415,
          -5.5840597,
          17.596014,
          -7.3490496,
          -15.669398,
          -8.92104,
          9.256666,
          -13.251563,
          5.0509076,
          -23.507576,
          -10.488851
         ],
         "xaxis": "x",
         "y": [
          -9.782958,
          24.111506,
          29.85795,
          18.330439,
          7.7201405,
          -17.808401,
          16.971972,
          19.171572,
          5.2200317,
          6.7178125,
          -1.9470146,
          -7.0521464,
          6.236281,
          9.413131,
          -21.99601,
          24.451462,
          -8.476963,
          38.543858,
          43.012806,
          2.2161574,
          25.248999,
          28.44942,
          53.4191
         ],
         "yaxis": "y"
        }
       ],
       "layout": {
        "height": 800,
        "images": [
         {
          "layer": "below",
          "opacity": 0.5,
          "sizex": 1,
          "sizey": 1,
          "source": "https://images.genius.com/2974a46656bda32e9b44227708b9d3df.300x300x1.png",
          "x": 0,
          "xanchor": "left",
          "xref": "paper",
          "y": 1,
          "yanchor": "top",
          "yref": "paper"
         }
        ],
        "legend": {
         "tracegroupgap": 0
        },
        "margin": {
         "t": 60
        },
        "template": {
         "data": {
          "bar": [
           {
            "error_x": {
             "color": "#f2f5fa"
            },
            "error_y": {
             "color": "#f2f5fa"
            },
            "marker": {
             "line": {
              "color": "rgb(17,17,17)",
              "width": 0.5
             },
             "pattern": {
              "fillmode": "overlay",
              "size": 10,
              "solidity": 0.2
             }
            },
            "type": "bar"
           }
          ],
          "barpolar": [
           {
            "marker": {
             "line": {
              "color": "rgb(17,17,17)",
              "width": 0.5
             },
             "pattern": {
              "fillmode": "overlay",
              "size": 10,
              "solidity": 0.2
             }
            },
            "type": "barpolar"
           }
          ],
          "carpet": [
           {
            "aaxis": {
             "endlinecolor": "#A2B1C6",
             "gridcolor": "#506784",
             "linecolor": "#506784",
             "minorgridcolor": "#506784",
             "startlinecolor": "#A2B1C6"
            },
            "baxis": {
             "endlinecolor": "#A2B1C6",
             "gridcolor": "#506784",
             "linecolor": "#506784",
             "minorgridcolor": "#506784",
             "startlinecolor": "#A2B1C6"
            },
            "type": "carpet"
           }
          ],
          "choropleth": [
           {
            "colorbar": {
             "outlinewidth": 0,
             "ticks": ""
            },
            "type": "choropleth"
           }
          ],
          "contour": [
           {
            "colorbar": {
             "outlinewidth": 0,
             "ticks": ""
            },
            "colorscale": [
             [
              0,
              "#0d0887"
             ],
             [
              0.1111111111111111,
              "#46039f"
             ],
             [
              0.2222222222222222,
              "#7201a8"
             ],
             [
              0.3333333333333333,
              "#9c179e"
             ],
             [
              0.4444444444444444,
              "#bd3786"
             ],
             [
              0.5555555555555556,
              "#d8576b"
             ],
             [
              0.6666666666666666,
              "#ed7953"
             ],
             [
              0.7777777777777778,
              "#fb9f3a"
             ],
             [
              0.8888888888888888,
              "#fdca26"
             ],
             [
              1,
              "#f0f921"
             ]
            ],
            "type": "contour"
           }
          ],
          "contourcarpet": [
           {
            "colorbar": {
             "outlinewidth": 0,
             "ticks": ""
            },
            "type": "contourcarpet"
           }
          ],
          "heatmap": [
           {
            "colorbar": {
             "outlinewidth": 0,
             "ticks": ""
            },
            "colorscale": [
             [
              0,
              "#0d0887"
             ],
             [
              0.1111111111111111,
              "#46039f"
             ],
             [
              0.2222222222222222,
              "#7201a8"
             ],
             [
              0.3333333333333333,
              "#9c179e"
             ],
             [
              0.4444444444444444,
              "#bd3786"
             ],
             [
              0.5555555555555556,
              "#d8576b"
             ],
             [
              0.6666666666666666,
              "#ed7953"
             ],
             [
              0.7777777777777778,
              "#fb9f3a"
             ],
             [
              0.8888888888888888,
              "#fdca26"
             ],
             [
              1,
              "#f0f921"
             ]
            ],
            "type": "heatmap"
           }
          ],
          "heatmapgl": [
           {
            "colorbar": {
             "outlinewidth": 0,
             "ticks": ""
            },
            "colorscale": [
             [
              0,
              "#0d0887"
             ],
             [
              0.1111111111111111,
              "#46039f"
             ],
             [
              0.2222222222222222,
              "#7201a8"
             ],
             [
              0.3333333333333333,
              "#9c179e"
             ],
             [
              0.4444444444444444,
              "#bd3786"
             ],
             [
              0.5555555555555556,
              "#d8576b"
             ],
             [
              0.6666666666666666,
              "#ed7953"
             ],
             [
              0.7777777777777778,
              "#fb9f3a"
             ],
             [
              0.8888888888888888,
              "#fdca26"
             ],
             [
              1,
              "#f0f921"
             ]
            ],
            "type": "heatmapgl"
           }
          ],
          "histogram": [
           {
            "marker": {
             "pattern": {
              "fillmode": "overlay",
              "size": 10,
              "solidity": 0.2
             }
            },
            "type": "histogram"
           }
          ],
          "histogram2d": [
           {
            "colorbar": {
             "outlinewidth": 0,
             "ticks": ""
            },
            "colorscale": [
             [
              0,
              "#0d0887"
             ],
             [
              0.1111111111111111,
              "#46039f"
             ],
             [
              0.2222222222222222,
              "#7201a8"
             ],
             [
              0.3333333333333333,
              "#9c179e"
             ],
             [
              0.4444444444444444,
              "#bd3786"
             ],
             [
              0.5555555555555556,
              "#d8576b"
             ],
             [
              0.6666666666666666,
              "#ed7953"
             ],
             [
              0.7777777777777778,
              "#fb9f3a"
             ],
             [
              0.8888888888888888,
              "#fdca26"
             ],
             [
              1,
              "#f0f921"
             ]
            ],
            "type": "histogram2d"
           }
          ],
          "histogram2dcontour": [
           {
            "colorbar": {
             "outlinewidth": 0,
             "ticks": ""
            },
            "colorscale": [
             [
              0,
              "#0d0887"
             ],
             [
              0.1111111111111111,
              "#46039f"
             ],
             [
              0.2222222222222222,
              "#7201a8"
             ],
             [
              0.3333333333333333,
              "#9c179e"
             ],
             [
              0.4444444444444444,
              "#bd3786"
             ],
             [
              0.5555555555555556,
              "#d8576b"
             ],
             [
              0.6666666666666666,
              "#ed7953"
             ],
             [
              0.7777777777777778,
              "#fb9f3a"
             ],
             [
              0.8888888888888888,
              "#fdca26"
             ],
             [
              1,
              "#f0f921"
             ]
            ],
            "type": "histogram2dcontour"
           }
          ],
          "mesh3d": [
           {
            "colorbar": {
             "outlinewidth": 0,
             "ticks": ""
            },
            "type": "mesh3d"
           }
          ],
          "parcoords": [
           {
            "line": {
             "colorbar": {
              "outlinewidth": 0,
              "ticks": ""
             }
            },
            "type": "parcoords"
           }
          ],
          "pie": [
           {
            "automargin": true,
            "type": "pie"
           }
          ],
          "scatter": [
           {
            "marker": {
             "line": {
              "color": "#283442"
             }
            },
            "type": "scatter"
           }
          ],
          "scatter3d": [
           {
            "line": {
             "colorbar": {
              "outlinewidth": 0,
              "ticks": ""
             }
            },
            "marker": {
             "colorbar": {
              "outlinewidth": 0,
              "ticks": ""
             }
            },
            "type": "scatter3d"
           }
          ],
          "scattercarpet": [
           {
            "marker": {
             "colorbar": {
              "outlinewidth": 0,
              "ticks": ""
             }
            },
            "type": "scattercarpet"
           }
          ],
          "scattergeo": [
           {
            "marker": {
             "colorbar": {
              "outlinewidth": 0,
              "ticks": ""
             }
            },
            "type": "scattergeo"
           }
          ],
          "scattergl": [
           {
            "marker": {
             "line": {
              "color": "#283442"
             }
            },
            "type": "scattergl"
           }
          ],
          "scattermapbox": [
           {
            "marker": {
             "colorbar": {
              "outlinewidth": 0,
              "ticks": ""
             }
            },
            "type": "scattermapbox"
           }
          ],
          "scatterpolar": [
           {
            "marker": {
             "colorbar": {
              "outlinewidth": 0,
              "ticks": ""
             }
            },
            "type": "scatterpolar"
           }
          ],
          "scatterpolargl": [
           {
            "marker": {
             "colorbar": {
              "outlinewidth": 0,
              "ticks": ""
             }
            },
            "type": "scatterpolargl"
           }
          ],
          "scatterternary": [
           {
            "marker": {
             "colorbar": {
              "outlinewidth": 0,
              "ticks": ""
             }
            },
            "type": "scatterternary"
           }
          ],
          "surface": [
           {
            "colorbar": {
             "outlinewidth": 0,
             "ticks": ""
            },
            "colorscale": [
             [
              0,
              "#0d0887"
             ],
             [
              0.1111111111111111,
              "#46039f"
             ],
             [
              0.2222222222222222,
              "#7201a8"
             ],
             [
              0.3333333333333333,
              "#9c179e"
             ],
             [
              0.4444444444444444,
              "#bd3786"
             ],
             [
              0.5555555555555556,
              "#d8576b"
             ],
             [
              0.6666666666666666,
              "#ed7953"
             ],
             [
              0.7777777777777778,
              "#fb9f3a"
             ],
             [
              0.8888888888888888,
              "#fdca26"
             ],
             [
              1,
              "#f0f921"
             ]
            ],
            "type": "surface"
           }
          ],
          "table": [
           {
            "cells": {
             "fill": {
              "color": "#506784"
             },
             "line": {
              "color": "rgb(17,17,17)"
             }
            },
            "header": {
             "fill": {
              "color": "#2a3f5f"
             },
             "line": {
              "color": "rgb(17,17,17)"
             }
            },
            "type": "table"
           }
          ]
         },
         "layout": {
          "annotationdefaults": {
           "arrowcolor": "#f2f5fa",
           "arrowhead": 0,
           "arrowwidth": 1
          },
          "autotypenumbers": "strict",
          "coloraxis": {
           "colorbar": {
            "outlinewidth": 0,
            "ticks": ""
           }
          },
          "colorscale": {
           "diverging": [
            [
             0,
             "#8e0152"
            ],
            [
             0.1,
             "#c51b7d"
            ],
            [
             0.2,
             "#de77ae"
            ],
            [
             0.3,
             "#f1b6da"
            ],
            [
             0.4,
             "#fde0ef"
            ],
            [
             0.5,
             "#f7f7f7"
            ],
            [
             0.6,
             "#e6f5d0"
            ],
            [
             0.7,
             "#b8e186"
            ],
            [
             0.8,
             "#7fbc41"
            ],
            [
             0.9,
             "#4d9221"
            ],
            [
             1,
             "#276419"
            ]
           ],
           "sequential": [
            [
             0,
             "#0d0887"
            ],
            [
             0.1111111111111111,
             "#46039f"
            ],
            [
             0.2222222222222222,
             "#7201a8"
            ],
            [
             0.3333333333333333,
             "#9c179e"
            ],
            [
             0.4444444444444444,
             "#bd3786"
            ],
            [
             0.5555555555555556,
             "#d8576b"
            ],
            [
             0.6666666666666666,
             "#ed7953"
            ],
            [
             0.7777777777777778,
             "#fb9f3a"
            ],
            [
             0.8888888888888888,
             "#fdca26"
            ],
            [
             1,
             "#f0f921"
            ]
           ],
           "sequentialminus": [
            [
             0,
             "#0d0887"
            ],
            [
             0.1111111111111111,
             "#46039f"
            ],
            [
             0.2222222222222222,
             "#7201a8"
            ],
            [
             0.3333333333333333,
             "#9c179e"
            ],
            [
             0.4444444444444444,
             "#bd3786"
            ],
            [
             0.5555555555555556,
             "#d8576b"
            ],
            [
             0.6666666666666666,
             "#ed7953"
            ],
            [
             0.7777777777777778,
             "#fb9f3a"
            ],
            [
             0.8888888888888888,
             "#fdca26"
            ],
            [
             1,
             "#f0f921"
            ]
           ]
          },
          "colorway": [
           "#636efa",
           "#EF553B",
           "#00cc96",
           "#ab63fa",
           "#FFA15A",
           "#19d3f3",
           "#FF6692",
           "#B6E880",
           "#FF97FF",
           "#FECB52"
          ],
          "font": {
           "color": "#f2f5fa"
          },
          "geo": {
           "bgcolor": "rgb(17,17,17)",
           "lakecolor": "rgb(17,17,17)",
           "landcolor": "rgb(17,17,17)",
           "showlakes": true,
           "showland": true,
           "subunitcolor": "#506784"
          },
          "hoverlabel": {
           "align": "left"
          },
          "hovermode": "closest",
          "mapbox": {
           "style": "dark"
          },
          "paper_bgcolor": "rgb(17,17,17)",
          "plot_bgcolor": "rgb(17,17,17)",
          "polar": {
           "angularaxis": {
            "gridcolor": "#506784",
            "linecolor": "#506784",
            "ticks": ""
           },
           "bgcolor": "rgb(17,17,17)",
           "radialaxis": {
            "gridcolor": "#506784",
            "linecolor": "#506784",
            "ticks": ""
           }
          },
          "scene": {
           "xaxis": {
            "backgroundcolor": "rgb(17,17,17)",
            "gridcolor": "#506784",
            "gridwidth": 2,
            "linecolor": "#506784",
            "showbackground": true,
            "ticks": "",
            "zerolinecolor": "#C8D4E3"
           },
           "yaxis": {
            "backgroundcolor": "rgb(17,17,17)",
            "gridcolor": "#506784",
            "gridwidth": 2,
            "linecolor": "#506784",
            "showbackground": true,
            "ticks": "",
            "zerolinecolor": "#C8D4E3"
           },
           "zaxis": {
            "backgroundcolor": "rgb(17,17,17)",
            "gridcolor": "#506784",
            "gridwidth": 2,
            "linecolor": "#506784",
            "showbackground": true,
            "ticks": "",
            "zerolinecolor": "#C8D4E3"
           }
          },
          "shapedefaults": {
           "line": {
            "color": "#f2f5fa"
           }
          },
          "sliderdefaults": {
           "bgcolor": "#C8D4E3",
           "bordercolor": "rgb(17,17,17)",
           "borderwidth": 1,
           "tickwidth": 0
          },
          "ternary": {
           "aaxis": {
            "gridcolor": "#506784",
            "linecolor": "#506784",
            "ticks": ""
           },
           "baxis": {
            "gridcolor": "#506784",
            "linecolor": "#506784",
            "ticks": ""
           },
           "bgcolor": "rgb(17,17,17)",
           "caxis": {
            "gridcolor": "#506784",
            "linecolor": "#506784",
            "ticks": ""
           }
          },
          "title": {
           "x": 0.05
          },
          "updatemenudefaults": {
           "bgcolor": "#506784",
           "borderwidth": 0
          },
          "xaxis": {
           "automargin": true,
           "gridcolor": "#283442",
           "linecolor": "#506784",
           "ticks": "",
           "title": {
            "standoff": 15
           },
           "zerolinecolor": "#283442",
           "zerolinewidth": 2
          },
          "yaxis": {
           "automargin": true,
           "gridcolor": "#283442",
           "linecolor": "#506784",
           "ticks": "",
           "title": {
            "standoff": 15
           },
           "zerolinecolor": "#283442",
           "zerolinewidth": 2
          }
         }
        },
        "title": {
         "text": "Lyrical Similarity for Songs on \"For All The Dogs\"",
         "x": 0.5
        },
        "width": 800,
        "xaxis": {
         "anchor": "y",
         "domain": [
          0,
          1
         ],
         "range": [
          -30.50757598876953,
          40.176170349121094
         ],
         "showticklabels": false,
         "title": {
          "text": ""
         }
        },
        "yaxis": {
         "anchor": "x",
         "domain": [
          0,
          1
         ],
         "range": [
          -22.496009826660156,
          56.41910171508789
         ],
         "showticklabels": false,
         "title": {
          "text": ""
         }
        }
       }
      }
     },
     "metadata": {},
     "output_type": "display_data"
    }
   ],
   "source": [
    "#Show the scatter plot\n",
    "fig = px.scatter(embeddings_df, x='Dimension 2', y='Dimension 1', text='title')\n",
    "\n",
    "# Calculate the axis ranges dynamically\n",
    "x_min = embeddings_df['Dimension 2'].min() - 7\n",
    "x_max = embeddings_df['Dimension 2'].max() + 7\n",
    "y_min = embeddings_df['Dimension 1'].min() - 0.5\n",
    "y_max = embeddings_df['Dimension 1'].max() + 3\n",
    "\n",
    "# Remove axis labels and numbers\n",
    "fig.update_xaxes(title_text='', showticklabels=False)\n",
    "fig.update_yaxes(title_text='', showticklabels=False)\n",
    "\n",
    "# Move text labels above the dots\n",
    "fig.update_traces(textposition='top center')\n",
    "\n",
    "# Add a title\n",
    "fig.update_layout(title_text='Lyrical Similarity for Songs on \"For All The Dogs\"',\n",
    "                  width=800,\n",
    "                  height=800,\n",
    "                  title_x=0.5,\n",
    "                  xaxis=dict(range=[x_min, x_max]),\n",
    "                  yaxis=dict(range=[y_min, y_max])\n",
    "\n",
    ")\n",
    "#Add a background picture to the plot\n",
    "fig.add_layout_image(\n",
    "    dict(\n",
    "        source = fatd['song_art_image_thumbnail_url'][0],\n",
    "              xref=\"paper\",\n",
    "        yref=\"paper\",\n",
    "        x=0,\n",
    "        y=1,\n",
    "        sizex=1,\n",
    "        sizey=1,\n",
    "        xanchor=\"left\",\n",
    "        yanchor=\"top\",\n",
    "        opacity=0.5,\n",
    "        layer=\"below\"\n",
    "    )\n",
    ")\n",
    "\n",
    "# Show the plot\n",
    "fig.show()"
   ]
  },
  {
   "cell_type": "code",
   "execution_count": null,
   "metadata": {},
   "outputs": [],
   "source": []
  }
 ],
 "metadata": {
  "kernelspec": {
   "display_name": "base",
   "language": "python",
   "name": "python3"
  },
  "language_info": {
   "codemirror_mode": {
    "name": "ipython",
    "version": 3
   },
   "file_extension": ".py",
   "mimetype": "text/x-python",
   "name": "python",
   "nbconvert_exporter": "python",
   "pygments_lexer": "ipython3",
   "version": "3.8.5"
  }
 },
 "nbformat": 4,
 "nbformat_minor": 2
}
